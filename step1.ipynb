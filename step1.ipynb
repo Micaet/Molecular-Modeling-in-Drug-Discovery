{
 "cells": [
  {
   "cell_type": "markdown",
   "metadata": {},
   "source": [
    "<h1>Step 1: ligand and protein selection and preparation</h1>"
   ]
  },
  {
   "cell_type": "markdown",
   "metadata": {},
   "source": [
    "**Choosing the protein**\n",
    "\n",
    "For this project we have chosen the 5cno protein which can be downloaded at: <br>\n",
    "https://www.rcsb.org/structure/5CNO <br>\n",
    "The protein is saved in this repo as 5cno.pdb.\n",
    "Using PyMOL we have removed solvent, removed organic and added hydrogens. \n",
    "The prepared 5cno is saved in this repo as 5cno_prepared.pdb. \n",
    "\n",
    "**Choosing the ligand library**\n",
    "\n",
    "We have chosen the ligand library available for download at: <br>\n",
    "https://enamine.net/compound-libraries/targeted-libraries/kinase-library <br>\n",
    "The zipped ligand library is saved in this repo as Enamine_Kinase_Library_plated.zip.\n",
    "Due to limitations of our personal hardware we have randomly chosen 10k ligands using the sampling.py script\n",
    "and saved the output as sampled_ligands.sdf. <br>\n",
    "\n",
    "**Importing necessary libraries**"
   ]
  },
  {
   "cell_type": "code",
   "execution_count": 8,
   "metadata": {},
   "outputs": [],
   "source": [
    "from rdkit import Chem\n",
    "from rdkit.Chem import AllChem, rdMolDescriptors\n",
    "from rdkit.Chem.rdMolAlign import GetBestRMS\n",
    "from rdkit.SimDivFilters.rdSimDivPickers import MaxMinPicker\n",
    "from rdkit.ML.Cluster import Butina\n",
    "from rdkit import DataStructs\n",
    "import random\n",
    "import numpy as np\n",
    "import json"
   ]
  },
  {
   "cell_type": "markdown",
   "metadata": {},
   "source": [
    "Loading the sampled ligands and clustering them based on their tanimoto similarity. Then adding hydrogen and charges (Gasteiger) to the sampled ligands. We will perform docking on one representative of each cluster, again, due to technical limitations. We will later dock the members of the clusters of top performers."
   ]
  },
  {
   "cell_type": "code",
   "execution_count": 9,
   "metadata": {},
   "outputs": [],
   "source": [
    "# Loading the .sdf file\n",
    "def load_ligands(sdf_file):\n",
    "    suppl = Chem.SDMolSupplier(sdf_file)\n",
    "    return [mol for mol in suppl if mol is not None]\n",
    "\n",
    "# Computing MACCS fingerprints\n",
    "def get_fingerprints(mols):\n",
    "    return [rdMolDescriptors.GetMACCSKeysFingerprint(mol) for mol in mols]\n",
    "\n",
    "# Computing Tanimoto similarity matrix\n",
    "def tanimoto_similarity(fp_list):\n",
    "    size = len(fp_list)\n",
    "    sim_matrix = np.zeros((size, size))\n",
    "    for i in range(size):\n",
    "        for j in range(i + 1, size):\n",
    "            sim_matrix[i, j] = DataStructs.TanimotoSimilarity(fp_list[i], fp_list[j])\n",
    "            sim_matrix[j, i] = sim_matrix[i, j]\n",
    "    return sim_matrix\n",
    "\n",
    "# Butina clusterisation\n",
    "def cluster_ligands(fp_list, cutoff=0.5):\n",
    "    dists = []\n",
    "    size = len(fp_list)\n",
    "    for i in range(1, size):\n",
    "        for j in range(i):\n",
    "            dists.append(1 - DataStructs.TanimotoSimilarity(fp_list[i], fp_list[j]))\n",
    "    clusters = Butina.ClusterData(dists, size, cutoff, isDistData=True)\n",
    "    return clusters\n",
    "\n",
    "# Adding hydrogen and Gasteiger charges\n",
    "def prepare_ligands(mols):\n",
    "    prepared_mols = []\n",
    "    for mol in mols:\n",
    "        mol = Chem.AddHs(mol)\n",
    "        AllChem.ComputeGasteigerCharges(mol)\n",
    "        prepared_mols.append(mol)\n",
    "    return prepared_mols\n",
    "\n",
    "# Main function\n",
    "def process_ligands(sdf_file):\n",
    "    mols = load_ligands(sdf_file)\n",
    "    fps = get_fingerprints(mols)\n",
    "    clusters = cluster_ligands(fps)\n",
    "    prepared_mols = prepare_ligands(mols)\n",
    "    return clusters, prepared_mols\n",
    "\n",
    "sdf_file = \"sampled_ligands.sdf\"\n",
    "clusters, prepared_ligands = process_ligands(sdf_file)\n"
   ]
  },
  {
   "cell_type": "markdown",
   "metadata": {},
   "source": [
    "Number of clusters:"
   ]
  },
  {
   "cell_type": "code",
   "execution_count": 10,
   "metadata": {},
   "outputs": [
    {
     "data": {
      "text/plain": [
       "43"
      ]
     },
     "execution_count": 10,
     "metadata": {},
     "output_type": "execute_result"
    }
   ],
   "source": [
    "len(clusters)"
   ]
  },
  {
   "cell_type": "markdown",
   "metadata": {},
   "source": [
    "Saving the clusters as clusters.json. "
   ]
  },
  {
   "cell_type": "code",
   "execution_count": 11,
   "metadata": {},
   "outputs": [],
   "source": [
    "def save_clusters_to_json(clusters, filename):\n",
    "    # Convert tuple of tuples to list of lists for JSON serialization\n",
    "    clusters_list = [list(cluster) for cluster in clusters]\n",
    "    with open(filename, \"w\") as f:\n",
    "        json.dump(clusters_list, f, indent=4)\n",
    "\n",
    "save_clusters_to_json(clusters, \"clusters.json\")\n",
    "\n",
    "# To load run:\n",
    "# def load_clusters_from_json(filename):\n",
    "#     with open(filename, \"r\") as f:\n",
    "#         clusters_list = json.load(f)\n",
    "#     # Convert each inner list back to a tuple (optional)\n",
    "#     clusters = tuple(tuple(cluster) for cluster in clusters_list)\n",
    "#     return clusters"
   ]
  },
  {
   "cell_type": "markdown",
   "metadata": {},
   "source": [
    "Choosing a random ligand from each cluster and saving as chosen_ligands.sdf"
   ]
  },
  {
   "cell_type": "code",
   "execution_count": 12,
   "metadata": {},
   "outputs": [],
   "source": [
    "def save_chosen_ligands_to_sdf(clusters, ligands, output_filename):\n",
    "    writer = Chem.SDWriter(output_filename)\n",
    "    for cluster in clusters:\n",
    "        if cluster:  # Ensure the cluster is not empty\n",
    "            chosen_index = random.choice(cluster)\n",
    "            ligand = ligands[chosen_index]\n",
    "            writer.write(ligand)\n",
    "    writer.close()\n",
    "\n",
    "save_chosen_ligands_to_sdf(clusters, prepared_ligands, \"chosen_ligands.sdf\")"
   ]
  },
  {
   "cell_type": "markdown",
   "metadata": {},
   "source": [
    "Saving the prepared ligands as prepared_ligands.sdf"
   ]
  },
  {
   "cell_type": "code",
   "execution_count": 13,
   "metadata": {},
   "outputs": [],
   "source": [
    "def save_prepared_ligands_to_sdf(prepared_ligands, output_filename):\n",
    "    writer = Chem.SDWriter(output_filename)\n",
    "    for ligand in prepared_ligands:\n",
    "        writer.write(ligand)\n",
    "    writer.close()\n",
    "\n",
    "save_prepared_ligands_to_sdf(prepared_ligands, \"prepared_ligands.sdf\")"
   ]
  }
 ],
 "metadata": {
  "kernelspec": {
   "display_name": "base",
   "language": "python",
   "name": "python3"
  },
  "language_info": {
   "codemirror_mode": {
    "name": "ipython",
    "version": 3
   },
   "file_extension": ".py",
   "mimetype": "text/x-python",
   "name": "python",
   "nbconvert_exporter": "python",
   "pygments_lexer": "ipython3",
   "version": "3.12.2"
  }
 },
 "nbformat": 4,
 "nbformat_minor": 2
}
