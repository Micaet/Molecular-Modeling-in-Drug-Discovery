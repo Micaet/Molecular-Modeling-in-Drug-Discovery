{
 "cells": [
  {
   "cell_type": "markdown",
   "metadata": {
    "collapsed": false
   },
   "source": [
    "# **Stage 1**\n",
    "### **Protein and ligand library selection, protein and ligand preparation**"
   ]
  },
  {
   "cell_type": "markdown",
   "metadata": {
    "collapsed": false
   },
   "source": [
    "**Choosing the protein**\n",
    "\n",
    "For this project we have chosen the 5cno protein which can be downloaded at: <br>\n",
    "https://www.rcsb.org/structure/5CNO <br>\n",
    "The protein is saved in this repo as 5cno.pdb.\n",
    "Using PyMOL we have removed solvent, removed organic and added hydrogens. \n",
    "The prepared 5cno is saved in this repo as 5cno_prepared.pdb. \n",
    "\n",
    "**Choosing the ligand library**\n",
    "\n",
    "We have chosen the ligand library available for download at: <br>\n",
    "https://enamine.net/compound-libraries/targeted-libraries/kinase-library <br>\n",
    "The zipped ligand library is saved in this repo as Enamine_Kinase_Library_plated.zip.\n",
    "Due to limitations of our personal hardware we have randomly chosen 10k ligands using the sampling.py script\n",
    "and saved the output as sampled_ligands.sdf. <br>\n",
    "\n",
    "**Importing necessary libraries**"
   ]
  },
  {
   "cell_type": "code",
   "execution_count": 3,
   "metadata": {},
   "outputs": [],
   "source": [
    "from rdkit import Chem\n",
    "from rdkit.Chem import AllChem, rdMolDescriptors\n",
    "from rdkit.Chem.rdMolAlign import GetBestRMS\n",
    "from rdkit.SimDivFilters.rdSimDivPickers import MaxMinPicker\n",
    "from rdkit.ML.Cluster import Butina\n",
    "from rdkit import DataStructs\n",
    "import random\n",
    "import numpy as np\n",
    "import json\n",
    "from openbabel import pybel\n",
    "import pandas as pd\n",
    "import matplotlib.pyplot as plt\n",
    "import subprocess"
   ]
  },
  {
   "cell_type": "markdown",
   "metadata": {},
   "source": [
    "**Getting the geometric centroid of docking box**"
   ]
  },
  {
   "cell_type": "code",
   "execution_count": 4,
   "metadata": {},
   "outputs": [
    {
     "name": "stdout",
     "output_type": "stream",
     "text": [
      "Ligand centroid coordinates (x, y, z): [-48.405 -37.514  19.017]\n"
     ]
    }
   ],
   "source": [
    "mol = Chem.MolFromPDBFile(\"5cno.pdb\", removeHs=False)\n",
    "residues = Chem.GetMolFrags(mol, asMols=True, sanitizeFrags=False)\n",
    "\n",
    "ligand = min(residues, key=lambda x: x.GetNumAtoms())\n",
    "\n",
    "import numpy as np\n",
    "\n",
    "def get_centroid(mol):\n",
    "    \"\"\"Calculate the geometric center (centroid) of a molecule.\"\"\"\n",
    "    conf = mol.GetConformer()\n",
    "    coords = np.array([conf.GetAtomPosition(i) for i in range(mol.GetNumAtoms())])\n",
    "    return np.mean(coords, axis=0)\n",
    "\n",
    "ligand_centroid = get_centroid(ligand)\n",
    "print(f\"Ligand centroid coordinates (x, y, z): {ligand_centroid}\")"
   ]
  },
  {
   "cell_type": "markdown",
   "metadata": {},
   "source": [
    "**Converting the protein file to .pdbqt for AutoDock Vina compatibility**"
   ]
  },
  {
   "cell_type": "code",
   "execution_count": 13,
   "metadata": {},
   "outputs": [
    {
     "ename": "OSError",
     "evalue": "[WinError 193] %1 nie jest prawidłową aplikacją systemu Win32",
     "output_type": "error",
     "traceback": [
      "\u001b[1;31m---------------------------------------------------------------------------\u001b[0m",
      "\u001b[1;31mOSError\u001b[0m                                   Traceback (most recent call last)",
      "Cell \u001b[1;32mIn[13], line 1\u001b[0m\n\u001b[1;32m----> 1\u001b[0m subprocess\u001b[38;5;241m.\u001b[39mrun([\u001b[38;5;124m\"\u001b[39m\u001b[38;5;124m./convert_to_pdbqt.sh\u001b[39m\u001b[38;5;124m\"\u001b[39m], check\u001b[38;5;241m=\u001b[39m\u001b[38;5;28;01mTrue\u001b[39;00m)\n",
      "File \u001b[1;32mc:\\Users\\micae\\anaconda3\\Lib\\subprocess.py:548\u001b[0m, in \u001b[0;36mrun\u001b[1;34m(input, capture_output, timeout, check, *popenargs, **kwargs)\u001b[0m\n\u001b[0;32m    545\u001b[0m     kwargs[\u001b[38;5;124m'\u001b[39m\u001b[38;5;124mstdout\u001b[39m\u001b[38;5;124m'\u001b[39m] \u001b[38;5;241m=\u001b[39m PIPE\n\u001b[0;32m    546\u001b[0m     kwargs[\u001b[38;5;124m'\u001b[39m\u001b[38;5;124mstderr\u001b[39m\u001b[38;5;124m'\u001b[39m] \u001b[38;5;241m=\u001b[39m PIPE\n\u001b[1;32m--> 548\u001b[0m \u001b[38;5;28;01mwith\u001b[39;00m Popen(\u001b[38;5;241m*\u001b[39mpopenargs, \u001b[38;5;241m*\u001b[39m\u001b[38;5;241m*\u001b[39mkwargs) \u001b[38;5;28;01mas\u001b[39;00m process:\n\u001b[0;32m    549\u001b[0m     \u001b[38;5;28;01mtry\u001b[39;00m:\n\u001b[0;32m    550\u001b[0m         stdout, stderr \u001b[38;5;241m=\u001b[39m process\u001b[38;5;241m.\u001b[39mcommunicate(\u001b[38;5;28minput\u001b[39m, timeout\u001b[38;5;241m=\u001b[39mtimeout)\n",
      "File \u001b[1;32mc:\\Users\\micae\\anaconda3\\Lib\\subprocess.py:1026\u001b[0m, in \u001b[0;36mPopen.__init__\u001b[1;34m(self, args, bufsize, executable, stdin, stdout, stderr, preexec_fn, close_fds, shell, cwd, env, universal_newlines, startupinfo, creationflags, restore_signals, start_new_session, pass_fds, user, group, extra_groups, encoding, errors, text, umask, pipesize, process_group)\u001b[0m\n\u001b[0;32m   1022\u001b[0m         \u001b[38;5;28;01mif\u001b[39;00m \u001b[38;5;28mself\u001b[39m\u001b[38;5;241m.\u001b[39mtext_mode:\n\u001b[0;32m   1023\u001b[0m             \u001b[38;5;28mself\u001b[39m\u001b[38;5;241m.\u001b[39mstderr \u001b[38;5;241m=\u001b[39m io\u001b[38;5;241m.\u001b[39mTextIOWrapper(\u001b[38;5;28mself\u001b[39m\u001b[38;5;241m.\u001b[39mstderr,\n\u001b[0;32m   1024\u001b[0m                     encoding\u001b[38;5;241m=\u001b[39mencoding, errors\u001b[38;5;241m=\u001b[39merrors)\n\u001b[1;32m-> 1026\u001b[0m     \u001b[38;5;28mself\u001b[39m\u001b[38;5;241m.\u001b[39m_execute_child(args, executable, preexec_fn, close_fds,\n\u001b[0;32m   1027\u001b[0m                         pass_fds, cwd, env,\n\u001b[0;32m   1028\u001b[0m                         startupinfo, creationflags, shell,\n\u001b[0;32m   1029\u001b[0m                         p2cread, p2cwrite,\n\u001b[0;32m   1030\u001b[0m                         c2pread, c2pwrite,\n\u001b[0;32m   1031\u001b[0m                         errread, errwrite,\n\u001b[0;32m   1032\u001b[0m                         restore_signals,\n\u001b[0;32m   1033\u001b[0m                         gid, gids, uid, umask,\n\u001b[0;32m   1034\u001b[0m                         start_new_session, process_group)\n\u001b[0;32m   1035\u001b[0m \u001b[38;5;28;01mexcept\u001b[39;00m:\n\u001b[0;32m   1036\u001b[0m     \u001b[38;5;66;03m# Cleanup if the child failed starting.\u001b[39;00m\n\u001b[0;32m   1037\u001b[0m     \u001b[38;5;28;01mfor\u001b[39;00m f \u001b[38;5;129;01min\u001b[39;00m \u001b[38;5;28mfilter\u001b[39m(\u001b[38;5;28;01mNone\u001b[39;00m, (\u001b[38;5;28mself\u001b[39m\u001b[38;5;241m.\u001b[39mstdin, \u001b[38;5;28mself\u001b[39m\u001b[38;5;241m.\u001b[39mstdout, \u001b[38;5;28mself\u001b[39m\u001b[38;5;241m.\u001b[39mstderr)):\n",
      "File \u001b[1;32mc:\\Users\\micae\\anaconda3\\Lib\\subprocess.py:1538\u001b[0m, in \u001b[0;36mPopen._execute_child\u001b[1;34m(self, args, executable, preexec_fn, close_fds, pass_fds, cwd, env, startupinfo, creationflags, shell, p2cread, p2cwrite, c2pread, c2pwrite, errread, errwrite, unused_restore_signals, unused_gid, unused_gids, unused_uid, unused_umask, unused_start_new_session, unused_process_group)\u001b[0m\n\u001b[0;32m   1536\u001b[0m \u001b[38;5;66;03m# Start the process\u001b[39;00m\n\u001b[0;32m   1537\u001b[0m \u001b[38;5;28;01mtry\u001b[39;00m:\n\u001b[1;32m-> 1538\u001b[0m     hp, ht, pid, tid \u001b[38;5;241m=\u001b[39m _winapi\u001b[38;5;241m.\u001b[39mCreateProcess(executable, args,\n\u001b[0;32m   1539\u001b[0m                              \u001b[38;5;66;03m# no special security\u001b[39;00m\n\u001b[0;32m   1540\u001b[0m                              \u001b[38;5;28;01mNone\u001b[39;00m, \u001b[38;5;28;01mNone\u001b[39;00m,\n\u001b[0;32m   1541\u001b[0m                              \u001b[38;5;28mint\u001b[39m(\u001b[38;5;129;01mnot\u001b[39;00m close_fds),\n\u001b[0;32m   1542\u001b[0m                              creationflags,\n\u001b[0;32m   1543\u001b[0m                              env,\n\u001b[0;32m   1544\u001b[0m                              cwd,\n\u001b[0;32m   1545\u001b[0m                              startupinfo)\n\u001b[0;32m   1546\u001b[0m \u001b[38;5;28;01mfinally\u001b[39;00m:\n\u001b[0;32m   1547\u001b[0m     \u001b[38;5;66;03m# Child is launched. Close the parent's copy of those pipe\u001b[39;00m\n\u001b[0;32m   1548\u001b[0m     \u001b[38;5;66;03m# handles that only the child should have open.  You need\u001b[39;00m\n\u001b[1;32m   (...)\u001b[0m\n\u001b[0;32m   1551\u001b[0m     \u001b[38;5;66;03m# pipe will not close when the child process exits and the\u001b[39;00m\n\u001b[0;32m   1552\u001b[0m     \u001b[38;5;66;03m# ReadFile will hang.\u001b[39;00m\n\u001b[0;32m   1553\u001b[0m     \u001b[38;5;28mself\u001b[39m\u001b[38;5;241m.\u001b[39m_close_pipe_fds(p2cread, p2cwrite,\n\u001b[0;32m   1554\u001b[0m                          c2pread, c2pwrite,\n\u001b[0;32m   1555\u001b[0m                          errread, errwrite)\n",
      "\u001b[1;31mOSError\u001b[0m: [WinError 193] %1 nie jest prawidłową aplikacją systemu Win32"
     ]
    }
   ],
   "source": [
    "subprocess.run([\"./convert_to_pdbqt.sh\"], check=True)"
   ]
  },
  {
   "cell_type": "code",
   "execution_count": 5,
   "metadata": {},
   "outputs": [
    {
     "name": "stdout",
     "output_type": "stream",
     "text": [
      "Converting 5cno_prepared.pdb to 5cno_clean.pdbqt...\n",
      "✅ Successfully created 5cno_clean.pdbqt\n"
     ]
    },
    {
     "ename": "SystemExit",
     "evalue": "0",
     "output_type": "error",
     "traceback": [
      "An exception has occurred, use %tb to see the full traceback.\n",
      "\u001b[1;31mSystemExit\u001b[0m\u001b[1;31m:\u001b[0m 0\n"
     ]
    },
    {
     "name": "stderr",
     "output_type": "stream",
     "text": [
      "c:\\Users\\micae\\anaconda3\\Lib\\site-packages\\IPython\\core\\interactiveshell.py:3534: UserWarning: To exit: use 'exit', 'quit', or Ctrl-D.\n",
      "  warn(\"To exit: use 'exit', 'quit', or Ctrl-D.\", stacklevel=1)\n"
     ]
    }
   ],
   "source": [
    "import os\n",
    "import subprocess\n",
    "import sys\n",
    "\n",
    "INPUT_PDB = \"5cno_prepared.pdb\"\n",
    "OUTPUT_PDBQT = \"5cno_clean.pdbqt\"\n",
    "\n",
    "# Sprawdzenie czy plik wejściowy istnieje\n",
    "if not os.path.isfile(INPUT_PDB):\n",
    "    sys.stderr.write(f\"❌ Error: Input file {INPUT_PDB} not found!\\n\")\n",
    "    sys.exit(1)\n",
    "\n",
    "# Sprawdzenie czy obabel jest dostępny\n",
    "if subprocess.call(\"where obabel\", shell=True, stdout=subprocess.DEVNULL, stderr=subprocess.DEVNULL) != 0:\n",
    "    sys.stderr.write(\"❌ Error: Open Babel (obabel) is not installed!\\n\")\n",
    "    sys.stderr.write(\"Install it with: conda install -c conda-forge openbabel\\n\")\n",
    "    sys.exit(1)\n",
    "\n",
    "# Wykonanie konwersji\n",
    "print(f\"Converting {INPUT_PDB} to {OUTPUT_PDBQT}...\")\n",
    "result = subprocess.run([\"obabel\", INPUT_PDB, \"-O\", OUTPUT_PDBQT, \"-xr\"])\n",
    "\n",
    "# Sprawdzenie sukcesu\n",
    "if result.returncode == 0 and os.path.isfile(OUTPUT_PDBQT):\n",
    "    print(f\"✅ Successfully created {OUTPUT_PDBQT}\")\n",
    "    sys.exit(0)\n",
    "else:\n",
    "    sys.stderr.write(\"❌ Error: Conversion failed\\n\")\n",
    "    sys.exit(1)\n"
   ]
  },
  {
   "cell_type": "markdown",
   "metadata": {},
   "source": [
    "Loading the sampled ligands and clustering them based on their tanimoto similarity. Then adding hydrogens to the sampled ligands. Charges will be added later, due to future format conversions.\n",
    "We will perform docking on one representative of each cluster, again, due to technical limitations. We will later dock the members of the clusters of top performers."
   ]
  },
  {
   "cell_type": "code",
   "execution_count": 8,
   "metadata": {},
   "outputs": [],
   "source": [
    "# loading and embedding ligands from the .sdf file\n",
    "def load_3d_ligands(sdf_file):\n",
    "    suppl = Chem.SDMolSupplier(sdf_file, removeHs=False)\n",
    "    ligands = []\n",
    "    for mol in suppl:\n",
    "        if mol is None:\n",
    "            continue\n",
    "        mol = Chem.AddHs(mol)\n",
    "        if AllChem.EmbedMolecule(mol, AllChem.ETKDG()) != 0:\n",
    "            print(\"Embedding failed for a molecule, skipping...\")\n",
    "            continue\n",
    "        AllChem.UFFOptimizeMolecule(mol)\n",
    "        ligands.append(mol)\n",
    "    return ligands\n",
    "\n",
    "# Computing MACCS fingerprints\n",
    "def get_fingerprints(mols):\n",
    "    return [rdMolDescriptors.GetMACCSKeysFingerprint(mol) for mol in mols]\n",
    "\n",
    "# Computing Tanimoto similarity matrix\n",
    "def tanimoto_similarity(fp_list):\n",
    "    size = len(fp_list)\n",
    "    sim_matrix = np.zeros((size, size))\n",
    "    for i in range(size):\n",
    "        for j in range(i + 1, size):\n",
    "            sim_matrix[i, j] = DataStructs.TanimotoSimilarity(fp_list[i], fp_list[j])\n",
    "            sim_matrix[j, i] = sim_matrix[i, j]\n",
    "    return sim_matrix\n",
    "\n",
    "# Butina clusterisation\n",
    "def cluster_ligands(fp_list, cutoff=0.5):\n",
    "    dists = []\n",
    "    size = len(fp_list)\n",
    "    for i in range(1, size):\n",
    "        for j in range(i):\n",
    "            dists.append(1 - DataStructs.TanimotoSimilarity(fp_list[i], fp_list[j]))\n",
    "    clusters = Butina.ClusterData(dists, size, cutoff, isDistData=True)\n",
    "    return clusters\n",
    "\n",
    "# Main function\n",
    "def process_ligands(sdf_file):\n",
    "    prepared_mols = load_3d_ligands(sdf_file)\n",
    "    fps = get_fingerprints(prepared_mols)\n",
    "    clusters = cluster_ligands(fps)\n",
    "    return clusters, prepared_mols\n",
    "\n",
    "sdf_file = \"sampled_ligands.sdf\"\n",
    "clusters, prepared_ligands = process_ligands(sdf_file)\n"
   ]
  },
  {
   "cell_type": "markdown",
   "metadata": {},
   "source": [
    "**Number of clusters:**"
   ]
  },
  {
   "cell_type": "code",
   "execution_count": 9,
   "metadata": {},
   "outputs": [
    {
     "data": {
      "text/plain": [
       "22"
      ]
     },
     "execution_count": 9,
     "metadata": {},
     "output_type": "execute_result"
    }
   ],
   "source": [
    "len(clusters)"
   ]
  },
  {
   "cell_type": "markdown",
   "metadata": {},
   "source": [
    "**Saving the clusters as clusters.json**"
   ]
  },
  {
   "cell_type": "code",
   "execution_count": 10,
   "metadata": {},
   "outputs": [],
   "source": [
    "def save_clusters_to_json(clusters, filename):\n",
    "    # Convert tuple of tuples to list of lists for JSON serialization\n",
    "    clusters_list = [list(cluster) for cluster in clusters]\n",
    "    with open(filename, \"w\") as f:\n",
    "        json.dump(clusters_list, f, indent=4)\n",
    "\n",
    "save_clusters_to_json(clusters, \"clusters.json\")\n",
    "\n",
    "# To load run:\n",
    "# def load_clusters_from_json(filename):\n",
    "#     with open(filename, \"r\") as f:\n",
    "#         clusters_list = json.load(f)\n",
    "#     # Convert each inner list back to a tuple (optional)a\n",
    "#     clusters = tuple(tuple(cluster) for cluster in clusters_list)\n",
    "#     return clusters"
   ]
  },
  {
   "cell_type": "markdown",
   "metadata": {},
   "source": [
    "**Choosing a random ligand from each cluster**"
   ]
  },
  {
   "cell_type": "code",
   "execution_count": 18,
   "metadata": {},
   "outputs": [],
   "source": [
    "def get_random_ligands_from_clusters(clusters, all_ligands):\n",
    "    random_ligands = []\n",
    "    for cluster in clusters:\n",
    "        # Select a random index from this cluster\n",
    "        random_idx = random.choice(cluster)\n",
    "        # Get the corresponding ligand\n",
    "        random_ligands.append(all_ligands[random_idx])\n",
    "    return random_ligands\n",
    "\n",
    "random_ligands = get_random_ligands_from_clusters(clusters, prepared_ligands)"
   ]
  },
  {
   "cell_type": "code",
   "execution_count": 19,
   "metadata": {},
   "outputs": [],
   "source": [
    "weird = random_ligands[13]\n",
    "\n",
    "def mol_to_mol(mol):\n",
    "    mol_block = Chem.MolToV3KMolBlock(mol)\n",
    "    obmol = pybel.readstring(\"mol\", mol_block)\n",
    "    charge_model = pybel.ob.OBChargeModel.FindType(\"gasteiger\")\n",
    "    charge_model.ComputeCharges(obmol.OBMol)\n",
    "    return obmol\n",
    "\n",
    "wierd_2 = mol_to_mol(weird)\n",
    "block_w_2=wierd_2.write('pdbqt')\n",
    "w_3 = pybel.readstring(\"pdbqt\",block_w_2)"
   ]
  },
  {
   "cell_type": "code",
   "execution_count": 20,
   "metadata": {},
   "outputs": [
    {
     "data": {
      "image/svg+xml": [
       "<svg xmlns=\"http://www.w3.org/2000/svg\" width=\"100\" height=\"100\" x=\"0\" y=\"0\" viewBox=\"0 0 634.256 420\" font-family=\"sans-serif\" stroke=\"rgb(0,0,0)\" stroke-width=\"2\" stroke-linecap=\"round\">\n",
       "<line x1=\"200.4\" y1=\"276.1\" x2=\"177.1\" y2=\"262.6\" opacity=\"1.0\" stroke=\"rgb(0,0,0)\" stroke-width=\"2.0\" />\n",
       "<line x1=\"203.4\" y1=\"270.9\" x2=\"180.1\" y2=\"257.4\" opacity=\"1.0\" stroke=\"rgb(0,0,0)\" stroke-width=\"2.0\" />\n",
       "<line x1=\"178.6\" y1=\"260.0\" x2=\"178.6\" y2=\"233.0\" opacity=\"1.0\" stroke=\"rgb(0,0,0)\" stroke-width=\"2.0\" />\n",
       "<line x1=\"189.8\" y1=\"213.5\" x2=\"213.2\" y2=\"200.0\" opacity=\"1.0\" stroke=\"rgb(0,0,0)\" stroke-width=\"2.0\" />\n",
       "<line x1=\"282.5\" y1=\"160.0\" x2=\"317.1\" y2=\"140.0\" opacity=\"1.0\" stroke=\"rgb(0,0,0)\" stroke-width=\"2.0\" />\n",
       "<line x1=\"314.1\" y1=\"140.0\" x2=\"314.1\" y2=\"113.0\" opacity=\"1.0\" stroke=\"rgb(0,0,0)\" stroke-width=\"2.0\" />\n",
       "<line x1=\"320.1\" y1=\"140.0\" x2=\"320.1\" y2=\"113.0\" opacity=\"1.0\" stroke=\"rgb(0,0,0)\" stroke-width=\"2.0\" />\n",
       "<line x1=\"317.1\" y1=\"140.0\" x2=\"340.5\" y2=\"153.5\" opacity=\"1.0\" stroke=\"rgb(0,0,0)\" stroke-width=\"2.0\" />\n",
       "<line x1=\"363.0\" y1=\"153.5\" x2=\"386.4\" y2=\"140.0\" opacity=\"1.0\" stroke=\"rgb(0,0,0)\" stroke-width=\"2.0\" />\n",
       "<line x1=\"455.7\" y1=\"140.0\" x2=\"490.3\" y2=\"160.0\" opacity=\"1.0\" stroke=\"rgb(0,0,0)\" stroke-width=\"2.0\" />\n",
       "<line x1=\"488.8\" y1=\"157.4\" x2=\"512.2\" y2=\"143.9\" opacity=\"1.0\" stroke=\"rgb(0,0,0)\" stroke-width=\"2.0\" />\n",
       "<line x1=\"491.8\" y1=\"162.6\" x2=\"515.2\" y2=\"149.1\" opacity=\"1.0\" stroke=\"rgb(0,0,0)\" stroke-width=\"2.0\" />\n",
       "<line x1=\"490.3\" y1=\"160.0\" x2=\"490.3\" y2=\"187.0\" opacity=\"1.0\" stroke=\"rgb(0,0,0)\" stroke-width=\"2.0\" />\n",
       "<line x1=\"501.6\" y1=\"206.5\" x2=\"525.0\" y2=\"220.0\" opacity=\"1.0\" stroke=\"rgb(0,0,0)\" stroke-width=\"2.0\" />\n",
       "<line x1=\"178.6\" y1=\"260.0\" x2=\"143.9\" y2=\"280.0\" opacity=\"1.0\" stroke=\"rgb(0,0,0)\" stroke-width=\"2.0\" />\n",
       "<line x1=\"167.3\" y1=\"213.5\" x2=\"155.2\" y2=\"206.5\" opacity=\"1.0\" stroke=\"rgb(0,0,0)\" stroke-width=\"2.0\" />\n",
       "<line x1=\"247.8\" y1=\"220.0\" x2=\"247.8\" y2=\"247.0\" opacity=\"1.0\" stroke=\"rgb(0,0,0)\" stroke-width=\"2.0\" />\n",
       "<line x1=\"282.5\" y1=\"200.0\" x2=\"305.9\" y2=\"213.5\" opacity=\"1.0\" stroke=\"rgb(0,0,0)\" stroke-width=\"2.0\" />\n",
       "<line x1=\"247.8\" y1=\"140.0\" x2=\"247.8\" y2=\"113.0\" opacity=\"1.0\" stroke=\"rgb(0,0,0)\" stroke-width=\"2.0\" />\n",
       "<line x1=\"213.2\" y1=\"160.0\" x2=\"189.8\" y2=\"146.5\" opacity=\"1.0\" stroke=\"rgb(0,0,0)\" stroke-width=\"2.0\" />\n",
       "<line x1=\"351.8\" y1=\"173.0\" x2=\"351.8\" y2=\"187.0\" opacity=\"1.0\" stroke=\"rgb(0,0,0)\" stroke-width=\"2.0\" />\n",
       "<line x1=\"386.4\" y1=\"100.0\" x2=\"363.0\" y2=\"86.5\" opacity=\"1.0\" stroke=\"rgb(0,0,0)\" stroke-width=\"2.0\" />\n",
       "<line x1=\"421.1\" y1=\"80.0\" x2=\"421.1\" y2=\"53.0\" opacity=\"1.0\" stroke=\"rgb(0,0,0)\" stroke-width=\"2.0\" />\n",
       "<line x1=\"455.7\" y1=\"100.0\" x2=\"479.1\" y2=\"86.5\" opacity=\"1.0\" stroke=\"rgb(0,0,0)\" stroke-width=\"2.0\" />\n",
       "<line x1=\"421.1\" y1=\"160.0\" x2=\"421.1\" y2=\"187.0\" opacity=\"1.0\" stroke=\"rgb(0,0,0)\" stroke-width=\"2.0\" />\n",
       "<line x1=\"479.1\" y1=\"206.5\" x2=\"467.0\" y2=\"213.5\" opacity=\"1.0\" stroke=\"rgb(0,0,0)\" stroke-width=\"2.0\" />\n",
       "<line x1=\"525.0\" y1=\"220.0\" x2=\"501.6\" y2=\"233.5\" opacity=\"1.0\" stroke=\"rgb(0,0,0)\" stroke-width=\"2.0\" />\n",
       "<line x1=\"559.6\" y1=\"200.0\" x2=\"583.0\" y2=\"186.5\" opacity=\"1.0\" stroke=\"rgb(0,0,0)\" stroke-width=\"2.0\" />\n",
       "<line x1=\"559.6\" y1=\"200.0\" x2=\"559.6\" y2=\"173.0\" opacity=\"1.0\" stroke=\"rgb(0,0,0)\" stroke-width=\"2.0\" />\n",
       "<line x1=\"559.6\" y1=\"240.0\" x2=\"559.6\" y2=\"267.0\" opacity=\"1.0\" stroke=\"rgb(0,0,0)\" stroke-width=\"2.0\" />\n",
       "<line x1=\"559.6\" y1=\"240.0\" x2=\"583.0\" y2=\"253.5\" opacity=\"1.0\" stroke=\"rgb(0,0,0)\" stroke-width=\"2.0\" />\n",
       "<line x1=\"109.3\" y1=\"260.0\" x2=\"109.3\" y2=\"233.0\" opacity=\"1.0\" stroke=\"rgb(0,0,0)\" stroke-width=\"2.0\" />\n",
       "<line x1=\"74.6\" y1=\"280.0\" x2=\"51.3\" y2=\"266.5\" opacity=\"1.0\" stroke=\"rgb(0,0,0)\" stroke-width=\"2.0\" />\n",
       "<line x1=\"74.6\" y1=\"320.0\" x2=\"51.3\" y2=\"333.5\" opacity=\"1.0\" stroke=\"rgb(0,0,0)\" stroke-width=\"2.0\" />\n",
       "<line x1=\"109.3\" y1=\"340.0\" x2=\"109.3\" y2=\"367.0\" opacity=\"1.0\" stroke=\"rgb(0,0,0)\" stroke-width=\"2.0\" />\n",
       "<line x1=\"143.9\" y1=\"320.0\" x2=\"167.3\" y2=\"333.5\" opacity=\"1.0\" stroke=\"rgb(0,0,0)\" stroke-width=\"2.0\" />\n",
       "<line x1=\"247.8\" y1=\"220.0\" x2=\"213.2\" y2=\"200.0\" opacity=\"1.0\" stroke=\"rgb(0,0,0)\" stroke-width=\"2.0\" />\n",
       "<line x1=\"246.2\" y1=\"210.8\" x2=\"222.0\" y2=\"196.8\" opacity=\"1.0\" stroke=\"rgb(0,0,0)\" stroke-width=\"2.0\" />\n",
       "<line x1=\"213.2\" y1=\"200.0\" x2=\"213.2\" y2=\"160.0\" opacity=\"1.0\" stroke=\"rgb(0,0,0)\" stroke-width=\"2.0\" />\n",
       "<line x1=\"213.2\" y1=\"160.0\" x2=\"247.8\" y2=\"140.0\" opacity=\"1.0\" stroke=\"rgb(0,0,0)\" stroke-width=\"2.0\" />\n",
       "<line x1=\"222.0\" y1=\"163.2\" x2=\"246.2\" y2=\"149.2\" opacity=\"1.0\" stroke=\"rgb(0,0,0)\" stroke-width=\"2.0\" />\n",
       "<line x1=\"247.8\" y1=\"140.0\" x2=\"282.5\" y2=\"160.0\" opacity=\"1.0\" stroke=\"rgb(0,0,0)\" stroke-width=\"2.0\" />\n",
       "<line x1=\"282.5\" y1=\"160.0\" x2=\"282.5\" y2=\"200.0\" opacity=\"1.0\" stroke=\"rgb(0,0,0)\" stroke-width=\"2.0\" />\n",
       "<line x1=\"275.3\" y1=\"166.0\" x2=\"275.3\" y2=\"194.0\" opacity=\"1.0\" stroke=\"rgb(0,0,0)\" stroke-width=\"2.0\" />\n",
       "<line x1=\"282.5\" y1=\"200.0\" x2=\"247.8\" y2=\"220.0\" opacity=\"1.0\" stroke=\"rgb(0,0,0)\" stroke-width=\"2.0\" />\n",
       "<line x1=\"386.4\" y1=\"100.0\" x2=\"386.4\" y2=\"140.0\" opacity=\"1.0\" stroke=\"rgb(0,0,0)\" stroke-width=\"2.0\" />\n",
       "<line x1=\"393.6\" y1=\"106.0\" x2=\"393.6\" y2=\"134.0\" opacity=\"1.0\" stroke=\"rgb(0,0,0)\" stroke-width=\"2.0\" />\n",
       "<line x1=\"386.4\" y1=\"140.0\" x2=\"421.1\" y2=\"160.0\" opacity=\"1.0\" stroke=\"rgb(0,0,0)\" stroke-width=\"2.0\" />\n",
       "<line x1=\"421.1\" y1=\"160.0\" x2=\"455.7\" y2=\"140.0\" opacity=\"1.0\" stroke=\"rgb(0,0,0)\" stroke-width=\"2.0\" />\n",
       "<line x1=\"422.6\" y1=\"150.8\" x2=\"446.9\" y2=\"136.8\" opacity=\"1.0\" stroke=\"rgb(0,0,0)\" stroke-width=\"2.0\" />\n",
       "<line x1=\"455.7\" y1=\"140.0\" x2=\"455.7\" y2=\"100.0\" opacity=\"1.0\" stroke=\"rgb(0,0,0)\" stroke-width=\"2.0\" />\n",
       "<line x1=\"455.7\" y1=\"100.0\" x2=\"421.1\" y2=\"80.0\" opacity=\"1.0\" stroke=\"rgb(0,0,0)\" stroke-width=\"2.0\" />\n",
       "<line x1=\"446.9\" y1=\"103.2\" x2=\"422.6\" y2=\"89.2\" opacity=\"1.0\" stroke=\"rgb(0,0,0)\" stroke-width=\"2.0\" />\n",
       "<line x1=\"421.1\" y1=\"80.0\" x2=\"386.4\" y2=\"100.0\" opacity=\"1.0\" stroke=\"rgb(0,0,0)\" stroke-width=\"2.0\" />\n",
       "<line x1=\"109.3\" y1=\"260.0\" x2=\"143.9\" y2=\"280.0\" opacity=\"1.0\" stroke=\"rgb(0,0,0)\" stroke-width=\"2.0\" />\n",
       "<line x1=\"110.9\" y1=\"269.2\" x2=\"135.1\" y2=\"283.2\" opacity=\"1.0\" stroke=\"rgb(0,0,0)\" stroke-width=\"2.0\" />\n",
       "<line x1=\"143.9\" y1=\"280.0\" x2=\"143.9\" y2=\"320.0\" opacity=\"1.0\" stroke=\"rgb(0,0,0)\" stroke-width=\"2.0\" />\n",
       "<line x1=\"143.9\" y1=\"320.0\" x2=\"109.3\" y2=\"340.0\" opacity=\"1.0\" stroke=\"rgb(0,0,0)\" stroke-width=\"2.0\" />\n",
       "<line x1=\"135.1\" y1=\"316.8\" x2=\"110.9\" y2=\"330.8\" opacity=\"1.0\" stroke=\"rgb(0,0,0)\" stroke-width=\"2.0\" />\n",
       "<line x1=\"109.3\" y1=\"340.0\" x2=\"74.6\" y2=\"320.0\" opacity=\"1.0\" stroke=\"rgb(0,0,0)\" stroke-width=\"2.0\" />\n",
       "<line x1=\"74.6\" y1=\"320.0\" x2=\"74.6\" y2=\"280.0\" opacity=\"1.0\" stroke=\"rgb(0,0,0)\" stroke-width=\"2.0\" />\n",
       "<line x1=\"81.8\" y1=\"314.0\" x2=\"81.8\" y2=\"286.0\" opacity=\"1.0\" stroke=\"rgb(0,0,0)\" stroke-width=\"2.0\" />\n",
       "<line x1=\"74.6\" y1=\"280.0\" x2=\"109.3\" y2=\"260.0\" opacity=\"1.0\" stroke=\"rgb(0,0,0)\" stroke-width=\"2.0\" />\n",
       "<line x1=\"559.6\" y1=\"200.0\" x2=\"559.6\" y2=\"240.0\" opacity=\"1.0\" stroke=\"rgb(0,0,0)\" stroke-width=\"2.0\" />\n",
       "<line x1=\"559.6\" y1=\"240.0\" x2=\"525.0\" y2=\"220.0\" opacity=\"1.0\" stroke=\"rgb(0,0,0)\" stroke-width=\"2.0\" />\n",
       "<line x1=\"525.0\" y1=\"220.0\" x2=\"559.6\" y2=\"200.0\" opacity=\"1.0\" stroke=\"rgb(0,0,0)\" stroke-width=\"2.0\" />\n",
       "<text x=\"207.205081\" y=\"288.000000\" fill=\"rgb(255,12,12)\" stroke-width=\"0\" font-weight=\"bold\" font-size=\"16\">O</text>\n",
       "<text x=\"172.564065\" y=\"228.000000\" fill=\"rgb(12,12,255)\" stroke-width=\"0\" font-weight=\"bold\" font-size=\"16\">N</text>\n",
       "<text x=\"311.128129\" y=\"108.000000\" fill=\"rgb(255,12,12)\" stroke-width=\"0\" font-weight=\"bold\" font-size=\"16\">O</text>\n",
       "<text x=\"345.769145\" y=\"168.000000\" fill=\"rgb(12,12,255)\" stroke-width=\"0\" font-weight=\"bold\" font-size=\"16\">N</text>\n",
       "<text x=\"518.974226\" y=\"148.000000\" fill=\"rgb(255,12,12)\" stroke-width=\"0\" font-weight=\"bold\" font-size=\"16\">O</text>\n",
       "<text x=\"484.333210\" y=\"208.000000\" fill=\"rgb(12,12,255)\" stroke-width=\"0\" font-weight=\"bold\" font-size=\"16\">N</text>\n",
       "<text x=\"137.923048\" y=\"208.000000\" fill=\"rgb(191,191,191)\" stroke-width=\"0\" font-weight=\"bold\" font-size=\"16\">H</text>\n",
       "<text x=\"241.846097\" y=\"268.000000\" fill=\"rgb(191,191,191)\" stroke-width=\"0\" font-weight=\"bold\" font-size=\"16\">H</text>\n",
       "<text x=\"311.128129\" y=\"228.000000\" fill=\"rgb(191,191,191)\" stroke-width=\"0\" font-weight=\"bold\" font-size=\"16\">H</text>\n",
       "<text x=\"241.846097\" y=\"108.000000\" fill=\"rgb(191,191,191)\" stroke-width=\"0\" font-weight=\"bold\" font-size=\"16\">H</text>\n",
       "<text x=\"172.564065\" y=\"148.000000\" fill=\"rgb(191,191,191)\" stroke-width=\"0\" font-weight=\"bold\" font-size=\"16\">H</text>\n",
       "<text x=\"345.769145\" y=\"208.000000\" fill=\"rgb(191,191,191)\" stroke-width=\"0\" font-weight=\"bold\" font-size=\"16\">H</text>\n",
       "<text x=\"345.769145\" y=\"88.000000\" fill=\"rgb(191,191,191)\" stroke-width=\"0\" font-weight=\"bold\" font-size=\"16\">H</text>\n",
       "<text x=\"415.051178\" y=\"48.000000\" fill=\"rgb(191,191,191)\" stroke-width=\"0\" font-weight=\"bold\" font-size=\"16\">H</text>\n",
       "<text x=\"484.333210\" y=\"88.000000\" fill=\"rgb(191,191,191)\" stroke-width=\"0\" font-weight=\"bold\" font-size=\"16\">H</text>\n",
       "<text x=\"415.051178\" y=\"208.000000\" fill=\"rgb(191,191,191)\" stroke-width=\"0\" font-weight=\"bold\" font-size=\"16\">H</text>\n",
       "<text x=\"449.692194\" y=\"228.000000\" fill=\"rgb(191,191,191)\" stroke-width=\"0\" font-weight=\"bold\" font-size=\"16\">H</text>\n",
       "<text x=\"484.333210\" y=\"248.000000\" fill=\"rgb(191,191,191)\" stroke-width=\"0\" font-weight=\"bold\" font-size=\"16\">H</text>\n",
       "<text x=\"588.256258\" y=\"188.000000\" fill=\"rgb(191,191,191)\" stroke-width=\"0\" font-weight=\"bold\" font-size=\"16\">H</text>\n",
       "<text x=\"553.615242\" y=\"168.000000\" fill=\"rgb(191,191,191)\" stroke-width=\"0\" font-weight=\"bold\" font-size=\"16\">H</text>\n",
       "<text x=\"553.615242\" y=\"288.000000\" fill=\"rgb(191,191,191)\" stroke-width=\"0\" font-weight=\"bold\" font-size=\"16\">H</text>\n",
       "<text x=\"588.256258\" y=\"268.000000\" fill=\"rgb(191,191,191)\" stroke-width=\"0\" font-weight=\"bold\" font-size=\"16\">H</text>\n",
       "<text x=\"103.282032\" y=\"228.000000\" fill=\"rgb(191,191,191)\" stroke-width=\"0\" font-weight=\"bold\" font-size=\"16\">H</text>\n",
       "<text x=\"34.000000\" y=\"268.000000\" fill=\"rgb(191,191,191)\" stroke-width=\"0\" font-weight=\"bold\" font-size=\"16\">H</text>\n",
       "<text x=\"34.000000\" y=\"348.000000\" fill=\"rgb(191,191,191)\" stroke-width=\"0\" font-weight=\"bold\" font-size=\"16\">H</text>\n",
       "<text x=\"103.282032\" y=\"388.000000\" fill=\"rgb(191,191,191)\" stroke-width=\"0\" font-weight=\"bold\" font-size=\"16\">H</text>\n",
       "<text x=\"172.564065\" y=\"348.000000\" fill=\"rgb(191,191,191)\" stroke-width=\"0\" font-weight=\"bold\" font-size=\"16\">H</text>\n",
       "</svg>\n"
      ],
      "text/plain": [
       "<openbabel.pybel.Molecule at 0x199f2032b90>"
      ]
     },
     "execution_count": 20,
     "metadata": {},
     "output_type": "execute_result"
    }
   ],
   "source": [
    "wierd_2"
   ]
  },
  {
   "cell_type": "code",
   "execution_count": 21,
   "metadata": {},
   "outputs": [
    {
     "data": {
      "image/svg+xml": [
       "<svg xmlns=\"http://www.w3.org/2000/svg\" width=\"100\" height=\"100\" x=\"0\" y=\"0\" viewBox=\"0 0 599.615 294.641\" font-family=\"sans-serif\" stroke=\"rgb(0,0,0)\" stroke-width=\"2\" stroke-linecap=\"round\">\n",
       "<line x1=\"112.3\" y1=\"133.0\" x2=\"112.3\" y2=\"160.0\" opacity=\"1.0\" stroke=\"rgb(0,0,0)\" stroke-width=\"2.0\" />\n",
       "<line x1=\"106.3\" y1=\"133.0\" x2=\"106.3\" y2=\"160.0\" opacity=\"1.0\" stroke=\"rgb(0,0,0)\" stroke-width=\"2.0\" />\n",
       "<line x1=\"74.6\" y1=\"220.0\" x2=\"74.6\" y2=\"193.0\" opacity=\"1.0\" stroke=\"rgb(0,0,0)\" stroke-width=\"2.0\" />\n",
       "<line x1=\"109.3\" y1=\"160.0\" x2=\"85.9\" y2=\"173.5\" opacity=\"1.0\" stroke=\"rgb(0,0,0)\" stroke-width=\"2.0\" />\n",
       "<line x1=\"109.3\" y1=\"160.0\" x2=\"143.9\" y2=\"180.0\" opacity=\"1.0\" stroke=\"rgb(0,0,0)\" stroke-width=\"2.0\" />\n",
       "<line x1=\"421.1\" y1=\"73.0\" x2=\"421.1\" y2=\"87.0\" opacity=\"1.0\" stroke=\"rgb(0,0,0)\" stroke-width=\"2.0\" />\n",
       "<line x1=\"490.3\" y1=\"100.0\" x2=\"455.7\" y2=\"120.0\" opacity=\"1.0\" stroke=\"rgb(0,0,0)\" stroke-width=\"2.0\" />\n",
       "<line x1=\"63.4\" y1=\"173.5\" x2=\"51.3\" y2=\"166.5\" opacity=\"1.0\" stroke=\"rgb(0,0,0)\" stroke-width=\"2.0\" />\n",
       "<line x1=\"409.8\" y1=\"106.5\" x2=\"386.4\" y2=\"120.0\" opacity=\"1.0\" stroke=\"rgb(0,0,0)\" stroke-width=\"2.0\" />\n",
       "<line x1=\"432.3\" y1=\"106.5\" x2=\"455.7\" y2=\"120.0\" opacity=\"1.0\" stroke=\"rgb(0,0,0)\" stroke-width=\"2.0\" />\n",
       "<line x1=\"247.8\" y1=\"133.0\" x2=\"247.8\" y2=\"147.0\" opacity=\"1.0\" stroke=\"rgb(0,0,0)\" stroke-width=\"2.0\" />\n",
       "<line x1=\"213.2\" y1=\"180.0\" x2=\"236.6\" y2=\"166.5\" opacity=\"1.0\" stroke=\"rgb(0,0,0)\" stroke-width=\"2.0\" />\n",
       "<line x1=\"259.1\" y1=\"166.5\" x2=\"282.5\" y2=\"180.0\" opacity=\"1.0\" stroke=\"rgb(0,0,0)\" stroke-width=\"2.0\" />\n",
       "<line x1=\"458.7\" y1=\"120.0\" x2=\"458.7\" y2=\"147.0\" opacity=\"1.0\" stroke=\"rgb(0,0,0)\" stroke-width=\"2.0\" />\n",
       "<line x1=\"452.7\" y1=\"120.0\" x2=\"452.7\" y2=\"147.0\" opacity=\"1.0\" stroke=\"rgb(0,0,0)\" stroke-width=\"2.0\" />\n",
       "<line x1=\"317.1\" y1=\"160.0\" x2=\"282.5\" y2=\"180.0\" opacity=\"1.0\" stroke=\"rgb(0,0,0)\" stroke-width=\"2.0\" />\n",
       "<line x1=\"285.5\" y1=\"180.0\" x2=\"285.5\" y2=\"207.0\" opacity=\"1.0\" stroke=\"rgb(0,0,0)\" stroke-width=\"2.0\" />\n",
       "<line x1=\"279.5\" y1=\"180.0\" x2=\"279.5\" y2=\"207.0\" opacity=\"1.0\" stroke=\"rgb(0,0,0)\" stroke-width=\"2.0\" />\n",
       "<line x1=\"94.6\" y1=\"254.6\" x2=\"74.6\" y2=\"220.0\" opacity=\"1.0\" stroke=\"rgb(0,0,0)\" stroke-width=\"2.0\" />\n",
       "<line x1=\"74.6\" y1=\"220.0\" x2=\"54.6\" y2=\"254.6\" opacity=\"1.0\" stroke=\"rgb(0,0,0)\" stroke-width=\"2.0\" />\n",
       "<line x1=\"54.6\" y1=\"254.6\" x2=\"94.6\" y2=\"254.6\" opacity=\"1.0\" stroke=\"rgb(0,0,0)\" stroke-width=\"2.0\" />\n",
       "<line x1=\"525.0\" y1=\"40.0\" x2=\"559.6\" y2=\"60.0\" opacity=\"1.0\" stroke=\"rgb(0,0,0)\" stroke-width=\"2.0\" />\n",
       "<line x1=\"559.6\" y1=\"60.0\" x2=\"559.6\" y2=\"100.0\" opacity=\"1.0\" stroke=\"rgb(0,0,0)\" stroke-width=\"2.0\" />\n",
       "<line x1=\"552.4\" y1=\"66.0\" x2=\"552.4\" y2=\"94.0\" opacity=\"1.0\" stroke=\"rgb(0,0,0)\" stroke-width=\"2.0\" />\n",
       "<line x1=\"559.6\" y1=\"100.0\" x2=\"525.0\" y2=\"120.0\" opacity=\"1.0\" stroke=\"rgb(0,0,0)\" stroke-width=\"2.0\" />\n",
       "<line x1=\"525.0\" y1=\"120.0\" x2=\"490.3\" y2=\"100.0\" opacity=\"1.0\" stroke=\"rgb(0,0,0)\" stroke-width=\"2.0\" />\n",
       "<line x1=\"523.4\" y1=\"110.8\" x2=\"499.1\" y2=\"96.8\" opacity=\"1.0\" stroke=\"rgb(0,0,0)\" stroke-width=\"2.0\" />\n",
       "<line x1=\"490.3\" y1=\"100.0\" x2=\"490.3\" y2=\"60.0\" opacity=\"1.0\" stroke=\"rgb(0,0,0)\" stroke-width=\"2.0\" />\n",
       "<line x1=\"490.3\" y1=\"60.0\" x2=\"525.0\" y2=\"40.0\" opacity=\"1.0\" stroke=\"rgb(0,0,0)\" stroke-width=\"2.0\" />\n",
       "<line x1=\"499.1\" y1=\"63.2\" x2=\"523.4\" y2=\"49.2\" opacity=\"1.0\" stroke=\"rgb(0,0,0)\" stroke-width=\"2.0\" />\n",
       "<line x1=\"178.6\" y1=\"240.0\" x2=\"143.9\" y2=\"220.0\" opacity=\"1.0\" stroke=\"rgb(0,0,0)\" stroke-width=\"2.0\" />\n",
       "<line x1=\"143.9\" y1=\"220.0\" x2=\"143.9\" y2=\"180.0\" opacity=\"1.0\" stroke=\"rgb(0,0,0)\" stroke-width=\"2.0\" />\n",
       "<line x1=\"151.1\" y1=\"214.0\" x2=\"151.1\" y2=\"186.0\" opacity=\"1.0\" stroke=\"rgb(0,0,0)\" stroke-width=\"2.0\" />\n",
       "<line x1=\"143.9\" y1=\"180.0\" x2=\"178.6\" y2=\"160.0\" opacity=\"1.0\" stroke=\"rgb(0,0,0)\" stroke-width=\"2.0\" />\n",
       "<line x1=\"178.6\" y1=\"160.0\" x2=\"213.2\" y2=\"180.0\" opacity=\"1.0\" stroke=\"rgb(0,0,0)\" stroke-width=\"2.0\" />\n",
       "<line x1=\"180.2\" y1=\"169.2\" x2=\"204.4\" y2=\"183.2\" opacity=\"1.0\" stroke=\"rgb(0,0,0)\" stroke-width=\"2.0\" />\n",
       "<line x1=\"213.2\" y1=\"180.0\" x2=\"213.2\" y2=\"220.0\" opacity=\"1.0\" stroke=\"rgb(0,0,0)\" stroke-width=\"2.0\" />\n",
       "<line x1=\"213.2\" y1=\"220.0\" x2=\"178.6\" y2=\"240.0\" opacity=\"1.0\" stroke=\"rgb(0,0,0)\" stroke-width=\"2.0\" />\n",
       "<line x1=\"204.4\" y1=\"216.8\" x2=\"180.2\" y2=\"230.8\" opacity=\"1.0\" stroke=\"rgb(0,0,0)\" stroke-width=\"2.0\" />\n",
       "<line x1=\"386.4\" y1=\"120.0\" x2=\"351.8\" y2=\"100.0\" opacity=\"1.0\" stroke=\"rgb(0,0,0)\" stroke-width=\"2.0\" />\n",
       "<line x1=\"351.8\" y1=\"100.0\" x2=\"317.1\" y2=\"120.0\" opacity=\"1.0\" stroke=\"rgb(0,0,0)\" stroke-width=\"2.0\" />\n",
       "<line x1=\"350.2\" y1=\"109.2\" x2=\"325.9\" y2=\"123.2\" opacity=\"1.0\" stroke=\"rgb(0,0,0)\" stroke-width=\"2.0\" />\n",
       "<line x1=\"317.1\" y1=\"120.0\" x2=\"317.1\" y2=\"160.0\" opacity=\"1.0\" stroke=\"rgb(0,0,0)\" stroke-width=\"2.0\" />\n",
       "<line x1=\"317.1\" y1=\"160.0\" x2=\"351.8\" y2=\"180.0\" opacity=\"1.0\" stroke=\"rgb(0,0,0)\" stroke-width=\"2.0\" />\n",
       "<line x1=\"325.9\" y1=\"156.8\" x2=\"350.2\" y2=\"170.8\" opacity=\"1.0\" stroke=\"rgb(0,0,0)\" stroke-width=\"2.0\" />\n",
       "<line x1=\"351.8\" y1=\"180.0\" x2=\"386.4\" y2=\"160.0\" opacity=\"1.0\" stroke=\"rgb(0,0,0)\" stroke-width=\"2.0\" />\n",
       "<line x1=\"386.4\" y1=\"160.0\" x2=\"386.4\" y2=\"120.0\" opacity=\"1.0\" stroke=\"rgb(0,0,0)\" stroke-width=\"2.0\" />\n",
       "<line x1=\"379.2\" y1=\"154.0\" x2=\"379.2\" y2=\"126.0\" opacity=\"1.0\" stroke=\"rgb(0,0,0)\" stroke-width=\"2.0\" />\n",
       "<text x=\"276.487113\" y=\"228.000000\" fill=\"rgb(255,12,12)\" stroke-width=\"0\" font-weight=\"bold\" font-size=\"16\">O</text>\n",
       "<text x=\"241.846097\" y=\"168.000000\" fill=\"rgb(12,12,255)\" stroke-width=\"0\" font-weight=\"bold\" font-size=\"16\">N</text>\n",
       "<text x=\"241.846097\" y=\"128.000000\" fill=\"rgb(191,191,191)\" stroke-width=\"0\" font-weight=\"bold\" font-size=\"16\">H</text>\n",
       "<text x=\"391.210162\" y=\"155.968000\" fill=\"rgb(102,102,102)\" stroke-width=\"0\" font-weight=\"bold\" font-size=\"16\" />\n",
       "<text x=\"391.210162\" y=\"155.968000\" fill=\"rgb(102,102,102)\" stroke-width=\"0\" font-weight=\"bold\" font-size=\"32\">.</text>\n",
       "<text x=\"356.569145\" y=\"175.968000\" fill=\"rgb(102,102,102)\" stroke-width=\"0\" font-weight=\"bold\" font-size=\"16\" />\n",
       "<text x=\"356.569145\" y=\"175.968000\" fill=\"rgb(102,102,102)\" stroke-width=\"0\" font-weight=\"bold\" font-size=\"32\">.</text>\n",
       "<text x=\"321.928129\" y=\"115.968000\" fill=\"rgb(102,102,102)\" stroke-width=\"0\" font-weight=\"bold\" font-size=\"16\" />\n",
       "<text x=\"321.928129\" y=\"115.968000\" fill=\"rgb(102,102,102)\" stroke-width=\"0\" font-weight=\"bold\" font-size=\"32\">.</text>\n",
       "<text x=\"356.569145\" y=\"95.968000\" fill=\"rgb(102,102,102)\" stroke-width=\"0\" font-weight=\"bold\" font-size=\"16\" />\n",
       "<text x=\"356.569145\" y=\"95.968000\" fill=\"rgb(102,102,102)\" stroke-width=\"0\" font-weight=\"bold\" font-size=\"32\">.</text>\n",
       "<text x=\"449.692194\" y=\"168.000000\" fill=\"rgb(255,12,12)\" stroke-width=\"0\" font-weight=\"bold\" font-size=\"16\">O</text>\n",
       "<text x=\"415.051178\" y=\"108.000000\" fill=\"rgb(12,12,255)\" stroke-width=\"0\" font-weight=\"bold\" font-size=\"16\">N</text>\n",
       "<text x=\"415.051178\" y=\"68.000000\" fill=\"rgb(191,191,191)\" stroke-width=\"0\" font-weight=\"bold\" font-size=\"16\">H</text>\n",
       "<text x=\"495.133210\" y=\"55.968000\" fill=\"rgb(102,102,102)\" stroke-width=\"0\" font-weight=\"bold\" font-size=\"16\" />\n",
       "<text x=\"495.133210\" y=\"55.968000\" fill=\"rgb(102,102,102)\" stroke-width=\"0\" font-weight=\"bold\" font-size=\"32\">.</text>\n",
       "<text x=\"529.774226\" y=\"35.968000\" fill=\"rgb(102,102,102)\" stroke-width=\"0\" font-weight=\"bold\" font-size=\"16\" />\n",
       "<text x=\"529.774226\" y=\"35.968000\" fill=\"rgb(102,102,102)\" stroke-width=\"0\" font-weight=\"bold\" font-size=\"32\">.</text>\n",
       "<text x=\"564.415242\" y=\"55.968000\" fill=\"rgb(102,102,102)\" stroke-width=\"0\" font-weight=\"bold\" font-size=\"16\" />\n",
       "<text x=\"564.415242\" y=\"55.968000\" fill=\"rgb(102,102,102)\" stroke-width=\"0\" font-weight=\"bold\" font-size=\"32\">.</text>\n",
       "<text x=\"564.415242\" y=\"95.968000\" fill=\"rgb(102,102,102)\" stroke-width=\"0\" font-weight=\"bold\" font-size=\"16\" />\n",
       "<text x=\"564.415242\" y=\"95.968000\" fill=\"rgb(102,102,102)\" stroke-width=\"0\" font-weight=\"bold\" font-size=\"32\">.</text>\n",
       "<text x=\"529.774226\" y=\"115.968000\" fill=\"rgb(102,102,102)\" stroke-width=\"0\" font-weight=\"bold\" font-size=\"16\" />\n",
       "<text x=\"529.774226\" y=\"115.968000\" fill=\"rgb(102,102,102)\" stroke-width=\"0\" font-weight=\"bold\" font-size=\"32\">.</text>\n",
       "<text x=\"218.005081\" y=\"215.968000\" fill=\"rgb(102,102,102)\" stroke-width=\"0\" font-weight=\"bold\" font-size=\"16\" />\n",
       "<text x=\"218.005081\" y=\"215.968000\" fill=\"rgb(102,102,102)\" stroke-width=\"0\" font-weight=\"bold\" font-size=\"32\">.</text>\n",
       "<text x=\"183.364065\" y=\"235.968000\" fill=\"rgb(102,102,102)\" stroke-width=\"0\" font-weight=\"bold\" font-size=\"16\" />\n",
       "<text x=\"183.364065\" y=\"235.968000\" fill=\"rgb(102,102,102)\" stroke-width=\"0\" font-weight=\"bold\" font-size=\"32\">.</text>\n",
       "<text x=\"148.723048\" y=\"215.968000\" fill=\"rgb(102,102,102)\" stroke-width=\"0\" font-weight=\"bold\" font-size=\"16\" />\n",
       "<text x=\"148.723048\" y=\"215.968000\" fill=\"rgb(102,102,102)\" stroke-width=\"0\" font-weight=\"bold\" font-size=\"32\">.</text>\n",
       "<text x=\"183.364065\" y=\"155.968000\" fill=\"rgb(102,102,102)\" stroke-width=\"0\" font-weight=\"bold\" font-size=\"16\" />\n",
       "<text x=\"183.364065\" y=\"155.968000\" fill=\"rgb(102,102,102)\" stroke-width=\"0\" font-weight=\"bold\" font-size=\"32\">.</text>\n",
       "<text x=\"103.282032\" y=\"128.000000\" fill=\"rgb(255,12,12)\" stroke-width=\"0\" font-weight=\"bold\" font-size=\"16\">O</text>\n",
       "<text x=\"68.641016\" y=\"188.000000\" fill=\"rgb(12,12,255)\" stroke-width=\"0\" font-weight=\"bold\" font-size=\"16\">N</text>\n",
       "<text x=\"34.000000\" y=\"168.000000\" fill=\"rgb(191,191,191)\" stroke-width=\"0\" font-weight=\"bold\" font-size=\"16\">H</text>\n",
       "<text x=\"79.441016\" y=\"215.968000\" fill=\"rgb(102,102,102)\" stroke-width=\"0\" font-weight=\"bold\" font-size=\"16\" />\n",
       "<text x=\"79.441016\" y=\"215.968000\" fill=\"rgb(102,102,102)\" stroke-width=\"0\" font-weight=\"bold\" font-size=\"32\">.</text>\n",
       "<text x=\"99.441016\" y=\"250.609016\" fill=\"rgb(102,102,102)\" stroke-width=\"0\" font-weight=\"bold\" font-size=\"16\" />\n",
       "<text x=\"99.441016\" y=\"250.609016\" fill=\"rgb(102,102,102)\" stroke-width=\"0\" font-weight=\"bold\" font-size=\"32\">..</text>\n",
       "<text x=\"59.441016\" y=\"250.609016\" fill=\"rgb(102,102,102)\" stroke-width=\"0\" font-weight=\"bold\" font-size=\"16\" />\n",
       "<text x=\"59.441016\" y=\"250.609016\" fill=\"rgb(102,102,102)\" stroke-width=\"0\" font-weight=\"bold\" font-size=\"32\">..</text>\n",
       "</svg>\n"
      ],
      "text/plain": [
       "<openbabel.pybel.Molecule at 0x1997c564890>"
      ]
     },
     "execution_count": 21,
     "metadata": {},
     "output_type": "execute_result"
    }
   ],
   "source": [
    "w_3"
   ]
  },
  {
   "cell_type": "code",
   "execution_count": 22,
   "metadata": {},
   "outputs": [
    {
     "data": {
      "image/svg+xml": [
       "<svg xmlns=\"http://www.w3.org/2000/svg\" width=\"100\" height=\"100\" x=\"0\" y=\"0\" viewBox=\"0 0 634.256 420\" font-family=\"sans-serif\" stroke=\"rgb(0,0,0)\" stroke-width=\"2\" stroke-linecap=\"round\">\n",
       "<line x1=\"200.4\" y1=\"276.1\" x2=\"177.1\" y2=\"262.6\" opacity=\"1.0\" stroke=\"rgb(0,0,0)\" stroke-width=\"2.0\" />\n",
       "<line x1=\"203.4\" y1=\"270.9\" x2=\"180.1\" y2=\"257.4\" opacity=\"1.0\" stroke=\"rgb(0,0,0)\" stroke-width=\"2.0\" />\n",
       "<line x1=\"178.6\" y1=\"260.0\" x2=\"178.6\" y2=\"233.0\" opacity=\"1.0\" stroke=\"rgb(0,0,0)\" stroke-width=\"2.0\" />\n",
       "<line x1=\"189.8\" y1=\"213.5\" x2=\"213.2\" y2=\"200.0\" opacity=\"1.0\" stroke=\"rgb(0,0,0)\" stroke-width=\"2.0\" />\n",
       "<line x1=\"282.5\" y1=\"160.0\" x2=\"317.1\" y2=\"140.0\" opacity=\"1.0\" stroke=\"rgb(0,0,0)\" stroke-width=\"2.0\" />\n",
       "<line x1=\"314.1\" y1=\"140.0\" x2=\"314.1\" y2=\"113.0\" opacity=\"1.0\" stroke=\"rgb(0,0,0)\" stroke-width=\"2.0\" />\n",
       "<line x1=\"320.1\" y1=\"140.0\" x2=\"320.1\" y2=\"113.0\" opacity=\"1.0\" stroke=\"rgb(0,0,0)\" stroke-width=\"2.0\" />\n",
       "<line x1=\"317.1\" y1=\"140.0\" x2=\"340.5\" y2=\"153.5\" opacity=\"1.0\" stroke=\"rgb(0,0,0)\" stroke-width=\"2.0\" />\n",
       "<line x1=\"363.0\" y1=\"153.5\" x2=\"386.4\" y2=\"140.0\" opacity=\"1.0\" stroke=\"rgb(0,0,0)\" stroke-width=\"2.0\" />\n",
       "<line x1=\"455.7\" y1=\"140.0\" x2=\"490.3\" y2=\"160.0\" opacity=\"1.0\" stroke=\"rgb(0,0,0)\" stroke-width=\"2.0\" />\n",
       "<line x1=\"488.8\" y1=\"157.4\" x2=\"512.2\" y2=\"143.9\" opacity=\"1.0\" stroke=\"rgb(0,0,0)\" stroke-width=\"2.0\" />\n",
       "<line x1=\"491.8\" y1=\"162.6\" x2=\"515.2\" y2=\"149.1\" opacity=\"1.0\" stroke=\"rgb(0,0,0)\" stroke-width=\"2.0\" />\n",
       "<line x1=\"490.3\" y1=\"160.0\" x2=\"490.3\" y2=\"187.0\" opacity=\"1.0\" stroke=\"rgb(0,0,0)\" stroke-width=\"2.0\" />\n",
       "<line x1=\"501.6\" y1=\"206.5\" x2=\"525.0\" y2=\"220.0\" opacity=\"1.0\" stroke=\"rgb(0,0,0)\" stroke-width=\"2.0\" />\n",
       "<line x1=\"178.6\" y1=\"260.0\" x2=\"143.9\" y2=\"280.0\" opacity=\"1.0\" stroke=\"rgb(0,0,0)\" stroke-width=\"2.0\" />\n",
       "<line x1=\"167.3\" y1=\"213.5\" x2=\"155.2\" y2=\"206.5\" opacity=\"1.0\" stroke=\"rgb(0,0,0)\" stroke-width=\"2.0\" />\n",
       "<line x1=\"247.8\" y1=\"220.0\" x2=\"247.8\" y2=\"247.0\" opacity=\"1.0\" stroke=\"rgb(0,0,0)\" stroke-width=\"2.0\" />\n",
       "<line x1=\"282.5\" y1=\"200.0\" x2=\"305.9\" y2=\"213.5\" opacity=\"1.0\" stroke=\"rgb(0,0,0)\" stroke-width=\"2.0\" />\n",
       "<line x1=\"247.8\" y1=\"140.0\" x2=\"247.8\" y2=\"113.0\" opacity=\"1.0\" stroke=\"rgb(0,0,0)\" stroke-width=\"2.0\" />\n",
       "<line x1=\"213.2\" y1=\"160.0\" x2=\"189.8\" y2=\"146.5\" opacity=\"1.0\" stroke=\"rgb(0,0,0)\" stroke-width=\"2.0\" />\n",
       "<line x1=\"351.8\" y1=\"173.0\" x2=\"351.8\" y2=\"187.0\" opacity=\"1.0\" stroke=\"rgb(0,0,0)\" stroke-width=\"2.0\" />\n",
       "<line x1=\"386.4\" y1=\"100.0\" x2=\"363.0\" y2=\"86.5\" opacity=\"1.0\" stroke=\"rgb(0,0,0)\" stroke-width=\"2.0\" />\n",
       "<line x1=\"421.1\" y1=\"80.0\" x2=\"421.1\" y2=\"53.0\" opacity=\"1.0\" stroke=\"rgb(0,0,0)\" stroke-width=\"2.0\" />\n",
       "<line x1=\"455.7\" y1=\"100.0\" x2=\"479.1\" y2=\"86.5\" opacity=\"1.0\" stroke=\"rgb(0,0,0)\" stroke-width=\"2.0\" />\n",
       "<line x1=\"421.1\" y1=\"160.0\" x2=\"421.1\" y2=\"187.0\" opacity=\"1.0\" stroke=\"rgb(0,0,0)\" stroke-width=\"2.0\" />\n",
       "<line x1=\"479.1\" y1=\"206.5\" x2=\"467.0\" y2=\"213.5\" opacity=\"1.0\" stroke=\"rgb(0,0,0)\" stroke-width=\"2.0\" />\n",
       "<line x1=\"525.0\" y1=\"220.0\" x2=\"501.6\" y2=\"233.5\" opacity=\"1.0\" stroke=\"rgb(0,0,0)\" stroke-width=\"2.0\" />\n",
       "<line x1=\"559.6\" y1=\"200.0\" x2=\"583.0\" y2=\"186.5\" opacity=\"1.0\" stroke=\"rgb(0,0,0)\" stroke-width=\"2.0\" />\n",
       "<line x1=\"559.6\" y1=\"200.0\" x2=\"559.6\" y2=\"173.0\" opacity=\"1.0\" stroke=\"rgb(0,0,0)\" stroke-width=\"2.0\" />\n",
       "<line x1=\"559.6\" y1=\"240.0\" x2=\"559.6\" y2=\"267.0\" opacity=\"1.0\" stroke=\"rgb(0,0,0)\" stroke-width=\"2.0\" />\n",
       "<line x1=\"559.6\" y1=\"240.0\" x2=\"583.0\" y2=\"253.5\" opacity=\"1.0\" stroke=\"rgb(0,0,0)\" stroke-width=\"2.0\" />\n",
       "<line x1=\"109.3\" y1=\"260.0\" x2=\"109.3\" y2=\"233.0\" opacity=\"1.0\" stroke=\"rgb(0,0,0)\" stroke-width=\"2.0\" />\n",
       "<line x1=\"74.6\" y1=\"280.0\" x2=\"51.3\" y2=\"266.5\" opacity=\"1.0\" stroke=\"rgb(0,0,0)\" stroke-width=\"2.0\" />\n",
       "<line x1=\"74.6\" y1=\"320.0\" x2=\"51.3\" y2=\"333.5\" opacity=\"1.0\" stroke=\"rgb(0,0,0)\" stroke-width=\"2.0\" />\n",
       "<line x1=\"109.3\" y1=\"340.0\" x2=\"109.3\" y2=\"367.0\" opacity=\"1.0\" stroke=\"rgb(0,0,0)\" stroke-width=\"2.0\" />\n",
       "<line x1=\"143.9\" y1=\"320.0\" x2=\"167.3\" y2=\"333.5\" opacity=\"1.0\" stroke=\"rgb(0,0,0)\" stroke-width=\"2.0\" />\n",
       "<line x1=\"247.8\" y1=\"220.0\" x2=\"213.2\" y2=\"200.0\" opacity=\"1.0\" stroke=\"rgb(0,0,0)\" stroke-width=\"2.0\" />\n",
       "<line x1=\"246.2\" y1=\"210.8\" x2=\"222.0\" y2=\"196.8\" opacity=\"1.0\" stroke=\"rgb(0,0,0)\" stroke-width=\"2.0\" />\n",
       "<line x1=\"213.2\" y1=\"200.0\" x2=\"213.2\" y2=\"160.0\" opacity=\"1.0\" stroke=\"rgb(0,0,0)\" stroke-width=\"2.0\" />\n",
       "<line x1=\"213.2\" y1=\"160.0\" x2=\"247.8\" y2=\"140.0\" opacity=\"1.0\" stroke=\"rgb(0,0,0)\" stroke-width=\"2.0\" />\n",
       "<line x1=\"222.0\" y1=\"163.2\" x2=\"246.2\" y2=\"149.2\" opacity=\"1.0\" stroke=\"rgb(0,0,0)\" stroke-width=\"2.0\" />\n",
       "<line x1=\"247.8\" y1=\"140.0\" x2=\"282.5\" y2=\"160.0\" opacity=\"1.0\" stroke=\"rgb(0,0,0)\" stroke-width=\"2.0\" />\n",
       "<line x1=\"282.5\" y1=\"160.0\" x2=\"282.5\" y2=\"200.0\" opacity=\"1.0\" stroke=\"rgb(0,0,0)\" stroke-width=\"2.0\" />\n",
       "<line x1=\"275.3\" y1=\"166.0\" x2=\"275.3\" y2=\"194.0\" opacity=\"1.0\" stroke=\"rgb(0,0,0)\" stroke-width=\"2.0\" />\n",
       "<line x1=\"282.5\" y1=\"200.0\" x2=\"247.8\" y2=\"220.0\" opacity=\"1.0\" stroke=\"rgb(0,0,0)\" stroke-width=\"2.0\" />\n",
       "<line x1=\"386.4\" y1=\"100.0\" x2=\"386.4\" y2=\"140.0\" opacity=\"1.0\" stroke=\"rgb(0,0,0)\" stroke-width=\"2.0\" />\n",
       "<line x1=\"393.6\" y1=\"106.0\" x2=\"393.6\" y2=\"134.0\" opacity=\"1.0\" stroke=\"rgb(0,0,0)\" stroke-width=\"2.0\" />\n",
       "<line x1=\"386.4\" y1=\"140.0\" x2=\"421.1\" y2=\"160.0\" opacity=\"1.0\" stroke=\"rgb(0,0,0)\" stroke-width=\"2.0\" />\n",
       "<line x1=\"421.1\" y1=\"160.0\" x2=\"455.7\" y2=\"140.0\" opacity=\"1.0\" stroke=\"rgb(0,0,0)\" stroke-width=\"2.0\" />\n",
       "<line x1=\"422.6\" y1=\"150.8\" x2=\"446.9\" y2=\"136.8\" opacity=\"1.0\" stroke=\"rgb(0,0,0)\" stroke-width=\"2.0\" />\n",
       "<line x1=\"455.7\" y1=\"140.0\" x2=\"455.7\" y2=\"100.0\" opacity=\"1.0\" stroke=\"rgb(0,0,0)\" stroke-width=\"2.0\" />\n",
       "<line x1=\"455.7\" y1=\"100.0\" x2=\"421.1\" y2=\"80.0\" opacity=\"1.0\" stroke=\"rgb(0,0,0)\" stroke-width=\"2.0\" />\n",
       "<line x1=\"446.9\" y1=\"103.2\" x2=\"422.6\" y2=\"89.2\" opacity=\"1.0\" stroke=\"rgb(0,0,0)\" stroke-width=\"2.0\" />\n",
       "<line x1=\"421.1\" y1=\"80.0\" x2=\"386.4\" y2=\"100.0\" opacity=\"1.0\" stroke=\"rgb(0,0,0)\" stroke-width=\"2.0\" />\n",
       "<line x1=\"109.3\" y1=\"260.0\" x2=\"143.9\" y2=\"280.0\" opacity=\"1.0\" stroke=\"rgb(0,0,0)\" stroke-width=\"2.0\" />\n",
       "<line x1=\"110.9\" y1=\"269.2\" x2=\"135.1\" y2=\"283.2\" opacity=\"1.0\" stroke=\"rgb(0,0,0)\" stroke-width=\"2.0\" />\n",
       "<line x1=\"143.9\" y1=\"280.0\" x2=\"143.9\" y2=\"320.0\" opacity=\"1.0\" stroke=\"rgb(0,0,0)\" stroke-width=\"2.0\" />\n",
       "<line x1=\"143.9\" y1=\"320.0\" x2=\"109.3\" y2=\"340.0\" opacity=\"1.0\" stroke=\"rgb(0,0,0)\" stroke-width=\"2.0\" />\n",
       "<line x1=\"135.1\" y1=\"316.8\" x2=\"110.9\" y2=\"330.8\" opacity=\"1.0\" stroke=\"rgb(0,0,0)\" stroke-width=\"2.0\" />\n",
       "<line x1=\"109.3\" y1=\"340.0\" x2=\"74.6\" y2=\"320.0\" opacity=\"1.0\" stroke=\"rgb(0,0,0)\" stroke-width=\"2.0\" />\n",
       "<line x1=\"74.6\" y1=\"320.0\" x2=\"74.6\" y2=\"280.0\" opacity=\"1.0\" stroke=\"rgb(0,0,0)\" stroke-width=\"2.0\" />\n",
       "<line x1=\"81.8\" y1=\"314.0\" x2=\"81.8\" y2=\"286.0\" opacity=\"1.0\" stroke=\"rgb(0,0,0)\" stroke-width=\"2.0\" />\n",
       "<line x1=\"74.6\" y1=\"280.0\" x2=\"109.3\" y2=\"260.0\" opacity=\"1.0\" stroke=\"rgb(0,0,0)\" stroke-width=\"2.0\" />\n",
       "<line x1=\"559.6\" y1=\"200.0\" x2=\"559.6\" y2=\"240.0\" opacity=\"1.0\" stroke=\"rgb(0,0,0)\" stroke-width=\"2.0\" />\n",
       "<line x1=\"559.6\" y1=\"240.0\" x2=\"525.0\" y2=\"220.0\" opacity=\"1.0\" stroke=\"rgb(0,0,0)\" stroke-width=\"2.0\" />\n",
       "<line x1=\"525.0\" y1=\"220.0\" x2=\"559.6\" y2=\"200.0\" opacity=\"1.0\" stroke=\"rgb(0,0,0)\" stroke-width=\"2.0\" />\n",
       "<text x=\"207.205081\" y=\"288.000000\" fill=\"rgb(255,12,12)\" stroke-width=\"0\" font-weight=\"bold\" font-size=\"16\">O</text>\n",
       "<text x=\"172.564065\" y=\"228.000000\" fill=\"rgb(12,12,255)\" stroke-width=\"0\" font-weight=\"bold\" font-size=\"16\">N</text>\n",
       "<text x=\"311.128129\" y=\"108.000000\" fill=\"rgb(255,12,12)\" stroke-width=\"0\" font-weight=\"bold\" font-size=\"16\">O</text>\n",
       "<text x=\"345.769145\" y=\"168.000000\" fill=\"rgb(12,12,255)\" stroke-width=\"0\" font-weight=\"bold\" font-size=\"16\">N</text>\n",
       "<text x=\"518.974226\" y=\"148.000000\" fill=\"rgb(255,12,12)\" stroke-width=\"0\" font-weight=\"bold\" font-size=\"16\">O</text>\n",
       "<text x=\"484.333210\" y=\"208.000000\" fill=\"rgb(12,12,255)\" stroke-width=\"0\" font-weight=\"bold\" font-size=\"16\">N</text>\n",
       "<text x=\"137.923048\" y=\"208.000000\" fill=\"rgb(191,191,191)\" stroke-width=\"0\" font-weight=\"bold\" font-size=\"16\">H</text>\n",
       "<text x=\"241.846097\" y=\"268.000000\" fill=\"rgb(191,191,191)\" stroke-width=\"0\" font-weight=\"bold\" font-size=\"16\">H</text>\n",
       "<text x=\"311.128129\" y=\"228.000000\" fill=\"rgb(191,191,191)\" stroke-width=\"0\" font-weight=\"bold\" font-size=\"16\">H</text>\n",
       "<text x=\"241.846097\" y=\"108.000000\" fill=\"rgb(191,191,191)\" stroke-width=\"0\" font-weight=\"bold\" font-size=\"16\">H</text>\n",
       "<text x=\"172.564065\" y=\"148.000000\" fill=\"rgb(191,191,191)\" stroke-width=\"0\" font-weight=\"bold\" font-size=\"16\">H</text>\n",
       "<text x=\"345.769145\" y=\"208.000000\" fill=\"rgb(191,191,191)\" stroke-width=\"0\" font-weight=\"bold\" font-size=\"16\">H</text>\n",
       "<text x=\"345.769145\" y=\"88.000000\" fill=\"rgb(191,191,191)\" stroke-width=\"0\" font-weight=\"bold\" font-size=\"16\">H</text>\n",
       "<text x=\"415.051178\" y=\"48.000000\" fill=\"rgb(191,191,191)\" stroke-width=\"0\" font-weight=\"bold\" font-size=\"16\">H</text>\n",
       "<text x=\"484.333210\" y=\"88.000000\" fill=\"rgb(191,191,191)\" stroke-width=\"0\" font-weight=\"bold\" font-size=\"16\">H</text>\n",
       "<text x=\"415.051178\" y=\"208.000000\" fill=\"rgb(191,191,191)\" stroke-width=\"0\" font-weight=\"bold\" font-size=\"16\">H</text>\n",
       "<text x=\"449.692194\" y=\"228.000000\" fill=\"rgb(191,191,191)\" stroke-width=\"0\" font-weight=\"bold\" font-size=\"16\">H</text>\n",
       "<text x=\"484.333210\" y=\"248.000000\" fill=\"rgb(191,191,191)\" stroke-width=\"0\" font-weight=\"bold\" font-size=\"16\">H</text>\n",
       "<text x=\"588.256258\" y=\"188.000000\" fill=\"rgb(191,191,191)\" stroke-width=\"0\" font-weight=\"bold\" font-size=\"16\">H</text>\n",
       "<text x=\"553.615242\" y=\"168.000000\" fill=\"rgb(191,191,191)\" stroke-width=\"0\" font-weight=\"bold\" font-size=\"16\">H</text>\n",
       "<text x=\"553.615242\" y=\"288.000000\" fill=\"rgb(191,191,191)\" stroke-width=\"0\" font-weight=\"bold\" font-size=\"16\">H</text>\n",
       "<text x=\"588.256258\" y=\"268.000000\" fill=\"rgb(191,191,191)\" stroke-width=\"0\" font-weight=\"bold\" font-size=\"16\">H</text>\n",
       "<text x=\"103.282032\" y=\"228.000000\" fill=\"rgb(191,191,191)\" stroke-width=\"0\" font-weight=\"bold\" font-size=\"16\">H</text>\n",
       "<text x=\"34.000000\" y=\"268.000000\" fill=\"rgb(191,191,191)\" stroke-width=\"0\" font-weight=\"bold\" font-size=\"16\">H</text>\n",
       "<text x=\"34.000000\" y=\"348.000000\" fill=\"rgb(191,191,191)\" stroke-width=\"0\" font-weight=\"bold\" font-size=\"16\">H</text>\n",
       "<text x=\"103.282032\" y=\"388.000000\" fill=\"rgb(191,191,191)\" stroke-width=\"0\" font-weight=\"bold\" font-size=\"16\">H</text>\n",
       "<text x=\"172.564065\" y=\"348.000000\" fill=\"rgb(191,191,191)\" stroke-width=\"0\" font-weight=\"bold\" font-size=\"16\">H</text>\n",
       "</svg>\n"
      ],
      "text/plain": [
       "<openbabel.pybel.Molecule at 0x199f2032b90>"
      ]
     },
     "execution_count": 22,
     "metadata": {},
     "output_type": "execute_result"
    }
   ],
   "source": [
    "wierd_2"
   ]
  },
  {
   "cell_type": "markdown",
   "metadata": {},
   "source": [
    "**Saving the drawn ligands into .pdbqt files for AutoDock Vina**"
   ]
  },
  {
   "cell_type": "code",
   "execution_count": 25,
   "metadata": {},
   "outputs": [],
   "source": [
    "def mol_to_pdbqt(mol, filename):\n",
    "    if mol.GetNumConformers() == 0:\n",
    "        raise ValueError(f\"Molecule has no conformers: {filename}\")\n",
    "    \n",
    "    # Convert RDKit Mol to MOL block\n",
    "    mol_block = Chem.MolToMolBlock(mol)\n",
    "    \n",
    "    # Load the MOL block into Open Babel\n",
    "    obmol = pybel.readstring(\"mol\", mol_block)\n",
    "    \n",
    "    # Calculate Gasteiger charges\n",
    "    charge_model = pybel.ob.OBChargeModel.FindType(\"gasteiger\")\n",
    "    charge_model.ComputeCharges(obmol.OBMol)\n",
    "    \n",
    "    # Write the molecule to a PDBQT file\n",
    "    obmol.write(\"pdbqt\", filename, overwrite=True)\n",
    "\n",
    "# Save all prepared ligands\n",
    "for i, mol in enumerate(random_ligands):\n",
    "    fname = f\"./preprocessed_ligands/ligand_{i+1}.pdbqt\"\n",
    "    mol_to_pdbqt(mol, fname)"
   ]
  },
  {
   "cell_type": "markdown",
   "metadata": {},
   "source": [
    "# **Stage 2**\n",
    "### **Virtual screening with molecular docking**"
   ]
  },
  {
   "cell_type": "markdown",
   "metadata": {},
   "source": [
    "**Docking**"
   ]
  },
  {
   "cell_type": "code",
   "execution_count": 14,
   "metadata": {},
   "outputs": [
    {
     "ename": "OSError",
     "evalue": "[WinError 193] %1 nie jest prawidłową aplikacją systemu Win32",
     "output_type": "error",
     "traceback": [
      "\u001b[1;31m---------------------------------------------------------------------------\u001b[0m",
      "\u001b[1;31mOSError\u001b[0m                                   Traceback (most recent call last)",
      "Cell \u001b[1;32mIn[14], line 1\u001b[0m\n\u001b[1;32m----> 1\u001b[0m subprocess\u001b[38;5;241m.\u001b[39mrun([\u001b[38;5;124m\"\u001b[39m\u001b[38;5;124m./docking.sh\u001b[39m\u001b[38;5;124m\"\u001b[39m], check\u001b[38;5;241m=\u001b[39m\u001b[38;5;28;01mTrue\u001b[39;00m)\n",
      "File \u001b[1;32mc:\\Users\\micae\\anaconda3\\Lib\\subprocess.py:548\u001b[0m, in \u001b[0;36mrun\u001b[1;34m(input, capture_output, timeout, check, *popenargs, **kwargs)\u001b[0m\n\u001b[0;32m    545\u001b[0m     kwargs[\u001b[38;5;124m'\u001b[39m\u001b[38;5;124mstdout\u001b[39m\u001b[38;5;124m'\u001b[39m] \u001b[38;5;241m=\u001b[39m PIPE\n\u001b[0;32m    546\u001b[0m     kwargs[\u001b[38;5;124m'\u001b[39m\u001b[38;5;124mstderr\u001b[39m\u001b[38;5;124m'\u001b[39m] \u001b[38;5;241m=\u001b[39m PIPE\n\u001b[1;32m--> 548\u001b[0m \u001b[38;5;28;01mwith\u001b[39;00m Popen(\u001b[38;5;241m*\u001b[39mpopenargs, \u001b[38;5;241m*\u001b[39m\u001b[38;5;241m*\u001b[39mkwargs) \u001b[38;5;28;01mas\u001b[39;00m process:\n\u001b[0;32m    549\u001b[0m     \u001b[38;5;28;01mtry\u001b[39;00m:\n\u001b[0;32m    550\u001b[0m         stdout, stderr \u001b[38;5;241m=\u001b[39m process\u001b[38;5;241m.\u001b[39mcommunicate(\u001b[38;5;28minput\u001b[39m, timeout\u001b[38;5;241m=\u001b[39mtimeout)\n",
      "File \u001b[1;32mc:\\Users\\micae\\anaconda3\\Lib\\subprocess.py:1026\u001b[0m, in \u001b[0;36mPopen.__init__\u001b[1;34m(self, args, bufsize, executable, stdin, stdout, stderr, preexec_fn, close_fds, shell, cwd, env, universal_newlines, startupinfo, creationflags, restore_signals, start_new_session, pass_fds, user, group, extra_groups, encoding, errors, text, umask, pipesize, process_group)\u001b[0m\n\u001b[0;32m   1022\u001b[0m         \u001b[38;5;28;01mif\u001b[39;00m \u001b[38;5;28mself\u001b[39m\u001b[38;5;241m.\u001b[39mtext_mode:\n\u001b[0;32m   1023\u001b[0m             \u001b[38;5;28mself\u001b[39m\u001b[38;5;241m.\u001b[39mstderr \u001b[38;5;241m=\u001b[39m io\u001b[38;5;241m.\u001b[39mTextIOWrapper(\u001b[38;5;28mself\u001b[39m\u001b[38;5;241m.\u001b[39mstderr,\n\u001b[0;32m   1024\u001b[0m                     encoding\u001b[38;5;241m=\u001b[39mencoding, errors\u001b[38;5;241m=\u001b[39merrors)\n\u001b[1;32m-> 1026\u001b[0m     \u001b[38;5;28mself\u001b[39m\u001b[38;5;241m.\u001b[39m_execute_child(args, executable, preexec_fn, close_fds,\n\u001b[0;32m   1027\u001b[0m                         pass_fds, cwd, env,\n\u001b[0;32m   1028\u001b[0m                         startupinfo, creationflags, shell,\n\u001b[0;32m   1029\u001b[0m                         p2cread, p2cwrite,\n\u001b[0;32m   1030\u001b[0m                         c2pread, c2pwrite,\n\u001b[0;32m   1031\u001b[0m                         errread, errwrite,\n\u001b[0;32m   1032\u001b[0m                         restore_signals,\n\u001b[0;32m   1033\u001b[0m                         gid, gids, uid, umask,\n\u001b[0;32m   1034\u001b[0m                         start_new_session, process_group)\n\u001b[0;32m   1035\u001b[0m \u001b[38;5;28;01mexcept\u001b[39;00m:\n\u001b[0;32m   1036\u001b[0m     \u001b[38;5;66;03m# Cleanup if the child failed starting.\u001b[39;00m\n\u001b[0;32m   1037\u001b[0m     \u001b[38;5;28;01mfor\u001b[39;00m f \u001b[38;5;129;01min\u001b[39;00m \u001b[38;5;28mfilter\u001b[39m(\u001b[38;5;28;01mNone\u001b[39;00m, (\u001b[38;5;28mself\u001b[39m\u001b[38;5;241m.\u001b[39mstdin, \u001b[38;5;28mself\u001b[39m\u001b[38;5;241m.\u001b[39mstdout, \u001b[38;5;28mself\u001b[39m\u001b[38;5;241m.\u001b[39mstderr)):\n",
      "File \u001b[1;32mc:\\Users\\micae\\anaconda3\\Lib\\subprocess.py:1538\u001b[0m, in \u001b[0;36mPopen._execute_child\u001b[1;34m(self, args, executable, preexec_fn, close_fds, pass_fds, cwd, env, startupinfo, creationflags, shell, p2cread, p2cwrite, c2pread, c2pwrite, errread, errwrite, unused_restore_signals, unused_gid, unused_gids, unused_uid, unused_umask, unused_start_new_session, unused_process_group)\u001b[0m\n\u001b[0;32m   1536\u001b[0m \u001b[38;5;66;03m# Start the process\u001b[39;00m\n\u001b[0;32m   1537\u001b[0m \u001b[38;5;28;01mtry\u001b[39;00m:\n\u001b[1;32m-> 1538\u001b[0m     hp, ht, pid, tid \u001b[38;5;241m=\u001b[39m _winapi\u001b[38;5;241m.\u001b[39mCreateProcess(executable, args,\n\u001b[0;32m   1539\u001b[0m                              \u001b[38;5;66;03m# no special security\u001b[39;00m\n\u001b[0;32m   1540\u001b[0m                              \u001b[38;5;28;01mNone\u001b[39;00m, \u001b[38;5;28;01mNone\u001b[39;00m,\n\u001b[0;32m   1541\u001b[0m                              \u001b[38;5;28mint\u001b[39m(\u001b[38;5;129;01mnot\u001b[39;00m close_fds),\n\u001b[0;32m   1542\u001b[0m                              creationflags,\n\u001b[0;32m   1543\u001b[0m                              env,\n\u001b[0;32m   1544\u001b[0m                              cwd,\n\u001b[0;32m   1545\u001b[0m                              startupinfo)\n\u001b[0;32m   1546\u001b[0m \u001b[38;5;28;01mfinally\u001b[39;00m:\n\u001b[0;32m   1547\u001b[0m     \u001b[38;5;66;03m# Child is launched. Close the parent's copy of those pipe\u001b[39;00m\n\u001b[0;32m   1548\u001b[0m     \u001b[38;5;66;03m# handles that only the child should have open.  You need\u001b[39;00m\n\u001b[1;32m   (...)\u001b[0m\n\u001b[0;32m   1551\u001b[0m     \u001b[38;5;66;03m# pipe will not close when the child process exits and the\u001b[39;00m\n\u001b[0;32m   1552\u001b[0m     \u001b[38;5;66;03m# ReadFile will hang.\u001b[39;00m\n\u001b[0;32m   1553\u001b[0m     \u001b[38;5;28mself\u001b[39m\u001b[38;5;241m.\u001b[39m_close_pipe_fds(p2cread, p2cwrite,\n\u001b[0;32m   1554\u001b[0m                          c2pread, c2pwrite,\n\u001b[0;32m   1555\u001b[0m                          errread, errwrite)\n",
      "\u001b[1;31mOSError\u001b[0m: [WinError 193] %1 nie jest prawidłową aplikacją systemu Win32"
     ]
    }
   ],
   "source": [
    "subprocess.run([\"./docking.sh\"], check=True)"
   ]
  },
  {
   "cell_type": "code",
   "execution_count": 29,
   "metadata": {},
   "outputs": [
    {
     "name": "stdout",
     "output_type": "stream",
     "text": [
      "Docking ligand 1...\n",
      "✅ Success: docked_ligands\\docked_ligand_1.pdbqt\n",
      "Docking ligand 2...\n",
      "✅ Success: docked_ligands\\docked_ligand_2.pdbqt\n",
      "Docking ligand 3...\n",
      "✅ Success: docked_ligands\\docked_ligand_3.pdbqt\n",
      "Docking ligand 4...\n",
      "✅ Success: docked_ligands\\docked_ligand_4.pdbqt\n",
      "Docking ligand 5...\n",
      "✅ Success: docked_ligands\\docked_ligand_5.pdbqt\n",
      "Docking ligand 6...\n",
      "✅ Success: docked_ligands\\docked_ligand_6.pdbqt\n",
      "Docking ligand 7...\n",
      "✅ Success: docked_ligands\\docked_ligand_7.pdbqt\n",
      "Docking ligand 8...\n",
      "✅ Success: docked_ligands\\docked_ligand_8.pdbqt\n",
      "Docking ligand 9...\n",
      "✅ Success: docked_ligands\\docked_ligand_9.pdbqt\n",
      "Docking ligand 10...\n",
      "✅ Success: docked_ligands\\docked_ligand_10.pdbqt\n",
      "Docking ligand 11...\n",
      "✅ Success: docked_ligands\\docked_ligand_11.pdbqt\n",
      "Docking ligand 12...\n",
      "✅ Success: docked_ligands\\docked_ligand_12.pdbqt\n",
      "Docking ligand 13...\n",
      "✅ Success: docked_ligands\\docked_ligand_13.pdbqt\n",
      "Docking ligand 14...\n",
      "✅ Success: docked_ligands\\docked_ligand_14.pdbqt\n",
      "Docking ligand 15...\n",
      "✅ Success: docked_ligands\\docked_ligand_15.pdbqt\n",
      "Docking ligand 16...\n",
      "✅ Success: docked_ligands\\docked_ligand_16.pdbqt\n",
      "Docking ligand 17...\n",
      "✅ Success: docked_ligands\\docked_ligand_17.pdbqt\n",
      "Docking ligand 18...\n",
      "✅ Success: docked_ligands\\docked_ligand_18.pdbqt\n",
      "Docking ligand 19...\n",
      "✅ Success: docked_ligands\\docked_ligand_19.pdbqt\n",
      "Docking ligand 20...\n",
      "✅ Success: docked_ligands\\docked_ligand_20.pdbqt\n",
      "Docking ligand 21...\n",
      "✅ Success: docked_ligands\\docked_ligand_21.pdbqt\n",
      "Docking ligand 22...\n",
      "✅ Success: docked_ligands\\docked_ligand_22.pdbqt\n",
      "\n",
      "🎉 Docking complete! Results saved to 'docked_ligands/'\n"
     ]
    }
   ],
   "source": [
    "# Konfiguracja\n",
    "RECEPTOR = \"5cno_clean.pdbqt\"\n",
    "PREPROCESSED_DIR = \"preprocessed_ligands\"\n",
    "DOCKED_DIR = \"docked_ligands\"\n",
    "VINA_EXEC = \"vina.exe\"  # lub ścieżka do vina, np. \"C:/vina/vina.exe\"\n",
    "\n",
    "# Parametry dockowania\n",
    "CENTER_X = -30\n",
    "CENTER_Y = -10\n",
    "CENTER_Z = 17\n",
    "SIZE_X = 10\n",
    "SIZE_Y = 10\n",
    "SIZE_Z = 10\n",
    "SCORING = \"vinardo\"\n",
    "EXHAUSTIVENESS = 24\n",
    "\n",
    "# Tworzenie folderu wyjściowego\n",
    "os.makedirs(DOCKED_DIR, exist_ok=True)\n",
    "\n",
    "# Przetwarzanie ligandów 1–22\n",
    "for i in range(1, 23):\n",
    "    ligand = os.path.join(PREPROCESSED_DIR, f\"ligand_{i}.pdbqt\")\n",
    "    output = os.path.join(DOCKED_DIR, f\"docked_ligand_{i}.pdbqt\")\n",
    "\n",
    "    print(f\"Docking ligand {i}...\")\n",
    "\n",
    "    if not os.path.isfile(ligand):\n",
    "        print(f\"⚠️ Warning: {ligand} not found, skipping\")\n",
    "        continue\n",
    "\n",
    "    result = subprocess.run([\n",
    "        VINA_EXEC,\n",
    "        \"--receptor\", RECEPTOR,\n",
    "        \"--ligand\", ligand,\n",
    "        \"--center_x\", str(CENTER_X),\n",
    "        \"--center_y\", str(CENTER_Y),\n",
    "        \"--center_z\", str(CENTER_Z),\n",
    "        \"--size_x\", str(SIZE_X),\n",
    "        \"--size_y\", str(SIZE_Y),\n",
    "        \"--size_z\", str(SIZE_Z),\n",
    "        \"--scoring\", SCORING,\n",
    "        \"--exhaustiveness\", str(EXHAUSTIVENESS),\n",
    "        \"--out\", output\n",
    "    ])\n",
    "\n",
    "    if result.returncode == 0:\n",
    "        print(f\"✅ Success: {output}\")\n",
    "    else:\n",
    "        print(f\"❌ Error docking ligand {i}\")\n",
    "\n",
    "print(f\"\\n🎉 Docking complete! Results saved to '{DOCKED_DIR}/'\")\n"
   ]
  },
  {
   "cell_type": "markdown",
   "metadata": {},
   "source": [
    "**Extracting results**"
   ]
  },
  {
   "cell_type": "code",
   "execution_count": 30,
   "metadata": {},
   "outputs": [
    {
     "ename": "OSError",
     "evalue": "[WinError 193] %1 nie jest prawidłową aplikacją systemu Win32",
     "output_type": "error",
     "traceback": [
      "\u001b[1;31m---------------------------------------------------------------------------\u001b[0m",
      "\u001b[1;31mOSError\u001b[0m                                   Traceback (most recent call last)",
      "Cell \u001b[1;32mIn[30], line 1\u001b[0m\n\u001b[1;32m----> 1\u001b[0m subprocess\u001b[38;5;241m.\u001b[39mrun([\u001b[38;5;124m\"\u001b[39m\u001b[38;5;124m./extract_results.sh\u001b[39m\u001b[38;5;124m\"\u001b[39m], check\u001b[38;5;241m=\u001b[39m\u001b[38;5;28;01mTrue\u001b[39;00m)\n",
      "File \u001b[1;32mc:\\Users\\micae\\anaconda3\\Lib\\subprocess.py:548\u001b[0m, in \u001b[0;36mrun\u001b[1;34m(input, capture_output, timeout, check, *popenargs, **kwargs)\u001b[0m\n\u001b[0;32m    545\u001b[0m     kwargs[\u001b[38;5;124m'\u001b[39m\u001b[38;5;124mstdout\u001b[39m\u001b[38;5;124m'\u001b[39m] \u001b[38;5;241m=\u001b[39m PIPE\n\u001b[0;32m    546\u001b[0m     kwargs[\u001b[38;5;124m'\u001b[39m\u001b[38;5;124mstderr\u001b[39m\u001b[38;5;124m'\u001b[39m] \u001b[38;5;241m=\u001b[39m PIPE\n\u001b[1;32m--> 548\u001b[0m \u001b[38;5;28;01mwith\u001b[39;00m Popen(\u001b[38;5;241m*\u001b[39mpopenargs, \u001b[38;5;241m*\u001b[39m\u001b[38;5;241m*\u001b[39mkwargs) \u001b[38;5;28;01mas\u001b[39;00m process:\n\u001b[0;32m    549\u001b[0m     \u001b[38;5;28;01mtry\u001b[39;00m:\n\u001b[0;32m    550\u001b[0m         stdout, stderr \u001b[38;5;241m=\u001b[39m process\u001b[38;5;241m.\u001b[39mcommunicate(\u001b[38;5;28minput\u001b[39m, timeout\u001b[38;5;241m=\u001b[39mtimeout)\n",
      "File \u001b[1;32mc:\\Users\\micae\\anaconda3\\Lib\\subprocess.py:1026\u001b[0m, in \u001b[0;36mPopen.__init__\u001b[1;34m(self, args, bufsize, executable, stdin, stdout, stderr, preexec_fn, close_fds, shell, cwd, env, universal_newlines, startupinfo, creationflags, restore_signals, start_new_session, pass_fds, user, group, extra_groups, encoding, errors, text, umask, pipesize, process_group)\u001b[0m\n\u001b[0;32m   1022\u001b[0m         \u001b[38;5;28;01mif\u001b[39;00m \u001b[38;5;28mself\u001b[39m\u001b[38;5;241m.\u001b[39mtext_mode:\n\u001b[0;32m   1023\u001b[0m             \u001b[38;5;28mself\u001b[39m\u001b[38;5;241m.\u001b[39mstderr \u001b[38;5;241m=\u001b[39m io\u001b[38;5;241m.\u001b[39mTextIOWrapper(\u001b[38;5;28mself\u001b[39m\u001b[38;5;241m.\u001b[39mstderr,\n\u001b[0;32m   1024\u001b[0m                     encoding\u001b[38;5;241m=\u001b[39mencoding, errors\u001b[38;5;241m=\u001b[39merrors)\n\u001b[1;32m-> 1026\u001b[0m     \u001b[38;5;28mself\u001b[39m\u001b[38;5;241m.\u001b[39m_execute_child(args, executable, preexec_fn, close_fds,\n\u001b[0;32m   1027\u001b[0m                         pass_fds, cwd, env,\n\u001b[0;32m   1028\u001b[0m                         startupinfo, creationflags, shell,\n\u001b[0;32m   1029\u001b[0m                         p2cread, p2cwrite,\n\u001b[0;32m   1030\u001b[0m                         c2pread, c2pwrite,\n\u001b[0;32m   1031\u001b[0m                         errread, errwrite,\n\u001b[0;32m   1032\u001b[0m                         restore_signals,\n\u001b[0;32m   1033\u001b[0m                         gid, gids, uid, umask,\n\u001b[0;32m   1034\u001b[0m                         start_new_session, process_group)\n\u001b[0;32m   1035\u001b[0m \u001b[38;5;28;01mexcept\u001b[39;00m:\n\u001b[0;32m   1036\u001b[0m     \u001b[38;5;66;03m# Cleanup if the child failed starting.\u001b[39;00m\n\u001b[0;32m   1037\u001b[0m     \u001b[38;5;28;01mfor\u001b[39;00m f \u001b[38;5;129;01min\u001b[39;00m \u001b[38;5;28mfilter\u001b[39m(\u001b[38;5;28;01mNone\u001b[39;00m, (\u001b[38;5;28mself\u001b[39m\u001b[38;5;241m.\u001b[39mstdin, \u001b[38;5;28mself\u001b[39m\u001b[38;5;241m.\u001b[39mstdout, \u001b[38;5;28mself\u001b[39m\u001b[38;5;241m.\u001b[39mstderr)):\n",
      "File \u001b[1;32mc:\\Users\\micae\\anaconda3\\Lib\\subprocess.py:1538\u001b[0m, in \u001b[0;36mPopen._execute_child\u001b[1;34m(self, args, executable, preexec_fn, close_fds, pass_fds, cwd, env, startupinfo, creationflags, shell, p2cread, p2cwrite, c2pread, c2pwrite, errread, errwrite, unused_restore_signals, unused_gid, unused_gids, unused_uid, unused_umask, unused_start_new_session, unused_process_group)\u001b[0m\n\u001b[0;32m   1536\u001b[0m \u001b[38;5;66;03m# Start the process\u001b[39;00m\n\u001b[0;32m   1537\u001b[0m \u001b[38;5;28;01mtry\u001b[39;00m:\n\u001b[1;32m-> 1538\u001b[0m     hp, ht, pid, tid \u001b[38;5;241m=\u001b[39m _winapi\u001b[38;5;241m.\u001b[39mCreateProcess(executable, args,\n\u001b[0;32m   1539\u001b[0m                              \u001b[38;5;66;03m# no special security\u001b[39;00m\n\u001b[0;32m   1540\u001b[0m                              \u001b[38;5;28;01mNone\u001b[39;00m, \u001b[38;5;28;01mNone\u001b[39;00m,\n\u001b[0;32m   1541\u001b[0m                              \u001b[38;5;28mint\u001b[39m(\u001b[38;5;129;01mnot\u001b[39;00m close_fds),\n\u001b[0;32m   1542\u001b[0m                              creationflags,\n\u001b[0;32m   1543\u001b[0m                              env,\n\u001b[0;32m   1544\u001b[0m                              cwd,\n\u001b[0;32m   1545\u001b[0m                              startupinfo)\n\u001b[0;32m   1546\u001b[0m \u001b[38;5;28;01mfinally\u001b[39;00m:\n\u001b[0;32m   1547\u001b[0m     \u001b[38;5;66;03m# Child is launched. Close the parent's copy of those pipe\u001b[39;00m\n\u001b[0;32m   1548\u001b[0m     \u001b[38;5;66;03m# handles that only the child should have open.  You need\u001b[39;00m\n\u001b[1;32m   (...)\u001b[0m\n\u001b[0;32m   1551\u001b[0m     \u001b[38;5;66;03m# pipe will not close when the child process exits and the\u001b[39;00m\n\u001b[0;32m   1552\u001b[0m     \u001b[38;5;66;03m# ReadFile will hang.\u001b[39;00m\n\u001b[0;32m   1553\u001b[0m     \u001b[38;5;28mself\u001b[39m\u001b[38;5;241m.\u001b[39m_close_pipe_fds(p2cread, p2cwrite,\n\u001b[0;32m   1554\u001b[0m                          c2pread, c2pwrite,\n\u001b[0;32m   1555\u001b[0m                          errread, errwrite)\n",
      "\u001b[1;31mOSError\u001b[0m: [WinError 193] %1 nie jest prawidłową aplikacją systemu Win32"
     ]
    }
   ],
   "source": [
    "subprocess.run([\"./extract_results.sh\"], check=True)"
   ]
  },
  {
   "cell_type": "code",
   "execution_count": 31,
   "metadata": {},
   "outputs": [
    {
     "name": "stdout",
     "output_type": "stream",
     "text": [
      "✅ Results saved to vinardo_scores.csv\n"
     ]
    }
   ],
   "source": [
    "import os\n",
    "import re\n",
    "import csv\n",
    "\n",
    "MAX_LIGAND = 22\n",
    "OUTPUT = \"vinardo_scores.csv\"\n",
    "\n",
    "# Write CSV header\n",
    "with open(OUTPUT, mode='w', newline='') as f:\n",
    "    writer = csv.writer(f)\n",
    "    writer.writerow([\"ligand_number\", \"vinardo_score\"])\n",
    "\n",
    "    for i in range(1, MAX_LIGAND + 1):\n",
    "        file = f\"./docked_ligands/docked_ligand_{i}.pdbqt\"\n",
    "        if os.path.isfile(file):\n",
    "            with open(file, 'r') as pdbqt_file:\n",
    "                for line in pdbqt_file:\n",
    "                    if line.startswith(\"REMARK VINA RESULT\"):\n",
    "                        parts = line.strip().split()\n",
    "                        if len(parts) >= 4:\n",
    "                            score = parts[3]\n",
    "                            writer.writerow([i, score])\n",
    "                        break\n",
    "        else:\n",
    "            print(f\"Warning: {file} not found, skipping\")\n",
    "\n",
    "print(f\"✅ Results saved to {OUTPUT}\")\n"
   ]
  },
  {
   "cell_type": "markdown",
   "metadata": {},
   "source": [
    "**Plotting the results**"
   ]
  },
  {
   "cell_type": "code",
   "execution_count": 17,
   "metadata": {},
   "outputs": [
    {
     "data": {
      "image/png": "[encoded data removed]",
      "text/plain": [
       "<Figure size 1200x600 with 1 Axes>"
      ]
     },
     "metadata": {},
     "output_type": "display_data"
    }
   ],
   "source": [
    "df = pd.read_csv(\"vinardo_scores.csv\")\n",
    "\n",
    "df = df.sort_values(\"ligand_number\")\n",
    "\n",
    "plt.figure(figsize=(12, 6))\n",
    "bars = plt.bar(df[\"ligand_number\"].astype(str), \n",
    "               df[\"vinardo_score\"],\n",
    "               color='#1f77b4')\n",
    "\n",
    "plt.axhline(y=-5.0, color='red', linestyle='--', linewidth=1, label='Threshold (-5.0 kcal/mol) - moderate binding')\n",
    "plt.axhline(y=-6.0, color='red', linestyle='--', linewidth=1, label='Threshold (-6.0 kcal/mol) - strong binding')\n",
    "plt.xlabel(\"Ligand Number\", fontsize=12)\n",
    "plt.ylabel(\"Vinardo Score (kcal/mol)\", fontsize=12)\n",
    "plt.title(\"Docking Results by Ligand Number\", fontsize=14, pad=20)\n",
    "\n",
    "plt.xticks(rotation=45, ha='right')\n",
    "plt.grid(axis='y', linestyle='--', alpha=0.3)\n",
    "plt.legend()\n",
    "\n",
    "# Highlight strong binder\n",
    "for i, row in df.iterrows():\n",
    "    if row['vinardo_score'] <= -5.0:\n",
    "        bars[i].set_color('lime')  # Lime for moderate binders\n",
    "    if row['vinardo_score'] <= -6.0:\n",
    "        bars[i].set_color('green')  # Green for strong binders\n",
    "\n",
    "plt.tight_layout()\n",
    "plt.show()"
   ]
  }
 ],
 "metadata": {
  "kernelspec": {
   "display_name": "base",
   "language": "python",
   "name": "python3"
  },
  "language_info": {
   "codemirror_mode": {
    "name": "ipython",
    "version": 3
   },
   "file_extension": ".py",
   "mimetype": "text/x-python",
   "name": "python",
   "nbconvert_exporter": "python",
   "pygments_lexer": "ipython3",
   "version": "3.11.5"
  }
 },
 "nbformat": 4,
 "nbformat_minor": 2
}
