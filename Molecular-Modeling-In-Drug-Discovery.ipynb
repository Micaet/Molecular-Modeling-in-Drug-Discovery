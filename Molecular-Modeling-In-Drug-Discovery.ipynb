{
 "cells": [
  {
   "cell_type": "markdown",
   "metadata": {
    "collapsed": false
   },
   "source": [
    "# **Stage 1**\n",
    "### **Protein and ligand library selection, protein and ligand preparation**"
   ]
  },
  {
   "cell_type": "markdown",
   "metadata": {
    "collapsed": false
   },
   "source": [
    "**Choosing the protein**\n",
    "\n",
    "For this project we have chosen the 5cno protein which can be downloaded at: <br>\n",
    "https://www.rcsb.org/structure/5CNO <br>\n",
    "The protein is saved in this repo as 5cno.pdb.\n",
    "Using PyMOL we have removed solvent, removed organic and added hydrogens. \n",
    "The prepared 5cno is saved in this repo as 5cno_prepared.pdb. \n",
    "\n",
    "**Choosing the ligand library**\n",
    "\n",
    "We have chosen the ligand library available for download at: <br>\n",
    "https://enamine.net/compound-libraries/targeted-libraries/kinase-library <br>\n",
    "The zipped ligand library is saved in this repo as Enamine_Kinase_Library_plated.zip.\n",
    "Due to limitations of our personal hardware we have randomly chosen 10k ligands using the sampling.py script\n",
    "and saved the output as sampled_ligands.sdf. <br>\n",
    "\n",
    "**Importing necessary libraries**"
   ]
  },
  {
   "cell_type": "code",
   "execution_count": 1,
   "metadata": {},
   "outputs": [],
   "source": [
    "from rdkit import Chem\n",
    "from rdkit.Chem import AllChem, rdMolDescriptors\n",
    "from rdkit.Chem.rdMolAlign import GetBestRMS\n",
    "from rdkit.SimDivFilters.rdSimDivPickers import MaxMinPicker\n",
    "from rdkit.ML.Cluster import Butina\n",
    "from rdkit import DataStructs\n",
    "import random\n",
    "import numpy as np\n",
    "import csv\n",
    "import json\n",
    "from openbabel import pybel\n",
    "import pandas as pd\n",
    "import matplotlib.pyplot as plt\n",
    "import subprocess\n",
    "import os"
   ]
  },
  {
   "cell_type": "markdown",
   "metadata": {},
   "source": [
    "**Getting the geometric centroid of docking box**"
   ]
  },
  {
   "cell_type": "code",
   "execution_count": 2,
   "metadata": {},
   "outputs": [
    {
     "name": "stdout",
     "output_type": "stream",
     "text": [
      "Ligand centroid coordinates (x, y, z): [-48.405 -37.514  19.017]\n"
     ]
    }
   ],
   "source": [
    "mol = Chem.MolFromPDBFile(\"5cno.pdb\", removeHs=False)\n",
    "residues = Chem.GetMolFrags(mol, asMols=True, sanitizeFrags=False)\n",
    "\n",
    "ligand = min(residues, key=lambda x: x.GetNumAtoms())\n",
    "\n",
    "import numpy as np\n",
    "\n",
    "def get_centroid(mol):\n",
    "    \"\"\"Calculate the geometric center (centroid) of a molecule.\"\"\"\n",
    "    conf = mol.GetConformer()\n",
    "    coords = np.array([conf.GetAtomPosition(i) for i in range(mol.GetNumAtoms())])\n",
    "    return np.mean(coords, axis=0)\n",
    "\n",
    "ligand_centroid = get_centroid(ligand)\n",
    "print(f\"Ligand centroid coordinates (x, y, z): {ligand_centroid}\")"
   ]
  },
  {
   "cell_type": "markdown",
   "metadata": {},
   "source": [
    "**Converting the protein file to .pdbqt for AutoDock Vina compatibility**"
   ]
  },
  {
   "cell_type": "code",
   "execution_count": 13,
   "metadata": {},
   "outputs": [
    {
     "ename": "OSError",
     "evalue": "[WinError 193] %1 nie jest prawidłową aplikacją systemu Win32",
     "output_type": "error",
     "traceback": [
      "\u001b[1;31m---------------------------------------------------------------------------\u001b[0m",
      "\u001b[1;31mOSError\u001b[0m                                   Traceback (most recent call last)",
      "Cell \u001b[1;32mIn[13], line 1\u001b[0m\n\u001b[1;32m----> 1\u001b[0m subprocess\u001b[38;5;241m.\u001b[39mrun([\u001b[38;5;124m\"\u001b[39m\u001b[38;5;124m./convert_to_pdbqt.sh\u001b[39m\u001b[38;5;124m\"\u001b[39m], check\u001b[38;5;241m=\u001b[39m\u001b[38;5;28;01mTrue\u001b[39;00m)\n",
      "File \u001b[1;32mc:\\Users\\micae\\anaconda3\\Lib\\subprocess.py:548\u001b[0m, in \u001b[0;36mrun\u001b[1;34m(input, capture_output, timeout, check, *popenargs, **kwargs)\u001b[0m\n\u001b[0;32m    545\u001b[0m     kwargs[\u001b[38;5;124m'\u001b[39m\u001b[38;5;124mstdout\u001b[39m\u001b[38;5;124m'\u001b[39m] \u001b[38;5;241m=\u001b[39m PIPE\n\u001b[0;32m    546\u001b[0m     kwargs[\u001b[38;5;124m'\u001b[39m\u001b[38;5;124mstderr\u001b[39m\u001b[38;5;124m'\u001b[39m] \u001b[38;5;241m=\u001b[39m PIPE\n\u001b[1;32m--> 548\u001b[0m \u001b[38;5;28;01mwith\u001b[39;00m Popen(\u001b[38;5;241m*\u001b[39mpopenargs, \u001b[38;5;241m*\u001b[39m\u001b[38;5;241m*\u001b[39mkwargs) \u001b[38;5;28;01mas\u001b[39;00m process:\n\u001b[0;32m    549\u001b[0m     \u001b[38;5;28;01mtry\u001b[39;00m:\n\u001b[0;32m    550\u001b[0m         stdout, stderr \u001b[38;5;241m=\u001b[39m process\u001b[38;5;241m.\u001b[39mcommunicate(\u001b[38;5;28minput\u001b[39m, timeout\u001b[38;5;241m=\u001b[39mtimeout)\n",
      "File \u001b[1;32mc:\\Users\\micae\\anaconda3\\Lib\\subprocess.py:1026\u001b[0m, in \u001b[0;36mPopen.__init__\u001b[1;34m(self, args, bufsize, executable, stdin, stdout, stderr, preexec_fn, close_fds, shell, cwd, env, universal_newlines, startupinfo, creationflags, restore_signals, start_new_session, pass_fds, user, group, extra_groups, encoding, errors, text, umask, pipesize, process_group)\u001b[0m\n\u001b[0;32m   1022\u001b[0m         \u001b[38;5;28;01mif\u001b[39;00m \u001b[38;5;28mself\u001b[39m\u001b[38;5;241m.\u001b[39mtext_mode:\n\u001b[0;32m   1023\u001b[0m             \u001b[38;5;28mself\u001b[39m\u001b[38;5;241m.\u001b[39mstderr \u001b[38;5;241m=\u001b[39m io\u001b[38;5;241m.\u001b[39mTextIOWrapper(\u001b[38;5;28mself\u001b[39m\u001b[38;5;241m.\u001b[39mstderr,\n\u001b[0;32m   1024\u001b[0m                     encoding\u001b[38;5;241m=\u001b[39mencoding, errors\u001b[38;5;241m=\u001b[39merrors)\n\u001b[1;32m-> 1026\u001b[0m     \u001b[38;5;28mself\u001b[39m\u001b[38;5;241m.\u001b[39m_execute_child(args, executable, preexec_fn, close_fds,\n\u001b[0;32m   1027\u001b[0m                         pass_fds, cwd, env,\n\u001b[0;32m   1028\u001b[0m                         startupinfo, creationflags, shell,\n\u001b[0;32m   1029\u001b[0m                         p2cread, p2cwrite,\n\u001b[0;32m   1030\u001b[0m                         c2pread, c2pwrite,\n\u001b[0;32m   1031\u001b[0m                         errread, errwrite,\n\u001b[0;32m   1032\u001b[0m                         restore_signals,\n\u001b[0;32m   1033\u001b[0m                         gid, gids, uid, umask,\n\u001b[0;32m   1034\u001b[0m                         start_new_session, process_group)\n\u001b[0;32m   1035\u001b[0m \u001b[38;5;28;01mexcept\u001b[39;00m:\n\u001b[0;32m   1036\u001b[0m     \u001b[38;5;66;03m# Cleanup if the child failed starting.\u001b[39;00m\n\u001b[0;32m   1037\u001b[0m     \u001b[38;5;28;01mfor\u001b[39;00m f \u001b[38;5;129;01min\u001b[39;00m \u001b[38;5;28mfilter\u001b[39m(\u001b[38;5;28;01mNone\u001b[39;00m, (\u001b[38;5;28mself\u001b[39m\u001b[38;5;241m.\u001b[39mstdin, \u001b[38;5;28mself\u001b[39m\u001b[38;5;241m.\u001b[39mstdout, \u001b[38;5;28mself\u001b[39m\u001b[38;5;241m.\u001b[39mstderr)):\n",
      "File \u001b[1;32mc:\\Users\\micae\\anaconda3\\Lib\\subprocess.py:1538\u001b[0m, in \u001b[0;36mPopen._execute_child\u001b[1;34m(self, args, executable, preexec_fn, close_fds, pass_fds, cwd, env, startupinfo, creationflags, shell, p2cread, p2cwrite, c2pread, c2pwrite, errread, errwrite, unused_restore_signals, unused_gid, unused_gids, unused_uid, unused_umask, unused_start_new_session, unused_process_group)\u001b[0m\n\u001b[0;32m   1536\u001b[0m \u001b[38;5;66;03m# Start the process\u001b[39;00m\n\u001b[0;32m   1537\u001b[0m \u001b[38;5;28;01mtry\u001b[39;00m:\n\u001b[1;32m-> 1538\u001b[0m     hp, ht, pid, tid \u001b[38;5;241m=\u001b[39m _winapi\u001b[38;5;241m.\u001b[39mCreateProcess(executable, args,\n\u001b[0;32m   1539\u001b[0m                              \u001b[38;5;66;03m# no special security\u001b[39;00m\n\u001b[0;32m   1540\u001b[0m                              \u001b[38;5;28;01mNone\u001b[39;00m, \u001b[38;5;28;01mNone\u001b[39;00m,\n\u001b[0;32m   1541\u001b[0m                              \u001b[38;5;28mint\u001b[39m(\u001b[38;5;129;01mnot\u001b[39;00m close_fds),\n\u001b[0;32m   1542\u001b[0m                              creationflags,\n\u001b[0;32m   1543\u001b[0m                              env,\n\u001b[0;32m   1544\u001b[0m                              cwd,\n\u001b[0;32m   1545\u001b[0m                              startupinfo)\n\u001b[0;32m   1546\u001b[0m \u001b[38;5;28;01mfinally\u001b[39;00m:\n\u001b[0;32m   1547\u001b[0m     \u001b[38;5;66;03m# Child is launched. Close the parent's copy of those pipe\u001b[39;00m\n\u001b[0;32m   1548\u001b[0m     \u001b[38;5;66;03m# handles that only the child should have open.  You need\u001b[39;00m\n\u001b[1;32m   (...)\u001b[0m\n\u001b[0;32m   1551\u001b[0m     \u001b[38;5;66;03m# pipe will not close when the child process exits and the\u001b[39;00m\n\u001b[0;32m   1552\u001b[0m     \u001b[38;5;66;03m# ReadFile will hang.\u001b[39;00m\n\u001b[0;32m   1553\u001b[0m     \u001b[38;5;28mself\u001b[39m\u001b[38;5;241m.\u001b[39m_close_pipe_fds(p2cread, p2cwrite,\n\u001b[0;32m   1554\u001b[0m                          c2pread, c2pwrite,\n\u001b[0;32m   1555\u001b[0m                          errread, errwrite)\n",
      "\u001b[1;31mOSError\u001b[0m: [WinError 193] %1 nie jest prawidłową aplikacją systemu Win32"
     ]
    }
   ],
   "source": [
    "subprocess.run([\"./convert_to_pdbqt.sh\"], check=True)"
   ]
  },
  {
   "cell_type": "code",
   "execution_count": 3,
   "metadata": {},
   "outputs": [
    {
     "name": "stdout",
     "output_type": "stream",
     "text": [
      "Converting 5cno_prepared.pdb to 5cno_clean.pdbqt...\n",
      "✅ Successfully created 5cno_clean.pdbqt\n"
     ]
    },
    {
     "ename": "SystemExit",
     "evalue": "0",
     "output_type": "error",
     "traceback": [
      "An exception has occurred, use %tb to see the full traceback.\n",
      "\u001b[1;31mSystemExit\u001b[0m\u001b[1;31m:\u001b[0m 0\n"
     ]
    },
    {
     "name": "stderr",
     "output_type": "stream",
     "text": [
      "c:\\Users\\micae\\anaconda3\\Lib\\site-packages\\IPython\\core\\interactiveshell.py:3534: UserWarning: To exit: use 'exit', 'quit', or Ctrl-D.\n",
      "  warn(\"To exit: use 'exit', 'quit', or Ctrl-D.\", stacklevel=1)\n"
     ]
    }
   ],
   "source": [
    "import os\n",
    "import subprocess\n",
    "import sys\n",
    "\n",
    "INPUT_PDB = \"5cno_prepared.pdb\"\n",
    "OUTPUT_PDBQT = \"5cno_clean.pdbqt\"\n",
    "\n",
    "# Sprawdzenie czy plik wejściowy istnieje\n",
    "if not os.path.isfile(INPUT_PDB):\n",
    "    sys.stderr.write(f\"❌ Error: Input file {INPUT_PDB} not found!\\n\")\n",
    "    sys.exit(1)\n",
    "\n",
    "# Sprawdzenie czy obabel jest dostępny\n",
    "if subprocess.call(\"where obabel\", shell=True, stdout=subprocess.DEVNULL, stderr=subprocess.DEVNULL) != 0:\n",
    "    sys.stderr.write(\"❌ Error: Open Babel (obabel) is not installed!\\n\")\n",
    "    sys.stderr.write(\"Install it with: conda install -c conda-forge openbabel\\n\")\n",
    "    sys.exit(1)\n",
    "\n",
    "# Wykonanie konwersji\n",
    "print(f\"Converting {INPUT_PDB} to {OUTPUT_PDBQT}...\")\n",
    "result = subprocess.run([\"obabel\", INPUT_PDB, \"-O\", OUTPUT_PDBQT, \"-xr\"])\n",
    "\n",
    "# Sprawdzenie sukcesu\n",
    "if result.returncode == 0 and os.path.isfile(OUTPUT_PDBQT):\n",
    "    print(f\"✅ Successfully created {OUTPUT_PDBQT}\")\n",
    "    sys.exit(0)\n",
    "else:\n",
    "    sys.stderr.write(\"❌ Error: Conversion failed\\n\")\n",
    "    sys.exit(1)\n"
   ]
  },
  {
   "cell_type": "markdown",
   "metadata": {},
   "source": [
    "Loading the sampled ligands and clustering them based on their tanimoto similarity. Then adding hydrogens to the sampled ligands. Charges will be added later, due to future format conversions.\n",
    "We will perform docking on one representative of each cluster, again, due to technical limitations. We will later dock the members of the clusters of top performers."
   ]
  },
  {
   "cell_type": "code",
   "execution_count": 4,
   "metadata": {},
   "outputs": [],
   "source": [
    "# loading and embedding ligands from the .sdf file\n",
    "def load_3d_ligands(sdf_file):\n",
    "    suppl = Chem.SDMolSupplier(sdf_file, removeHs=False)\n",
    "    ligands = []\n",
    "    for mol in suppl:\n",
    "        if mol is None:\n",
    "            continue\n",
    "        mol = Chem.AddHs(mol)\n",
    "        if AllChem.EmbedMolecule(mol, AllChem.ETKDG()) != 0:\n",
    "            print(\"Embedding failed for a molecule, skipping...\")\n",
    "            continue\n",
    "        AllChem.UFFOptimizeMolecule(mol)\n",
    "        ligands.append(mol)\n",
    "    return ligands\n",
    "\n",
    "# Computing MACCS fingerprints\n",
    "def get_fingerprints(mols):\n",
    "    return [rdMolDescriptors.GetMACCSKeysFingerprint(mol) for mol in mols]\n",
    "\n",
    "# Computing Tanimoto similarity matrix\n",
    "def tanimoto_similarity(fp_list):\n",
    "    size = len(fp_list)\n",
    "    sim_matrix = np.zeros((size, size))\n",
    "    for i in range(size):\n",
    "        for j in range(i + 1, size):\n",
    "            sim_matrix[i, j] = DataStructs.TanimotoSimilarity(fp_list[i], fp_list[j])\n",
    "            sim_matrix[j, i] = sim_matrix[i, j]\n",
    "    return sim_matrix\n",
    "\n",
    "# Butina clusterisation\n",
    "def cluster_ligands(fp_list, cutoff=0.5):\n",
    "    dists = []\n",
    "    size = len(fp_list)\n",
    "    for i in range(1, size):\n",
    "        for j in range(i):\n",
    "            dists.append(1 - DataStructs.TanimotoSimilarity(fp_list[i], fp_list[j]))\n",
    "    clusters = Butina.ClusterData(dists, size, cutoff, isDistData=True)\n",
    "    return clusters\n",
    "\n",
    "# Main function\n",
    "def process_ligands(sdf_file):\n",
    "    prepared_mols = load_3d_ligands(sdf_file)\n",
    "    fps = get_fingerprints(prepared_mols)\n",
    "    clusters = cluster_ligands(fps)\n",
    "    return clusters, prepared_mols\n",
    "\n",
    "sdf_file = \"sampled_ligands.sdf\"\n",
    "clusters, prepared_ligands = process_ligands(sdf_file)\n"
   ]
  },
  {
   "cell_type": "markdown",
   "metadata": {},
   "source": [
    "**Number of clusters:**"
   ]
  },
  {
   "cell_type": "code",
   "execution_count": 5,
   "metadata": {},
   "outputs": [
    {
     "data": {
      "text/plain": [
       "22"
      ]
     },
     "execution_count": 5,
     "metadata": {},
     "output_type": "execute_result"
    }
   ],
   "source": [
    "len(clusters)"
   ]
  },
  {
   "cell_type": "markdown",
   "metadata": {},
   "source": [
    "**Saving the clusters as clusters.json**"
   ]
  },
  {
   "cell_type": "code",
   "execution_count": 6,
   "metadata": {},
   "outputs": [],
   "source": [
    "def save_clusters_to_json(clusters, filename):\n",
    "    # Convert tuple of tuples to list of lists for JSON serialization\n",
    "    clusters_list = [list(cluster) for cluster in clusters]\n",
    "    with open(filename, \"w\") as f:\n",
    "        json.dump(clusters_list, f, indent=4)\n",
    "\n",
    "save_clusters_to_json(clusters, \"clusters.json\")\n",
    "\n",
    "# To load run:\n",
    "# def load_clusters_from_json(filename):\n",
    "#     with open(filename, \"r\") as f:\n",
    "#         clusters_list = json.load(f)\n",
    "#     # Convert each inner list back to a tuple (optional)a\n",
    "#     clusters = tuple(tuple(cluster) for cluster in clusters_list)\n",
    "#     return clusters"
   ]
  },
  {
   "cell_type": "markdown",
   "metadata": {},
   "source": [
    "**Choosing a random ligand from each cluster**"
   ]
  },
  {
   "cell_type": "code",
   "execution_count": 33,
   "metadata": {},
   "outputs": [],
   "source": [
    "random.seed(12222)\n",
    "def get_random_ligands_from_clusters(clusters, all_ligands):\n",
    "    random_ligands = []\n",
    "    for cluster in clusters:\n",
    "        # Select a random index from this cluster\n",
    "        random_idx = random.choice(cluster)\n",
    "        # Get the corresponding ligand\n",
    "        random_ligands.append(all_ligands[random_idx])\n",
    "    return random_ligands\n",
    "\n",
    "random_ligands = get_random_ligands_from_clusters(clusters, prepared_ligands)"
   ]
  },
  {
   "cell_type": "code",
   "execution_count": 19,
   "metadata": {},
   "outputs": [],
   "source": [
    "weird = random_ligands[13]\n",
    "\n",
    "def mol_to_mol(mol):\n",
    "    mol_block = Chem.MolToV3KMolBlock(mol)\n",
    "    obmol = pybel.readstring(\"mol\", mol_block)\n",
    "    charge_model = pybel.ob.OBChargeModel.FindType(\"gasteiger\")\n",
    "    charge_model.ComputeCharges(obmol.OBMol)\n",
    "    return obmol\n",
    "\n",
    "wierd_2 = mol_to_mol(weird)\n",
    "block_w_2=wierd_2.write('pdbqt')\n",
    "w_3 = pybel.readstring(\"pdbqt\",block_w_2)"
   ]
  },
  {
   "cell_type": "code",
   "execution_count": null,
   "metadata": {},
   "outputs": [],
   "source": [
    "wierd_2"
   ]
  },
  {
   "cell_type": "code",
   "execution_count": null,
   "metadata": {},
   "outputs": [],
   "source": [
    "w_3"
   ]
  },
  {
   "cell_type": "code",
   "execution_count": null,
   "metadata": {},
   "outputs": [],
   "source": [
    "wierd_2"
   ]
  },
  {
   "cell_type": "markdown",
   "metadata": {},
   "source": [
    "**Saving the drawn ligands into .pdbqt files for AutoDock Vina**"
   ]
  },
  {
   "cell_type": "code",
   "execution_count": 25,
   "metadata": {},
   "outputs": [],
   "source": [
    "def mol_to_pdbqt(mol, filename):\n",
    "    if mol.GetNumConformers() == 0:\n",
    "        raise ValueError(f\"Molecule has no conformers: {filename}\")\n",
    "    \n",
    "    # Convert RDKit Mol to MOL block\n",
    "    mol_block = Chem.MolToMolBlock(mol)\n",
    "    \n",
    "    # Load the MOL block into Open Babel\n",
    "    obmol = pybel.readstring(\"mol\", mol_block)\n",
    "    \n",
    "    # Calculate Gasteiger charges\n",
    "    charge_model = pybel.ob.OBChargeModel.FindType(\"gasteiger\")\n",
    "    charge_model.ComputeCharges(obmol.OBMol)\n",
    "    \n",
    "    # Write the molecule to a PDBQT file\n",
    "    obmol.write(\"pdbqt\", filename, overwrite=True)\n",
    "\n",
    "# Save all prepared ligands\n",
    "for i, mol in enumerate(random_ligands):\n",
    "    fname = f\"./preprocessed_ligands/ligand_{i+1}.pdbqt\"\n",
    "    mol_to_pdbqt(mol, fname)"
   ]
  },
  {
   "cell_type": "markdown",
   "metadata": {},
   "source": [
    "# **Stage 2**\n",
    "### **Virtual screening with molecular docking**"
   ]
  },
  {
   "cell_type": "markdown",
   "metadata": {},
   "source": [
    "**Docking**"
   ]
  },
  {
   "cell_type": "code",
   "execution_count": null,
   "metadata": {},
   "outputs": [],
   "source": [
    "subprocess.run([\"./docking.sh\"], check=True)"
   ]
  },
  {
   "cell_type": "code",
   "execution_count": 53,
   "metadata": {},
   "outputs": [
    {
     "name": "stdout",
     "output_type": "stream",
     "text": [
      "Docking ligand 1...\n",
      " Success: docked_ligands\\docked_ligand_1.pdbqt\n",
      "Docking ligand 2...\n",
      " Success: docked_ligands\\docked_ligand_2.pdbqt\n",
      "Docking ligand 3...\n",
      " Success: docked_ligands\\docked_ligand_3.pdbqt\n",
      "Docking ligand 4...\n",
      " Success: docked_ligands\\docked_ligand_4.pdbqt\n",
      "Docking ligand 5...\n",
      " Success: docked_ligands\\docked_ligand_5.pdbqt\n",
      "Docking ligand 6...\n",
      " Success: docked_ligands\\docked_ligand_6.pdbqt\n",
      "Docking ligand 7...\n",
      " Success: docked_ligands\\docked_ligand_7.pdbqt\n",
      "Docking ligand 8...\n",
      " Success: docked_ligands\\docked_ligand_8.pdbqt\n",
      "Docking ligand 9...\n",
      " Success: docked_ligands\\docked_ligand_9.pdbqt\n",
      "Docking ligand 10...\n",
      " Success: docked_ligands\\docked_ligand_10.pdbqt\n",
      "Docking ligand 11...\n",
      " Success: docked_ligands\\docked_ligand_11.pdbqt\n",
      "Docking ligand 12...\n",
      " Success: docked_ligands\\docked_ligand_12.pdbqt\n",
      "Docking ligand 13...\n",
      " Success: docked_ligands\\docked_ligand_13.pdbqt\n",
      "Docking ligand 14...\n",
      " Success: docked_ligands\\docked_ligand_14.pdbqt\n",
      "Docking ligand 15...\n",
      " Success: docked_ligands\\docked_ligand_15.pdbqt\n",
      "Docking ligand 16...\n",
      " Success: docked_ligands\\docked_ligand_16.pdbqt\n",
      "Docking ligand 17...\n",
      " Success: docked_ligands\\docked_ligand_17.pdbqt\n",
      "Docking ligand 18...\n",
      " Success: docked_ligands\\docked_ligand_18.pdbqt\n",
      "Docking ligand 19...\n",
      " Success: docked_ligands\\docked_ligand_19.pdbqt\n",
      "Docking ligand 20...\n",
      " Success: docked_ligands\\docked_ligand_20.pdbqt\n",
      "Docking ligand 21...\n",
      " Success: docked_ligands\\docked_ligand_21.pdbqt\n",
      "Docking ligand 22...\n",
      " Success: docked_ligands\\docked_ligand_22.pdbqt\n",
      "\n",
      "🎉 Docking complete! Results saved to 'docked_ligands/'\n"
     ]
    }
   ],
   "source": [
    "# Konfiguracja\n",
    "RECEPTOR = \"5cno_clean.pdbqt\"\n",
    "PREPROCESSED_DIR = \"preprocessed_ligands\"\n",
    "DOCKED_DIR = \"docked_ligands\"\n",
    "VINA_EXEC = \"vina.exe\"  # lub ścieżka do vina, np. \"C:/vina/vina.exe\"\n",
    "\n",
    "# Parametry dockowania\n",
    "CENTER_X = -30\n",
    "CENTER_Y = -10\n",
    "CENTER_Z = 17\n",
    "SIZE_X = 10\n",
    "SIZE_Y = 10\n",
    "SIZE_Z = 10\n",
    "SCORING = \"vinardo\"\n",
    "EXHAUSTIVENESS = 24\n",
    "\n",
    "# Tworzenie folderu wyjściowego\n",
    "os.makedirs(DOCKED_DIR, exist_ok=True)\n",
    "\n",
    "# Przetwarzanie ligandów 1–22\n",
    "for i in range(1, 23):\n",
    "    ligand = os.path.join(PREPROCESSED_DIR, f\"ligand_{i}.pdbqt\")\n",
    "    output = os.path.join(DOCKED_DIR, f\"docked_ligand_{i}.pdbqt\")\n",
    "\n",
    "    print(f\"Docking ligand {i}...\")\n",
    "\n",
    "    if not os.path.isfile(ligand):\n",
    "        print(f\"⚠️ Warning: {ligand} not found, skipping\")\n",
    "        continue\n",
    "\n",
    "    result = subprocess.run([\n",
    "        VINA_EXEC,\n",
    "        \"--receptor\", RECEPTOR,\n",
    "        \"--ligand\", ligand,\n",
    "        \"--center_x\", str(CENTER_X),\n",
    "        \"--center_y\", str(CENTER_Y),\n",
    "        \"--center_z\", str(CENTER_Z),\n",
    "        \"--size_x\", str(SIZE_X),\n",
    "        \"--size_y\", str(SIZE_Y),\n",
    "        \"--size_z\", str(SIZE_Z),\n",
    "        \"--scoring\", SCORING,\n",
    "        \"--exhaustiveness\", str(EXHAUSTIVENESS),\n",
    "        \"--out\", output\n",
    "    ])\n",
    "\n",
    "    if result.returncode == 0:\n",
    "        print(f\" Success: {output}\")\n",
    "    else:\n",
    "        print(f\"Error docking ligand {i}\")\n",
    "\n",
    "print(f\"\\n🎉 Docking complete! Results saved to '{DOCKED_DIR}/'\")\n"
   ]
  },
  {
   "cell_type": "code",
   "execution_count": 34,
   "metadata": {},
   "outputs": [],
   "source": [
    "def run_docking(  \n",
    "    preprocessed_dir,\n",
    "    docked_dir,\n",
    "    ligand_range,\n",
    "    receptor=\"5cno_clean.pdbqt\",\n",
    "    vina_exec=\"vina.exe\",\n",
    "    center=(-30, -10, 17),\n",
    "    size=(10, 10, 10),\n",
    "    scoring=\"vinardo\",\n",
    "    exhaustiveness=24\n",
    "):\n",
    "    os.makedirs(docked_dir, exist_ok=True)\n",
    "\n",
    "    for i in ligand_range:\n",
    "        ligand = os.path.join(preprocessed_dir, f\"ligand_{i}.pdbqt\")\n",
    "        output = os.path.join(docked_dir, f\"docked_ligand_{i}.pdbqt\")\n",
    "\n",
    "        print(f\"Docking ligand {i}...\")\n",
    "\n",
    "        if not os.path.isfile(ligand):\n",
    "            print(f\" Warning: {ligand} not found, skipping\")\n",
    "            continue\n",
    "\n",
    "        result = subprocess.run([\n",
    "            vina_exec,\n",
    "            \"--receptor\", receptor,\n",
    "            \"--ligand\", ligand,\n",
    "            \"--center_x\", str(center[0]),\n",
    "            \"--center_y\", str(center[1]),\n",
    "            \"--center_z\", str(center[2]),\n",
    "            \"--size_x\", str(size[0]),\n",
    "            \"--size_y\", str(size[1]),\n",
    "            \"--size_z\", str(size[2]),\n",
    "            \"--scoring\", scoring,\n",
    "            \"--exhaustiveness\", str(exhaustiveness),\n",
    "            \"--out\", output\n",
    "        ])\n",
    "\n",
    "        if result.returncode == 0:\n",
    "            print(f\" Success: {output}\")\n",
    "        else:\n",
    "            print(f\"Error docking ligand {i}\")\n",
    "\n",
    "    print(f\"\\n Docking complete! Results saved to '{docked_dir}/'\")\n"
   ]
  },
  {
   "cell_type": "code",
   "execution_count": null,
   "metadata": {},
   "outputs": [
    {
     "name": "stdout",
     "output_type": "stream",
     "text": [
      "Docking ligand 1...\n",
      " Success: docked_ligands\\docked_ligand_1.pdbqt\n",
      "Docking ligand 2...\n",
      " Success: docked_ligands\\docked_ligand_2.pdbqt\n",
      "Docking ligand 3...\n",
      " Success: docked_ligands\\docked_ligand_3.pdbqt\n",
      "Docking ligand 4...\n",
      " Success: docked_ligands\\docked_ligand_4.pdbqt\n",
      "Docking ligand 5...\n",
      " Success: docked_ligands\\docked_ligand_5.pdbqt\n",
      "Docking ligand 6...\n",
      " Success: docked_ligands\\docked_ligand_6.pdbqt\n",
      "Docking ligand 7...\n",
      " Success: docked_ligands\\docked_ligand_7.pdbqt\n",
      "Docking ligand 8...\n",
      " Success: docked_ligands\\docked_ligand_8.pdbqt\n",
      "Docking ligand 9...\n",
      " Success: docked_ligands\\docked_ligand_9.pdbqt\n",
      "Docking ligand 10...\n",
      " Success: docked_ligands\\docked_ligand_10.pdbqt\n",
      "Docking ligand 11...\n",
      " Success: docked_ligands\\docked_ligand_11.pdbqt\n",
      "Docking ligand 12...\n",
      " Success: docked_ligands\\docked_ligand_12.pdbqt\n",
      "Docking ligand 13...\n",
      " Success: docked_ligands\\docked_ligand_13.pdbqt\n",
      "Docking ligand 14...\n",
      " Success: docked_ligands\\docked_ligand_14.pdbqt\n",
      "Docking ligand 15...\n",
      " Success: docked_ligands\\docked_ligand_15.pdbqt\n",
      "Docking ligand 16...\n",
      " Success: docked_ligands\\docked_ligand_16.pdbqt\n",
      "Docking ligand 17...\n",
      " Success: docked_ligands\\docked_ligand_17.pdbqt\n",
      "Docking ligand 18...\n",
      " Success: docked_ligands\\docked_ligand_18.pdbqt\n",
      "Docking ligand 19...\n",
      " Success: docked_ligands\\docked_ligand_19.pdbqt\n",
      "Docking ligand 20...\n"
     ]
    }
   ],
   "source": [
    "run_docking(preprocessed_dir=\"preprocessed_ligands\", docked_dir=\"docked_ligands\", ligand_range=range(1,22))"
   ]
  },
  {
   "cell_type": "markdown",
   "metadata": {},
   "source": [
    "**Extracting results**"
   ]
  },
  {
   "cell_type": "code",
   "execution_count": null,
   "metadata": {},
   "outputs": [],
   "source": [
    "subprocess.run([\"./extract_results.sh\"], check=True)"
   ]
  },
  {
   "cell_type": "code",
   "execution_count": 57,
   "metadata": {},
   "outputs": [
    {
     "name": "stdout",
     "output_type": "stream",
     "text": [
      "Results saved to vinardo_scores.csv\n"
     ]
    }
   ],
   "source": [
    "def extract_vinardo_scores(\n",
    "    input_folder,\n",
    "    output_file,\n",
    "    ligand_indices=None\n",
    "):\n",
    "    if ligand_indices is None:\n",
    "        ligand_indices = list(range(1, 14)) + list(range(73, 74))\n",
    "\n",
    "    with open(output_file, mode='w', newline='') as f:\n",
    "        writer = csv.writer(f)\n",
    "        writer.writerow([\"ligand_number\", \"vinardo_score\"])\n",
    "\n",
    "        for i in ligand_indices:\n",
    "            file_path = os.path.join(input_folder, f\"docked_ligand_{i}.pdbqt\")\n",
    "            if os.path.isfile(file_path):\n",
    "                with open(file_path, 'r') as pdbqt_file:\n",
    "                    for line in pdbqt_file:\n",
    "                        if line.startswith(\"REMARK VINA RESULT\"):\n",
    "                            parts = line.strip().split()\n",
    "                            if len(parts) >= 4:\n",
    "                                score = parts[3]\n",
    "                                writer.writerow([i, score])\n",
    "                            break\n",
    "            else:\n",
    "                print(f\"Warning: {file_path} not found, skipping\")\n",
    "\n",
    "    print(f\"✅ Results saved to {output_file}\")\n",
    "\n"
   ]
  },
  {
   "cell_type": "code",
   "execution_count": 30,
   "metadata": {},
   "outputs": [
    {
     "name": "stdout",
     "output_type": "stream",
     "text": [
      "✅ Results saved to vinardo_scores.csv\n"
     ]
    }
   ],
   "source": [
    "extract_vinardo_scores(\"./docked_ligands\", \"vinardo_scores.csv\", list(range(1, 14)) + list(range(15,22)))"
   ]
  },
  {
   "cell_type": "markdown",
   "metadata": {},
   "source": [
    "**Plotting the results**"
   ]
  },
  {
   "cell_type": "code",
   "execution_count": 31,
   "metadata": {},
   "outputs": [],
   "source": [
    "def plot_vinardo_scores(csv_file, threshold_moderate=-5.0, threshold_strong=-6.0):\n",
    "    df = pd.read_csv(csv_file)\n",
    "    df = df.sort_values(\"ligand_number\").reset_index(drop=True)\n",
    "    print(min(df['vinardo_score']))\n",
    "\n",
    "    plt.figure(figsize=(12, 6))\n",
    "    bars = plt.bar(df[\"ligand_number\"].astype(str),\n",
    "                   df[\"vinardo_score\"],\n",
    "                   color='#1f77b4')\n",
    "\n",
    "    # Draw threshold lines\n",
    "    plt.axhline(y=threshold_moderate, color='red', linestyle='--', linewidth=1,\n",
    "                label=f'Threshold ({threshold_moderate} kcal/mol) - moderate binding')\n",
    "    plt.axhline(y=threshold_strong, color='red', linestyle='--', linewidth=1,\n",
    "                label=f'Threshold ({threshold_strong} kcal/mol) - strong binding')\n",
    "\n",
    "    # Labels and formatting\n",
    "    plt.xlabel(\"Ligand Number\", fontsize=12)\n",
    "    plt.ylabel(\"Vinardo Score (kcal/mol)\", fontsize=12)\n",
    "    plt.title(\"Docking Results by Ligand Number\", fontsize=14, pad=20)\n",
    "    plt.xticks(rotation=45, ha='right')\n",
    "    plt.grid(axis='y', linestyle='--', alpha=0.3)\n",
    "    plt.legend()\n",
    "\n",
    "    # Highlight moderate and strong binders\n",
    "    for i, row in df.iterrows():\n",
    "        if row['vinardo_score'] <= threshold_moderate:\n",
    "            bars[i].set_color('lime')  # Lime for moderate binders\n",
    "        if row['vinardo_score'] <= threshold_strong:\n",
    "            bars[i].set_color('green')  # Green for strong binders\n",
    "\n",
    "    plt.tight_layout()\n",
    "    plt.show()"
   ]
  },
  {
   "cell_type": "code",
   "execution_count": 32,
   "metadata": {},
   "outputs": [
    {
     "data": {
      "image/png": "[encoded data removed]",
      "text/plain": [
       "<Figure size 1200x600 with 1 Axes>"
      ]
     },
     "metadata": {},
     "output_type": "display_data"
    }
   ],
   "source": [
    "plot_vinardo_scores(\"vinardo_scores.csv\")"
   ]
  },
  {
   "cell_type": "markdown",
   "metadata": {},
   "source": [
    "**Second phase of looking for best ligands**  \n",
    "*We are choosing best clusters an choosing more logands from each one in order to find some with binding better than -6.0 kcal/mol*"
   ]
  },
  {
   "cell_type": "code",
   "execution_count": 37,
   "metadata": {},
   "outputs": [],
   "source": [
    "random.seed(2134)\n",
    "def get_random_ligands_from_clusters2(clusters, all_ligands):\n",
    "    random_ligands2 = []\n",
    "    for cluster_id in {2,4,8,20}:\n",
    "        cluster_indices = clusters[cluster_id]\n",
    "        for _ in range(10):\n",
    "            random_idx = random.choice(cluster_indices)\n",
    "            random_ligands2.append(all_ligands[random_idx])\n",
    "    return random_ligands2\n",
    "\n",
    "\n",
    "random_ligands2 = get_random_ligands_from_clusters2(clusters, prepared_ligands)"
   ]
  },
  {
   "cell_type": "code",
   "execution_count": 38,
   "metadata": {},
   "outputs": [],
   "source": [
    "for i, mol in enumerate(random_ligands2):\n",
    "    fname = f\"./preprocessed_ligands2/ligand_{i+1}.pdbqt\"\n",
    "    mol_to_pdbqt(mol, fname)"
   ]
  },
  {
   "cell_type": "code",
   "execution_count": null,
   "metadata": {},
   "outputs": [],
   "source": [
    "run_docking(preprocessed_dir=\"preprocessed_ligands2\", docked_dir=\"docked_ligands2\", ligand_range=range(1,41))"
   ]
  },
  {
   "cell_type": "code",
   "execution_count": null,
   "metadata": {},
   "outputs": [],
   "source": [
    "extract_vinardo_scores(\"./docked_ligands2\", \"vinardo_scores2.csv\",list(range(1, 14)) + list(range(14, 40)))"
   ]
  },
  {
   "cell_type": "code",
   "execution_count": null,
   "metadata": {},
   "outputs": [],
   "source": [
    "plot_vinardo_scores(\"vinardo_scores2.csv\")"
   ]
  },
  {
   "cell_type": "code",
   "execution_count": 34,
   "metadata": {},
   "outputs": [
    {
     "name": "stdout",
     "output_type": "stream",
     "text": [
      "-5.99\n"
     ]
    },
    {
     "data": {
      "image/png": "[encoded data removed]",
      "text/plain": [
       "<Figure size 1200x600 with 1 Axes>"
      ]
     },
     "metadata": {},
     "output_type": "display_data"
    }
   ],
   "source": [
    "df = pd.read_csv(\"vinardo_scores.csv\")\n",
    "\n",
    "print(min(df['vinardo_score']))\n",
    "\n",
    "df = df.sort_values(\"ligand_number\")\n",
    "\n",
    "plt.figure(figsize=(12, 6))\n",
    "bars = plt.bar(df[\"ligand_number\"].astype(str), \n",
    "               df[\"vinardo_score\"],\n",
    "               color='#1f77b4')\n",
    "\n",
    "plt.axhline(y=-5.0, color='red', linestyle='--', linewidth=1, label='Threshold (-5.0 kcal/mol) - moderate binding')\n",
    "plt.axhline(y=-6.0, color='red', linestyle='--', linewidth=1, label='Threshold (-6.0 kcal/mol) - strong binding')\n",
    "plt.xlabel(\"Ligand Number\", fontsize=12)\n",
    "plt.ylabel(\"Vinardo Score (kcal/mol)\", fontsize=12)\n",
    "plt.title(\"Docking Results by Ligand Number\", fontsize=14, pad=20)\n",
    "\n",
    "plt.xticks(rotation=45, ha='right')\n",
    "plt.grid(axis='y', linestyle='--', alpha=0.3)\n",
    "plt.legend()\n",
    "\n",
    "# Highlight strong binder\n",
    "for i, row in df.iterrows():\n",
    "    if row['vinardo_score'] <= -5.0:\n",
    "        bars[i].set_color('lime')  # Lime for moderate binders\n",
    "    if row['vinardo_score'] <= -6.0:\n",
    "        bars[i].set_color('green')  # Green for strong binders\n",
    "\n",
    "plt.tight_layout()\n",
    "plt.show()"
   ]
  },
  {
   "cell_type": "markdown",
   "metadata": {},
   "source": [
    "**Third phase of choosing best ligands**"
   ]
  },
  {
   "cell_type": "code",
   "execution_count": 39,
   "metadata": {},
   "outputs": [],
   "source": [
    "random.seed(2134)\n",
    "def get_random_ligands_from_clusters3(clusters, all_ligands):\n",
    "    random_ligands2 = []\n",
    "    for cluster_id in {3,4}:\n",
    "        cluster_indices = clusters[cluster_id]\n",
    "        for _ in range(60):\n",
    "            random_idx = random.choice(cluster_indices)\n",
    "            random_ligands2.append(all_ligands[random_idx])\n",
    "    return random_ligands2\n",
    "\n",
    "\n",
    "random_ligands3 = get_random_ligands_from_clusters3(clusters, prepared_ligands)"
   ]
  },
  {
   "cell_type": "code",
   "execution_count": 40,
   "metadata": {},
   "outputs": [],
   "source": [
    "for i, mol in enumerate(random_ligands3):\n",
    "    fname = f\"./preprocessed_ligands3/ligand_{i+1}.pdbqt\"\n",
    "    mol_to_pdbqt(mol, fname)"
   ]
  },
  {
   "cell_type": "code",
   "execution_count": null,
   "metadata": {},
   "outputs": [],
   "source": [
    "run_docking(preprocessed_dir=\"preprocessed_ligands3\", docked_dir=\"docked_ligands3\", ligand_range=range(1,121))"
   ]
  },
  {
   "cell_type": "code",
   "execution_count": null,
   "metadata": {},
   "outputs": [],
   "source": [
    "extract_vinardo_scores(\"./docked_ligands3\", \"vinardo_scores3.csv\",list(range(1, 14)) + list(range(14, 121)))"
   ]
  },
  {
   "cell_type": "code",
   "execution_count": null,
   "metadata": {},
   "outputs": [],
   "source": [
    "plot_vinardo_scores(\"vinardo_scores3.csv\")"
   ]
  },
  {
   "cell_type": "markdown",
   "metadata": {},
   "source": [
    "**Fourth phase of choosing best ligands**"
   ]
  },
  {
   "cell_type": "code",
   "execution_count": 7,
   "metadata": {},
   "outputs": [],
   "source": [
    "random.seed(2134)\n",
    "def get_random_ligands_from_clusters3(clusters, all_ligands):\n",
    "    random_ligands2 = []\n",
    "    for cluster_id in {3,15}:\n",
    "        cluster_indices = clusters[cluster_id]\n",
    "        for _ in range(75):\n",
    "            random_idx = random.choice(cluster_indices)\n",
    "            random_ligands2.append(all_ligands[random_idx])\n",
    "    return random_ligands2\n",
    "\n",
    "\n",
    "random_ligands4 = get_random_ligands_from_clusters3(clusters, prepared_ligands)\n"
   ]
  },
  {
   "cell_type": "code",
   "execution_count": 8,
   "metadata": {},
   "outputs": [],
   "source": [
    "for i, mol in enumerate(random_ligands4):\n",
    "    fname = f\"./preprocessed_ligands4/ligand_{i+1}.pdbqt\"\n",
    "    mol_to_pdbqt(mol, fname)"
   ]
  },
  {
   "cell_type": "code",
   "execution_count": 9,
   "metadata": {},
   "outputs": [
    {
     "name": "stdout",
     "output_type": "stream",
     "text": [
      "Docking ligand 1...\n",
      "✅ Success: docked_ligands4\\docked_ligand_1.pdbqt\n",
      "Docking ligand 2...\n",
      "✅ Success: docked_ligands4\\docked_ligand_2.pdbqt\n",
      "Docking ligand 3...\n",
      "✅ Success: docked_ligands4\\docked_ligand_3.pdbqt\n",
      "Docking ligand 4...\n",
      "✅ Success: docked_ligands4\\docked_ligand_4.pdbqt\n",
      "Docking ligand 5...\n",
      "✅ Success: docked_ligands4\\docked_ligand_5.pdbqt\n",
      "Docking ligand 6...\n",
      "✅ Success: docked_ligands4\\docked_ligand_6.pdbqt\n",
      "Docking ligand 7...\n",
      "✅ Success: docked_ligands4\\docked_ligand_7.pdbqt\n",
      "Docking ligand 8...\n",
      "✅ Success: docked_ligands4\\docked_ligand_8.pdbqt\n",
      "Docking ligand 9...\n",
      "✅ Success: docked_ligands4\\docked_ligand_9.pdbqt\n",
      "Docking ligand 10...\n",
      "✅ Success: docked_ligands4\\docked_ligand_10.pdbqt\n",
      "Docking ligand 11...\n",
      "✅ Success: docked_ligands4\\docked_ligand_11.pdbqt\n",
      "Docking ligand 12...\n",
      "✅ Success: docked_ligands4\\docked_ligand_12.pdbqt\n",
      "Docking ligand 13...\n",
      "✅ Success: docked_ligands4\\docked_ligand_13.pdbqt\n",
      "Docking ligand 14...\n",
      "✅ Success: docked_ligands4\\docked_ligand_14.pdbqt\n",
      "Docking ligand 15...\n",
      "✅ Success: docked_ligands4\\docked_ligand_15.pdbqt\n",
      "Docking ligand 16...\n",
      "✅ Success: docked_ligands4\\docked_ligand_16.pdbqt\n",
      "Docking ligand 17...\n",
      "✅ Success: docked_ligands4\\docked_ligand_17.pdbqt\n",
      "Docking ligand 18...\n",
      "✅ Success: docked_ligands4\\docked_ligand_18.pdbqt\n",
      "Docking ligand 19...\n",
      "✅ Success: docked_ligands4\\docked_ligand_19.pdbqt\n",
      "Docking ligand 20...\n",
      "❌ Error docking ligand 20\n",
      "Docking ligand 21...\n",
      "✅ Success: docked_ligands4\\docked_ligand_21.pdbqt\n",
      "Docking ligand 22...\n",
      "✅ Success: docked_ligands4\\docked_ligand_22.pdbqt\n",
      "Docking ligand 23...\n",
      "✅ Success: docked_ligands4\\docked_ligand_23.pdbqt\n",
      "Docking ligand 24...\n",
      "✅ Success: docked_ligands4\\docked_ligand_24.pdbqt\n",
      "Docking ligand 25...\n",
      "✅ Success: docked_ligands4\\docked_ligand_25.pdbqt\n",
      "Docking ligand 26...\n",
      "✅ Success: docked_ligands4\\docked_ligand_26.pdbqt\n",
      "Docking ligand 27...\n",
      "✅ Success: docked_ligands4\\docked_ligand_27.pdbqt\n",
      "Docking ligand 28...\n",
      "✅ Success: docked_ligands4\\docked_ligand_28.pdbqt\n",
      "Docking ligand 29...\n",
      "✅ Success: docked_ligands4\\docked_ligand_29.pdbqt\n",
      "Docking ligand 30...\n",
      "✅ Success: docked_ligands4\\docked_ligand_30.pdbqt\n",
      "Docking ligand 31...\n",
      "✅ Success: docked_ligands4\\docked_ligand_31.pdbqt\n",
      "Docking ligand 32...\n",
      "✅ Success: docked_ligands4\\docked_ligand_32.pdbqt\n",
      "Docking ligand 33...\n",
      "✅ Success: docked_ligands4\\docked_ligand_33.pdbqt\n",
      "Docking ligand 34...\n",
      "✅ Success: docked_ligands4\\docked_ligand_34.pdbqt\n",
      "Docking ligand 35...\n",
      "✅ Success: docked_ligands4\\docked_ligand_35.pdbqt\n",
      "Docking ligand 36...\n",
      "✅ Success: docked_ligands4\\docked_ligand_36.pdbqt\n",
      "Docking ligand 37...\n",
      "✅ Success: docked_ligands4\\docked_ligand_37.pdbqt\n",
      "Docking ligand 38...\n",
      "✅ Success: docked_ligands4\\docked_ligand_38.pdbqt\n",
      "Docking ligand 39...\n",
      "✅ Success: docked_ligands4\\docked_ligand_39.pdbqt\n",
      "Docking ligand 40...\n",
      "✅ Success: docked_ligands4\\docked_ligand_40.pdbqt\n",
      "Docking ligand 41...\n",
      "✅ Success: docked_ligands4\\docked_ligand_41.pdbqt\n",
      "Docking ligand 42...\n",
      "✅ Success: docked_ligands4\\docked_ligand_42.pdbqt\n",
      "Docking ligand 43...\n",
      "✅ Success: docked_ligands4\\docked_ligand_43.pdbqt\n",
      "Docking ligand 44...\n",
      "✅ Success: docked_ligands4\\docked_ligand_44.pdbqt\n",
      "Docking ligand 45...\n",
      "✅ Success: docked_ligands4\\docked_ligand_45.pdbqt\n",
      "Docking ligand 46...\n",
      "✅ Success: docked_ligands4\\docked_ligand_46.pdbqt\n",
      "Docking ligand 47...\n",
      "✅ Success: docked_ligands4\\docked_ligand_47.pdbqt\n",
      "Docking ligand 48...\n",
      "✅ Success: docked_ligands4\\docked_ligand_48.pdbqt\n",
      "Docking ligand 49...\n",
      "✅ Success: docked_ligands4\\docked_ligand_49.pdbqt\n",
      "Docking ligand 50...\n",
      "✅ Success: docked_ligands4\\docked_ligand_50.pdbqt\n",
      "Docking ligand 51...\n",
      "✅ Success: docked_ligands4\\docked_ligand_51.pdbqt\n",
      "Docking ligand 52...\n",
      "✅ Success: docked_ligands4\\docked_ligand_52.pdbqt\n",
      "Docking ligand 53...\n",
      "✅ Success: docked_ligands4\\docked_ligand_53.pdbqt\n",
      "Docking ligand 54...\n",
      "✅ Success: docked_ligands4\\docked_ligand_54.pdbqt\n",
      "Docking ligand 55...\n",
      "✅ Success: docked_ligands4\\docked_ligand_55.pdbqt\n",
      "Docking ligand 56...\n",
      "✅ Success: docked_ligands4\\docked_ligand_56.pdbqt\n",
      "Docking ligand 57...\n",
      "✅ Success: docked_ligands4\\docked_ligand_57.pdbqt\n",
      "Docking ligand 58...\n",
      "✅ Success: docked_ligands4\\docked_ligand_58.pdbqt\n",
      "Docking ligand 59...\n",
      "✅ Success: docked_ligands4\\docked_ligand_59.pdbqt\n",
      "Docking ligand 60...\n",
      "✅ Success: docked_ligands4\\docked_ligand_60.pdbqt\n",
      "Docking ligand 61...\n",
      "✅ Success: docked_ligands4\\docked_ligand_61.pdbqt\n",
      "Docking ligand 62...\n",
      "✅ Success: docked_ligands4\\docked_ligand_62.pdbqt\n",
      "Docking ligand 63...\n",
      "✅ Success: docked_ligands4\\docked_ligand_63.pdbqt\n",
      "Docking ligand 64...\n",
      "✅ Success: docked_ligands4\\docked_ligand_64.pdbqt\n",
      "Docking ligand 65...\n",
      "✅ Success: docked_ligands4\\docked_ligand_65.pdbqt\n",
      "Docking ligand 66...\n",
      "✅ Success: docked_ligands4\\docked_ligand_66.pdbqt\n",
      "Docking ligand 67...\n",
      "✅ Success: docked_ligands4\\docked_ligand_67.pdbqt\n",
      "Docking ligand 68...\n",
      "✅ Success: docked_ligands4\\docked_ligand_68.pdbqt\n",
      "Docking ligand 69...\n",
      "✅ Success: docked_ligands4\\docked_ligand_69.pdbqt\n",
      "Docking ligand 70...\n",
      "✅ Success: docked_ligands4\\docked_ligand_70.pdbqt\n",
      "Docking ligand 71...\n",
      "✅ Success: docked_ligands4\\docked_ligand_71.pdbqt\n",
      "Docking ligand 72...\n",
      "✅ Success: docked_ligands4\\docked_ligand_72.pdbqt\n",
      "Docking ligand 73...\n",
      "✅ Success: docked_ligands4\\docked_ligand_73.pdbqt\n",
      "Docking ligand 74...\n",
      "✅ Success: docked_ligands4\\docked_ligand_74.pdbqt\n",
      "Docking ligand 75...\n",
      "✅ Success: docked_ligands4\\docked_ligand_75.pdbqt\n",
      "Docking ligand 76...\n",
      "✅ Success: docked_ligands4\\docked_ligand_76.pdbqt\n",
      "Docking ligand 77...\n",
      "✅ Success: docked_ligands4\\docked_ligand_77.pdbqt\n",
      "Docking ligand 78...\n",
      "✅ Success: docked_ligands4\\docked_ligand_78.pdbqt\n",
      "Docking ligand 79...\n",
      "✅ Success: docked_ligands4\\docked_ligand_79.pdbqt\n",
      "Docking ligand 80...\n",
      "✅ Success: docked_ligands4\\docked_ligand_80.pdbqt\n",
      "Docking ligand 81...\n",
      "✅ Success: docked_ligands4\\docked_ligand_81.pdbqt\n",
      "Docking ligand 82...\n",
      "✅ Success: docked_ligands4\\docked_ligand_82.pdbqt\n",
      "Docking ligand 83...\n",
      "✅ Success: docked_ligands4\\docked_ligand_83.pdbqt\n",
      "Docking ligand 84...\n",
      "✅ Success: docked_ligands4\\docked_ligand_84.pdbqt\n",
      "Docking ligand 85...\n",
      "✅ Success: docked_ligands4\\docked_ligand_85.pdbqt\n",
      "Docking ligand 86...\n",
      "✅ Success: docked_ligands4\\docked_ligand_86.pdbqt\n",
      "Docking ligand 87...\n",
      "✅ Success: docked_ligands4\\docked_ligand_87.pdbqt\n",
      "Docking ligand 88...\n",
      "✅ Success: docked_ligands4\\docked_ligand_88.pdbqt\n",
      "Docking ligand 89...\n",
      "✅ Success: docked_ligands4\\docked_ligand_89.pdbqt\n",
      "Docking ligand 90...\n",
      "✅ Success: docked_ligands4\\docked_ligand_90.pdbqt\n",
      "Docking ligand 91...\n",
      "✅ Success: docked_ligands4\\docked_ligand_91.pdbqt\n",
      "Docking ligand 92...\n",
      "✅ Success: docked_ligands4\\docked_ligand_92.pdbqt\n",
      "Docking ligand 93...\n",
      "✅ Success: docked_ligands4\\docked_ligand_93.pdbqt\n",
      "Docking ligand 94...\n",
      "✅ Success: docked_ligands4\\docked_ligand_94.pdbqt\n",
      "Docking ligand 95...\n",
      "✅ Success: docked_ligands4\\docked_ligand_95.pdbqt\n",
      "Docking ligand 96...\n",
      "✅ Success: docked_ligands4\\docked_ligand_96.pdbqt\n",
      "Docking ligand 97...\n",
      "✅ Success: docked_ligands4\\docked_ligand_97.pdbqt\n",
      "Docking ligand 98...\n",
      "✅ Success: docked_ligands4\\docked_ligand_98.pdbqt\n",
      "Docking ligand 99...\n",
      "✅ Success: docked_ligands4\\docked_ligand_99.pdbqt\n",
      "Docking ligand 100...\n",
      "✅ Success: docked_ligands4\\docked_ligand_100.pdbqt\n",
      "Docking ligand 101...\n",
      "✅ Success: docked_ligands4\\docked_ligand_101.pdbqt\n",
      "Docking ligand 102...\n",
      "✅ Success: docked_ligands4\\docked_ligand_102.pdbqt\n",
      "Docking ligand 103...\n",
      "✅ Success: docked_ligands4\\docked_ligand_103.pdbqt\n",
      "Docking ligand 104...\n",
      "✅ Success: docked_ligands4\\docked_ligand_104.pdbqt\n",
      "Docking ligand 105...\n",
      "✅ Success: docked_ligands4\\docked_ligand_105.pdbqt\n",
      "Docking ligand 106...\n",
      "✅ Success: docked_ligands4\\docked_ligand_106.pdbqt\n",
      "Docking ligand 107...\n",
      "✅ Success: docked_ligands4\\docked_ligand_107.pdbqt\n",
      "Docking ligand 108...\n",
      "✅ Success: docked_ligands4\\docked_ligand_108.pdbqt\n",
      "Docking ligand 109...\n",
      "✅ Success: docked_ligands4\\docked_ligand_109.pdbqt\n",
      "Docking ligand 110...\n",
      "✅ Success: docked_ligands4\\docked_ligand_110.pdbqt\n",
      "Docking ligand 111...\n",
      "✅ Success: docked_ligands4\\docked_ligand_111.pdbqt\n",
      "Docking ligand 112...\n",
      "✅ Success: docked_ligands4\\docked_ligand_112.pdbqt\n",
      "Docking ligand 113...\n",
      "✅ Success: docked_ligands4\\docked_ligand_113.pdbqt\n",
      "Docking ligand 114...\n",
      "✅ Success: docked_ligands4\\docked_ligand_114.pdbqt\n",
      "Docking ligand 115...\n",
      "✅ Success: docked_ligands4\\docked_ligand_115.pdbqt\n",
      "Docking ligand 116...\n",
      "✅ Success: docked_ligands4\\docked_ligand_116.pdbqt\n",
      "Docking ligand 117...\n",
      "✅ Success: docked_ligands4\\docked_ligand_117.pdbqt\n",
      "Docking ligand 118...\n",
      "✅ Success: docked_ligands4\\docked_ligand_118.pdbqt\n",
      "Docking ligand 119...\n",
      "✅ Success: docked_ligands4\\docked_ligand_119.pdbqt\n",
      "Docking ligand 120...\n",
      "✅ Success: docked_ligands4\\docked_ligand_120.pdbqt\n",
      "Docking ligand 121...\n",
      "✅ Success: docked_ligands4\\docked_ligand_121.pdbqt\n",
      "Docking ligand 122...\n",
      "✅ Success: docked_ligands4\\docked_ligand_122.pdbqt\n",
      "Docking ligand 123...\n",
      "✅ Success: docked_ligands4\\docked_ligand_123.pdbqt\n",
      "Docking ligand 124...\n",
      "✅ Success: docked_ligands4\\docked_ligand_124.pdbqt\n",
      "Docking ligand 125...\n",
      "✅ Success: docked_ligands4\\docked_ligand_125.pdbqt\n",
      "Docking ligand 126...\n",
      "✅ Success: docked_ligands4\\docked_ligand_126.pdbqt\n",
      "Docking ligand 127...\n",
      "✅ Success: docked_ligands4\\docked_ligand_127.pdbqt\n",
      "Docking ligand 128...\n",
      "✅ Success: docked_ligands4\\docked_ligand_128.pdbqt\n",
      "Docking ligand 129...\n",
      "✅ Success: docked_ligands4\\docked_ligand_129.pdbqt\n",
      "Docking ligand 130...\n",
      "✅ Success: docked_ligands4\\docked_ligand_130.pdbqt\n",
      "Docking ligand 131...\n",
      "✅ Success: docked_ligands4\\docked_ligand_131.pdbqt\n",
      "Docking ligand 132...\n",
      "✅ Success: docked_ligands4\\docked_ligand_132.pdbqt\n",
      "Docking ligand 133...\n",
      "✅ Success: docked_ligands4\\docked_ligand_133.pdbqt\n",
      "Docking ligand 134...\n",
      "✅ Success: docked_ligands4\\docked_ligand_134.pdbqt\n",
      "Docking ligand 135...\n",
      "✅ Success: docked_ligands4\\docked_ligand_135.pdbqt\n",
      "Docking ligand 136...\n",
      "✅ Success: docked_ligands4\\docked_ligand_136.pdbqt\n",
      "Docking ligand 137...\n",
      "✅ Success: docked_ligands4\\docked_ligand_137.pdbqt\n",
      "Docking ligand 138...\n",
      "✅ Success: docked_ligands4\\docked_ligand_138.pdbqt\n",
      "Docking ligand 139...\n",
      "✅ Success: docked_ligands4\\docked_ligand_139.pdbqt\n",
      "Docking ligand 140...\n",
      "✅ Success: docked_ligands4\\docked_ligand_140.pdbqt\n",
      "Docking ligand 141...\n",
      "✅ Success: docked_ligands4\\docked_ligand_141.pdbqt\n",
      "Docking ligand 142...\n",
      "✅ Success: docked_ligands4\\docked_ligand_142.pdbqt\n",
      "Docking ligand 143...\n",
      "✅ Success: docked_ligands4\\docked_ligand_143.pdbqt\n",
      "Docking ligand 144...\n",
      "✅ Success: docked_ligands4\\docked_ligand_144.pdbqt\n",
      "Docking ligand 145...\n",
      "✅ Success: docked_ligands4\\docked_ligand_145.pdbqt\n",
      "Docking ligand 146...\n",
      "✅ Success: docked_ligands4\\docked_ligand_146.pdbqt\n",
      "Docking ligand 147...\n",
      "✅ Success: docked_ligands4\\docked_ligand_147.pdbqt\n",
      "Docking ligand 148...\n",
      "✅ Success: docked_ligands4\\docked_ligand_148.pdbqt\n",
      "Docking ligand 149...\n",
      "✅ Success: docked_ligands4\\docked_ligand_149.pdbqt\n",
      "Docking ligand 150...\n",
      "✅ Success: docked_ligands4\\docked_ligand_150.pdbqt\n",
      "\n",
      "🎉 Docking complete! Results saved to 'docked_ligands4/'\n"
     ]
    }
   ],
   "source": [
    "# Konfiguracja\n",
    "RECEPTOR = \"5cno_clean.pdbqt\"\n",
    "PREPROCESSED_DIR = \"preprocessed_ligands4\"\n",
    "DOCKED_DIR = \"docked_ligands4\"\n",
    "VINA_EXEC = \"vina.exe\"  \n",
    "\n",
    "# Parametry dockowania\n",
    "CENTER_X = -30\n",
    "CENTER_Y = -10\n",
    "CENTER_Z = 17\n",
    "SIZE_X = 10\n",
    "SIZE_Y = 10\n",
    "SIZE_Z = 10\n",
    "SCORING = \"vinardo\"\n",
    "EXHAUSTIVENESS = 24\n",
    "\n",
    "os.makedirs(DOCKED_DIR, exist_ok=True)\n",
    "\n",
    "for i in range(1,151):\n",
    "    ligand = os.path.join(PREPROCESSED_DIR, f\"ligand_{i}.pdbqt\")\n",
    "    output = os.path.join(DOCKED_DIR, f\"docked_ligand_{i}.pdbqt\")\n",
    "\n",
    "    print(f\"Docking ligand {i}...\")\n",
    "\n",
    "    if not os.path.isfile(ligand):\n",
    "        print(f\"⚠️ Warning: {ligand} not found, skipping\")\n",
    "        continue\n",
    "\n",
    "    result = subprocess.run([\n",
    "        VINA_EXEC,\n",
    "        \"--receptor\", RECEPTOR,\n",
    "        \"--ligand\", ligand,\n",
    "        \"--center_x\", str(CENTER_X),\n",
    "        \"--center_y\", str(CENTER_Y),\n",
    "        \"--center_z\", str(CENTER_Z),\n",
    "        \"--size_x\", str(SIZE_X),\n",
    "        \"--size_y\", str(SIZE_Y),\n",
    "        \"--size_z\", str(SIZE_Z),\n",
    "        \"--scoring\", SCORING,\n",
    "        \"--exhaustiveness\", str(EXHAUSTIVENESS),\n",
    "        \"--out\", output\n",
    "    ])\n",
    "\n",
    "    if result.returncode == 0:\n",
    "        print(f\"✅ Success: {output}\")\n",
    "    else:\n",
    "        print(f\"❌ Error docking ligand {i}\")\n",
    "\n",
    "print(f\"\\n🎉 Docking complete! Results saved to '{DOCKED_DIR}/'\")"
   ]
  },
  {
   "cell_type": "code",
   "execution_count": 20,
   "metadata": {},
   "outputs": [
    {
     "name": "stdout",
     "output_type": "stream",
     "text": [
      "Warning: ./docked_ligands4/docked_ligand_20.pdbqt not found, skipping\n",
      "✅ Results saved to vinardo_scores4.csv\n"
     ]
    }
   ],
   "source": [
    "MAX_LIGAND =150\n",
    "OUTPUT = \"vinardo_scores4.csv\"\n",
    "\n",
    "# Write CSV header\n",
    "with open(OUTPUT, mode='w', newline='') as f:\n",
    "    writer = csv.writer(f)\n",
    "    writer.writerow([\"ligand_number\", \"vinardo_score\"])\n",
    "\n",
    "    for i in list(range(1, 70)) + list(range(73, 74)):\n",
    "        file = f\"./docked_ligands4/docked_ligand_{i}.pdbqt\"\n",
    "        if os.path.isfile(file):\n",
    "            with open(file, 'r') as pdbqt_file:\n",
    "                for line in pdbqt_file:\n",
    "                    if line.startswith(\"REMARK VINA RESULT\"):\n",
    "                        parts = line.strip().split()\n",
    "                        if len(parts) >= 4:\n",
    "                            score = parts[3]\n",
    "                            writer.writerow([i, score])\n",
    "                        break\n",
    "        else:\n",
    "            print(f\"Warning: {file} not found, skipping\")\n",
    "\n",
    "print(f\"✅ Results saved to {OUTPUT}\")"
   ]
  },
  {
   "cell_type": "code",
   "execution_count": 23,
   "metadata": {},
   "outputs": [
    {
     "name": "stdout",
     "output_type": "stream",
     "text": [
      "Warning: ./docked_ligands4\\docked_ligand_20.pdbqt not found, skipping\n",
      "✅ Results saved to vinardo_scores4.csv\n"
     ]
    }
   ],
   "source": [
    "\n",
    "\n",
    "extract_vinardo_scores();\n"
   ]
  },
  {
   "cell_type": "code",
   "execution_count": 24,
   "metadata": {},
   "outputs": [
    {
     "name": "stdout",
     "output_type": "stream",
     "text": [
      "-6.161\n"
     ]
    },
    {
     "data": {
      "image/png": "[encoded data removed]",
      "text/plain": [
       "<Figure size 1200x600 with 1 Axes>"
      ]
     },
     "metadata": {},
     "output_type": "display_data"
    }
   ],
   "source": [
    "df = pd.read_csv(\"vinardo_scores4.csv\")\n",
    "print(min(df['vinardo_score']))\n",
    "\n",
    "df = df.sort_values(\"ligand_number\")\n",
    "\n",
    "plt.figure(figsize=(12, 6))\n",
    "bars = plt.bar(df[\"ligand_number\"].astype(str), \n",
    "               df[\"vinardo_score\"],\n",
    "               color='#1f77b4')\n",
    "\n",
    "plt.axhline(y=-5.0, color='red', linestyle='--', linewidth=1, label='Threshold (-5.0 kcal/mol) - moderate binding')\n",
    "plt.axhline(y=-6.0, color='red', linestyle='--', linewidth=1, label='Threshold (-6.0 kcal/mol) - strong binding')\n",
    "\n",
    "plt.xlabel(\"Ligand Number\", fontsize=12)\n",
    "plt.ylabel(\"Vinardo Score (kcal/mol)\", fontsize=12)\n",
    "plt.title(\"Docking Results by Ligand Number\", fontsize=14, pad=20)\n",
    "\n",
    "plt.xticks(rotation=45, ha='right')\n",
    "plt.grid(axis='y', linestyle='--', alpha=0.3)\n",
    "plt.legend()\n",
    "\n",
    "# Highlight strong binder\n",
    "for i, row in df.iterrows():\n",
    "    if row['vinardo_score'] <= -5.0:\n",
    "        bars[i].set_color('lime')  # Lime for moderate binders\n",
    "    if row['vinardo_score'] <= -6.0:\n",
    "        bars[i].set_color('green')  # Green for strong binders\n",
    "\n",
    "plt.tight_layout()\n",
    "plt.show()"
   ]
  },
  {
   "cell_type": "markdown",
   "metadata": {},
   "source": [
    "***Chosen ligands:*** <br> Number 66 from phase 4 <br> Number 8 from phase 1 <br> Number 14 from phase 3   "
   ]
  },
  {
   "cell_type": "markdown",
   "metadata": {},
   "source": []
  }
 ],
 "metadata": {
  "kernelspec": {
   "display_name": "base",
   "language": "python",
   "name": "python3"
  },
  "language_info": {
   "codemirror_mode": {
    "name": "ipython",
    "version": 3
   },
   "file_extension": ".py",
   "mimetype": "text/x-python",
   "name": "python",
   "nbconvert_exporter": "python",
   "pygments_lexer": "ipython3",
   "version": "3.11.5"
  }
 },
 "nbformat": 4,
 "nbformat_minor": 2
}
