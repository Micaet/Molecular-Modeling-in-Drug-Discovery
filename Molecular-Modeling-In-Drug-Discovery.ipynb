{
 "cells": [
  {
   "cell_type": "markdown",
   "source": [
    "# **Stage 1**\n",
    "### **Protein and ligand library selection, protein and ligand preparation**"
   ],
   "metadata": {
    "collapsed": false
   }
  },
  {
   "cell_type": "markdown",
   "source": [
    "**Choosing the protein**\n",
    "\n",
    "For this project we have chosen the 5cno protein which can be downloaded at: <br>\n",
    "https://www.rcsb.org/structure/5CNO <br>\n",
    "The protein is saved in this repo as 5cno.pdb.\n",
    "Using PyMOL we have removed solvent, removed organic and added hydrogens. \n",
    "The prepared 5cno is saved in this repo as 5cno_prepared.pdb. \n",
    "\n",
    "**Choosing the ligand library**\n",
    "\n",
    "We have chosen the ligand library available for download at: <br>\n",
    "https://enamine.net/compound-libraries/targeted-libraries/kinase-library <br>\n",
    "The zipped ligand library is saved in this repo as Enamine_Kinase_Library_plated.zip.\n",
    "Due to limitations of our personal hardware we have randomly chosen 10k ligands using the sampling.py script\n",
    "and saved the output as sampled_ligands.sdf. <br>\n",
    "\n",
    "**Importing necessary libraries**"
   ],
   "metadata": {
    "collapsed": false
   }
  },
  {
   "cell_type": "code",
   "execution_count": 1,
   "metadata": {},
   "outputs": [],
   "source": [
    "from rdkit import Chem\n",
    "from rdkit.Chem import AllChem, rdMolDescriptors\n",
    "from rdkit.Chem.rdMolAlign import GetBestRMS\n",
    "from rdkit.SimDivFilters.rdSimDivPickers import MaxMinPicker\n",
    "from rdkit.ML.Cluster import Butina\n",
    "from rdkit import DataStructs\n",
    "import random\n",
    "import numpy as np\n",
    "import json\n",
    "from openbabel import pybel\n",
    "import pandas as pd\n",
    "import matplotlib.pyplot as plt\n",
    "import subprocess"
   ]
  },
  {
   "cell_type": "markdown",
   "metadata": {},
   "source": [
    "**Getting the geometric centroid of docking box**"
   ]
  },
  {
   "cell_type": "code",
   "execution_count": 2,
   "metadata": {},
   "outputs": [
    {
     "name": "stdout",
     "output_type": "stream",
     "text": [
      "Ligand centroid coordinates (x, y, z): [-48.405 -37.514  19.017]\n"
     ]
    }
   ],
   "source": [
    "mol = Chem.MolFromPDBFile(\"5cno.pdb\", removeHs=False)\n",
    "residues = Chem.GetMolFrags(mol, asMols=True, sanitizeFrags=False)\n",
    "\n",
    "ligand = min(residues, key=lambda x: x.GetNumAtoms())\n",
    "\n",
    "import numpy as np\n",
    "\n",
    "def get_centroid(mol):\n",
    "    \"\"\"Calculate the geometric center (centroid) of a molecule.\"\"\"\n",
    "    conf = mol.GetConformer()\n",
    "    coords = np.array([conf.GetAtomPosition(i) for i in range(mol.GetNumAtoms())])\n",
    "    return np.mean(coords, axis=0)\n",
    "\n",
    "ligand_centroid = get_centroid(ligand)\n",
    "print(f\"Ligand centroid coordinates (x, y, z): {ligand_centroid}\")"
   ]
  },
  {
   "cell_type": "markdown",
   "metadata": {},
   "source": [
    "**Converting the protein file to .pdbqt for AutoDock Vina compatibility**"
   ]
  },
  {
   "cell_type": "code",
   "execution_count": 3,
   "metadata": {},
   "outputs": [
    {
     "name": "stdout",
     "output_type": "stream",
     "text": [
      "Converting 5cno_prepared.pdb to 5cno_clean.pdbqt...\n",
      "Successfully created 5cno_clean.pdbqt\n"
     ]
    },
    {
     "name": "stderr",
     "output_type": "stream",
     "text": [
      "1 molecule converted\n"
     ]
    },
    {
     "data": {
      "text/plain": [
       "CompletedProcess(args=['./convert_to_pdbqt.sh'], returncode=0)"
      ]
     },
     "execution_count": 3,
     "metadata": {},
     "output_type": "execute_result"
    }
   ],
   "source": [
    "subprocess.run([\"./convert_to_pdbqt.sh\"], check=True)"
   ]
  },
  {
   "cell_type": "markdown",
   "metadata": {},
   "source": [
    "Loading the sampled ligands and clustering them based on their tanimoto similarity. Then adding hydrogens to the sampled ligands. Charges will be added later, due to future format conversions.\n",
    "We will perform docking on one representative of each cluster, again, due to technical limitations. We will later dock the members of the clusters of top performers."
   ]
  },
  {
   "cell_type": "code",
   "execution_count": null,
   "metadata": {},
   "outputs": [],
   "source": [
    "# loading and embedding ligands from the .sdf file\n",
    "def load_3d_ligands(sdf_file):\n",
    "    suppl = Chem.SDMolSupplier(sdf_file, removeHs=False)\n",
    "    ligands = []\n",
    "    for mol in suppl:\n",
    "        if mol is None:\n",
    "            continue\n",
    "        mol = Chem.AddHs(mol)\n",
    "        if AllChem.EmbedMolecule(mol, AllChem.ETKDG()) != 0:\n",
    "            print(\"Embedding failed for a molecule, skipping...\")\n",
    "            continue\n",
    "        AllChem.UFFOptimizeMolecule(mol)\n",
    "        ligands.append(mol)\n",
    "    return ligands\n",
    "\n",
    "# Computing MACCS fingerprints\n",
    "def get_fingerprints(mols):\n",
    "    return [rdMolDescriptors.GetMACCSKeysFingerprint(mol) for mol in mols]\n",
    "\n",
    "# Computing Tanimoto similarity matrix\n",
    "def tanimoto_similarity(fp_list):\n",
    "    size = len(fp_list)\n",
    "    sim_matrix = np.zeros((size, size))\n",
    "    for i in range(size):\n",
    "        for j in range(i + 1, size):\n",
    "            sim_matrix[i, j] = DataStructs.TanimotoSimilarity(fp_list[i], fp_list[j])\n",
    "            sim_matrix[j, i] = sim_matrix[i, j]\n",
    "    return sim_matrix\n",
    "\n",
    "# Butina clusterisation\n",
    "def cluster_ligands(fp_list, cutoff=0.5):\n",
    "    dists = []\n",
    "    size = len(fp_list)\n",
    "    for i in range(1, size):\n",
    "        for j in range(i):\n",
    "            dists.append(1 - DataStructs.TanimotoSimilarity(fp_list[i], fp_list[j]))\n",
    "    clusters = Butina.ClusterData(dists, size, cutoff, isDistData=True)\n",
    "    return clusters\n",
    "\n",
    "# Main function\n",
    "def process_ligands(sdf_file):\n",
    "    mols = load_3d_ligands(sdf_file)\n",
    "    fps = get_fingerprints(mols)\n",
    "    clusters = cluster_ligands(fps)\n",
    "    prepared_mols = add_charges(mols)\n",
    "    return clusters, prepared_mols\n",
    "\n",
    "sdf_file = \"sampled_ligands.sdf\"\n",
    "clusters, prepared_ligands = process_ligands(sdf_file)\n"
   ]
  },
  {
   "cell_type": "markdown",
   "metadata": {},
   "source": [
    "**Number of clusters:**"
   ]
  },
  {
   "cell_type": "code",
   "execution_count": null,
   "metadata": {},
   "outputs": [],
   "source": [
    "len(clusters)"
   ]
  },
  {
   "cell_type": "markdown",
   "metadata": {},
   "source": [
    "**Saving the clusters as clusters.json**"
   ]
  },
  {
   "cell_type": "code",
   "execution_count": null,
   "metadata": {},
   "outputs": [],
   "source": [
    "def save_clusters_to_json(clusters, filename):\n",
    "    # Convert tuple of tuples to list of lists for JSON serialization\n",
    "    clusters_list = [list(cluster) for cluster in clusters]\n",
    "    with open(filename, \"w\") as f:\n",
    "        json.dump(clusters_list, f, indent=4)\n",
    "\n",
    "save_clusters_to_json(clusters, \"clusters.json\")\n",
    "\n",
    "# To load run:\n",
    "# def load_clusters_from_json(filename):\n",
    "#     with open(filename, \"r\") as f:\n",
    "#         clusters_list = json.load(f)\n",
    "#     # Convert each inner list back to a tuple (optional)a\n",
    "#     clusters = tuple(tuple(cluster) for cluster in clusters_list)\n",
    "#     return clusters"
   ]
  },
  {
   "cell_type": "markdown",
   "metadata": {},
   "source": [
    "**Choosing a random ligand from each cluster**"
   ]
  },
  {
   "cell_type": "code",
   "execution_count": null,
   "metadata": {},
   "outputs": [],
   "source": [
    "def get_random_ligands_from_clusters(clusters, all_ligands):\n",
    "    random_ligands = []\n",
    "    for cluster in clusters:\n",
    "        # Select a random index from this cluster\n",
    "        random_idx = random.choice(cluster)\n",
    "        # Get the corresponding ligand\n",
    "        random_ligands.append(all_ligands[random_idx])\n",
    "    return random_ligands\n",
    "\n",
    "random_ligands = get_random_ligands_from_clusters(clusters, prepared_ligands)"
   ]
  },
  {
   "cell_type": "markdown",
   "metadata": {},
   "source": [
    "**Saving the drawn ligands into .pdbqt files for AutoDock Vina**"
   ]
  },
  {
   "cell_type": "code",
   "execution_count": null,
   "metadata": {},
   "outputs": [],
   "source": [
    "def mol_to_pdbqt(mol, filename):\n",
    "    if mol.GetNumConformers() == 0:\n",
    "        raise ValueError(f\"Molecule has no conformers: {filename}\")\n",
    "    \n",
    "    # Convert RDKit Mol to MOL block\n",
    "    mol_block = Chem.MolToMolBlock(mol)\n",
    "    \n",
    "    # Load the MOL block into Open Babel\n",
    "    obmol = pybel.readstring(\"mol\", mol_block)\n",
    "    \n",
    "    # Calculate Gasteiger charges\n",
    "    charge_model = pybel.ob.OBChargeModel.FindType(\"gasteiger\")\n",
    "    charge_model.ComputeCharges(obmol.OBMol)\n",
    "    \n",
    "    # Write the molecule to a PDBQT file\n",
    "    obmol.write(\"pdbqt\", filename, overwrite=True)\n",
    "\n",
    "# Save all prepared ligands\n",
    "for i, mol in enumerate(random_ligands):\n",
    "    fname = f\"./preprocessed_ligands/ligand_{i+1}.pdbqt\"\n",
    "    mol_to_pdbqt(mol, fname)"
   ]
  },
  {
   "cell_type": "markdown",
   "source": [
    "# **Stage 2**\n",
    "### **Virtual screening with molecular docking**"
   ],
   "metadata": {
    "collapsed": false
   }
  },
  {
   "cell_type": "markdown",
   "metadata": {},
   "source": [
    "**Docking**"
   ]
  },
  {
   "cell_type": "code",
   "execution_count": null,
   "metadata": {},
   "outputs": [],
   "source": [
    "subprocess.run([\"./docking.sh\"], check=True)"
   ]
  },
  {
   "cell_type": "markdown",
   "metadata": {},
   "source": [
    "**Extracting results**"
   ]
  },
  {
   "cell_type": "code",
   "execution_count": 5,
   "metadata": {},
   "outputs": [
    {
     "name": "stdout",
     "output_type": "stream",
     "text": [
      "Results saved to vinardo_scores.csv\n"
     ]
    },
    {
     "data": {
      "text/plain": [
       "CompletedProcess(args=['./extract_results.sh'], returncode=0)"
      ]
     },
     "execution_count": 5,
     "metadata": {},
     "output_type": "execute_result"
    }
   ],
   "source": [
    "subprocess.run([\"./extract_results.sh\"], check=True)"
   ]
  },
  {
   "cell_type": "markdown",
   "metadata": {},
   "source": [
    "**Plotting the results**"
   ]
  },
  {
   "cell_type": "code",
   "execution_count": null,
   "metadata": {},
   "outputs": [
    {
     "data": {
      "image/png": "[encoded data removed]",
      "text/plain": [
       "<Figure size 1200x600 with 1 Axes>"
      ]
     },
     "metadata": {},
     "output_type": "display_data"
    }
   ],
   "source": [
    "df = pd.read_csv(\"vinardo_scores.csv\")\n",
    "\n",
    "df = df.sort_values(\"ligand_number\")\n",
    "\n",
    "plt.figure(figsize=(12, 6))\n",
    "bars = plt.bar(df[\"ligand_number\"].astype(str), \n",
    "               df[\"vinardo_score\"],\n",
    "               color='#1f77b4')\n",
    "\n",
    "plt.axhline(y=-5.0, color='red', linestyle='--', linewidth=1, label='Threshold (-5.0 kcal/mol) - moderate binding')\n",
    "plt.axhline(y=-6.0, color='red', linestyle='--', linewidth=1, label='Threshold (-6.0 kcal/mol) - strong binding')\n",
    "plt.xlabel(\"Ligand Number\", fontsize=12)\n",
    "plt.ylabel(\"Vinardo Score (kcal/mol)\", fontsize=12)\n",
    "plt.title(\"Docking Results by Ligand Number\", fontsize=14, pad=20)\n",
    "\n",
    "plt.xticks(rotation=45, ha='right')\n",
    "plt.grid(axis='y', linestyle='--', alpha=0.3)\n",
    "plt.legend()\n",
    "\n",
    "# Highlight strong binder\n",
    "for i, row in df.iterrows():\n",
    "    if row['vinardo_score'] <= -5.0:\n",
    "        bars[i].set_color('lime')  # Lime for moderate binders\n",
    "    if row['vinardo_score'] <= -6.0:\n",
    "        bars[i].set_color('green')  # Green for strong binders\n",
    "\n",
    "plt.tight_layout()\n",
    "plt.show()"
   ]
  }
 ],
 "metadata": {
  "kernelspec": {
   "display_name": "base",
   "language": "python",
   "name": "python3"
  },
  "language_info": {
   "codemirror_mode": {
    "name": "ipython",
    "version": 3
   },
   "file_extension": ".py",
   "mimetype": "text/x-python",
   "name": "python",
   "nbconvert_exporter": "python",
   "pygments_lexer": "ipython3",
   "version": "3.12.2"
  }
 },
 "nbformat": 4,
 "nbformat_minor": 2
}
