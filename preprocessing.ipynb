{
 "cells": [
  {
   "cell_type": "code",
   "execution_count": 1,
   "metadata": {},
   "outputs": [
    {
     "name": "stderr",
     "output_type": "stream",
     "text": [
      "/home/antoni/miniconda3/lib/python3.12/site-packages/MDAnalysis/coordinates/PDB.py:777: UserWarning: Unit cell dimensions not found. CRYST1 record set to unitary values.\n",
      "  warnings.warn(\"Unit cell dimensions not found. \"\n",
      "/home/antoni/miniconda3/lib/python3.12/site-packages/MDAnalysis/coordinates/PDB.py:1154: UserWarning: Found no information for attr: 'formalcharges' Using default value of '0'\n",
      "  warnings.warn(\"Found no information for attr: '{}'\"\n"
     ]
    }
   ],
   "source": [
    "from Bio.PDB import PDBParser, PDBIO, Select\n",
    "import MDAnalysis as mda\n",
    "\n",
    "class RemoveWaters(Select):\n",
    "    \"\"\"Class to remove water molecules from a PDB file.\"\"\"\n",
    "    def accept_residue(self, residue):\n",
    "        return residue.get_resname() not in [\"HOH\", \"WAT\"]\n",
    "\n",
    "# Step 1: Remove waters\n",
    "pdb_file = \"5cno.pdb\"\n",
    "parser = PDBParser(QUIET=True)\n",
    "structure = parser.get_structure(\"protein\", pdb_file)\n",
    "\n",
    "io = PDBIO()\n",
    "io.set_structure(structure)\n",
    "io.save(\"5cno_no_waters.pdb\", select=RemoveWaters())\n",
    "\n",
    "# Step 2: Add hydrogens\n",
    "u = mda.Universe(\"5cno_no_waters.pdb\")\n",
    "protein = u.select_atoms(\"protein\")\n",
    "protein.write(\"5cno_preprocessed.pdb\")"
   ]
  },
  {
   "cell_type": "code",
   "execution_count": null,
   "metadata": {},
   "outputs": [],
   "source": []
  }
 ],
 "metadata": {
  "kernelspec": {
   "display_name": "base",
   "language": "python",
   "name": "python3"
  },
  "language_info": {
   "codemirror_mode": {
    "name": "ipython",
    "version": 3
   },
   "file_extension": ".py",
   "mimetype": "text/x-python",
   "name": "python",
   "nbconvert_exporter": "python",
   "pygments_lexer": "ipython3",
   "version": "3.12.2"
  }
 },
 "nbformat": 4,
 "nbformat_minor": 2
}
